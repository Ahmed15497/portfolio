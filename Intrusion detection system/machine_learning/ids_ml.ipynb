{
  "cells": [
    {
      "cell_type": "markdown",
      "metadata": {
        "id": "UFmfjKsCE9JD"
      },
      "source": [
        "# **Reading dataset**"
      ]
    },
    {
      "cell_type": "code",
      "execution_count": null,
      "metadata": {
        "id": "cJ5SJqPk_fPc"
      },
      "outputs": [],
      "source": [
        "import pandas as pd\n",
        "import os"
      ]
    },
    {
      "cell_type": "code",
      "execution_count": null,
      "metadata": {
        "id": "v3zkejsLkBuV"
      },
      "outputs": [],
      "source": [
        "file_paths = list(filter(lambda x: x.endswith('.csv'), os.listdir('mininet-idsL')))"
      ]
    },
    {
      "cell_type": "code",
      "execution_count": null,
      "metadata": {
        "id": "3yZYzLMXk2lL"
      },
      "outputs": [],
      "source": [
        "file_paths = list(map(lambda x: 'mininet-idsL/'+x, file_paths))"
      ]
    },
    {
      "cell_type": "code",
      "execution_count": null,
      "metadata": {
        "colab": {
          "base_uri": "https://localhost:8080/"
        },
        "id": "ecYja6GGnskM",
        "outputId": "4482fb57-84b7-40e0-a456-8343245dc180"
      },
      "outputs": [
        {
          "data": {
            "text/plain": [
              "['mininet-idsL/normal_ditg.csv',\n",
              " 'mininet-idsL/attack_ddos_udp.csv',\n",
              " 'mininet-idsL/attack_os_port_scan.csv',\n",
              " 'mininet-idsL/ddos_attack_scapy_new.csv',\n",
              " 'mininet-idsL/attack_bruteforce.csv',\n",
              " 'mininet-idsL/normal_internet3.csv',\n",
              " 'mininet-idsL/attack_samba.csv',\n",
              " 'mininet-idsL/normal_internet1.csv',\n",
              " 'mininet-idsL/attack_ddos_tcp.csv',\n",
              " 'mininet-idsL/normal_iperf.csv',\n",
              " 'mininet-idsL/attack_sql_injection.csv',\n",
              " 'mininet-idsL/attack_cmd.csv',\n",
              " 'mininet-idsL/attack_vnc.csv',\n",
              " 'mininet-idsL/normal_internet2.csv']"
            ]
          },
          "execution_count": 6,
          "metadata": {},
          "output_type": "execute_result"
        }
      ],
      "source": [
        "file_paths"
      ]
    },
    {
      "cell_type": "code",
      "execution_count": null,
      "metadata": {
        "id": "T_G5lcPFAVEo"
      },
      "outputs": [],
      "source": [
        "columns = [\n",
        "          'src',\n",
        "          'dst',\n",
        "          'table_id',\n",
        "          'ip_bytes',\n",
        "          'ip_packet',\n",
        "          'ip_duration',\n",
        "          'in_port',\n",
        "          'dl_dst',\n",
        "          'port_bytes',\n",
        "          'port_packet',\n",
        "          'port_flow_count',\n",
        "          'table_active_count',\n",
        "          'table_lookup_count',\n",
        "          'table_matched_count',\n",
        "          'port_rx_packets',\n",
        "          'port_tx_packets',\n",
        "          'port_rx_bytes',\n",
        "          'port_tx_bytes',\n",
        "          'port_rx_dropped',\n",
        "          'port_tx_dropped',\n",
        "          'port_rx_errors',\n",
        "          'port_tx_errors',\n",
        "          'port_rx_frame_err',\n",
        "          'port_rx_over_err',\n",
        "          'port_rx_crc_err',\n",
        "          'port_collisions',\n",
        "          'port_duration_sec'\n",
        "\n",
        "]\n",
        "\n",
        "\n"
      ]
    },
    {
      "cell_type": "code",
      "execution_count": null,
      "metadata": {
        "id": "IrZCZvv4n__i"
      },
      "outputs": [],
      "source": [
        "df = pd.DataFrame([])\n",
        "for path in file_paths:\n",
        "  df_part = pd.read_csv(path, header=None)\n",
        "  df_part.columns = columns\n",
        "  label = path.split('.')[-2].split('/')[-1]\n",
        "  label = ''.join(list(filter(lambda x: not(x.isdigit()), label)))\n",
        "  df_part['label'] = label\n",
        "  df = pd.concat([df, df_part])\n",
        "  del df_part\n",
        "  #break"
      ]
    },
    {
      "cell_type": "code",
      "execution_count": null,
      "metadata": {
        "colab": {
          "base_uri": "https://localhost:8080/"
        },
        "id": "49juRuG0oL5a",
        "outputId": "b0b76d18-2d32-4581-9c1e-778a6958391f"
      },
      "outputs": [
        {
          "data": {
            "text/plain": [
              "array(['normal_ditg', 'attack_ddos_udp', 'attack_os_port_scan',\n",
              "       'ddos_attack_scapy_new', 'attack_bruteforce', 'normal_internet',\n",
              "       'attack_samba', 'attack_ddos_tcp', 'normal_iperf',\n",
              "       'attack_sql_injection', 'attack_cmd', 'attack_vnc'], dtype=object)"
            ]
          },
          "execution_count": 9,
          "metadata": {},
          "output_type": "execute_result"
        }
      ],
      "source": [
        "df['label'].unique()"
      ]
    },
    {
      "cell_type": "markdown",
      "metadata": {
        "id": "KtyQBVGuuILE"
      },
      "source": [
        "# **EDA**"
      ]
    },
    {
      "cell_type": "code",
      "execution_count": null,
      "metadata": {
        "colab": {
          "base_uri": "https://localhost:8080/"
        },
        "id": "ny8K3SbJuJqn",
        "outputId": "8c825f71-cdc3-4892-bc17-d684bcb7710e"
      },
      "outputs": [
        {
          "name": "stdout",
          "output_type": "stream",
          "text": [
            "<class 'pandas.core.frame.DataFrame'>\n",
            "Int64Index: 600643 entries, 0 to 4571\n",
            "Data columns (total 28 columns):\n",
            " #   Column               Non-Null Count   Dtype  \n",
            "---  ------               --------------   -----  \n",
            " 0   src                  600640 non-null  object \n",
            " 1   dst                  600640 non-null  object \n",
            " 2   table_id             600640 non-null  float64\n",
            " 3   ip_bytes             600640 non-null  float64\n",
            " 4   ip_packet            600640 non-null  float64\n",
            " 5   ip_duration          600640 non-null  float64\n",
            " 6   in_port              600640 non-null  float64\n",
            " 7   dl_dst               600640 non-null  object \n",
            " 8   port_bytes           600639 non-null  float64\n",
            " 9   port_packet          600639 non-null  float64\n",
            " 10  port_flow_count      600639 non-null  float64\n",
            " 11  table_active_count   600639 non-null  float64\n",
            " 12  table_lookup_count   600639 non-null  float64\n",
            " 13  table_matched_count  600639 non-null  float64\n",
            " 14  port_rx_packets      600639 non-null  float64\n",
            " 15  port_tx_packets      600639 non-null  float64\n",
            " 16  port_rx_bytes        600639 non-null  float64\n",
            " 17  port_tx_bytes        600639 non-null  float64\n",
            " 18  port_rx_dropped      600639 non-null  float64\n",
            " 19  port_tx_dropped      600639 non-null  float64\n",
            " 20  port_rx_errors       600639 non-null  float64\n",
            " 21  port_tx_errors       600639 non-null  float64\n",
            " 22  port_rx_frame_err    600639 non-null  float64\n",
            " 23  port_rx_over_err     600639 non-null  float64\n",
            " 24  port_rx_crc_err      600639 non-null  float64\n",
            " 25  port_collisions      600639 non-null  float64\n",
            " 26  port_duration_sec    600639 non-null  float64\n",
            " 27  label                600643 non-null  object \n",
            "dtypes: float64(24), object(4)\n",
            "memory usage: 132.9+ MB\n"
          ]
        }
      ],
      "source": [
        "df.info()"
      ]
    },
    {
      "cell_type": "code",
      "execution_count": null,
      "metadata": {
        "colab": {
          "base_uri": "https://localhost:8080/"
        },
        "id": "rWOqnT3GuLLn",
        "outputId": "9718468c-44cb-4d4a-ab02-4281e8edbe57"
      },
      "outputs": [
        {
          "data": {
            "text/plain": [
              "src                    3\n",
              "dst                    3\n",
              "table_id               3\n",
              "ip_bytes               3\n",
              "ip_packet              3\n",
              "ip_duration            3\n",
              "in_port                3\n",
              "dl_dst                 3\n",
              "port_bytes             4\n",
              "port_packet            4\n",
              "port_flow_count        4\n",
              "table_active_count     4\n",
              "table_lookup_count     4\n",
              "table_matched_count    4\n",
              "port_rx_packets        4\n",
              "port_tx_packets        4\n",
              "port_rx_bytes          4\n",
              "port_tx_bytes          4\n",
              "port_rx_dropped        4\n",
              "port_tx_dropped        4\n",
              "port_rx_errors         4\n",
              "port_tx_errors         4\n",
              "port_rx_frame_err      4\n",
              "port_rx_over_err       4\n",
              "port_rx_crc_err        4\n",
              "port_collisions        4\n",
              "port_duration_sec      4\n",
              "label                  0\n",
              "dtype: int64"
            ]
          },
          "execution_count": 11,
          "metadata": {},
          "output_type": "execute_result"
        }
      ],
      "source": [
        "df.isna().sum()"
      ]
    },
    {
      "cell_type": "code",
      "execution_count": null,
      "metadata": {
        "id": "JT3pQRnIuRd_"
      },
      "outputs": [],
      "source": [
        "df = df.dropna()"
      ]
    },
    {
      "cell_type": "code",
      "execution_count": null,
      "metadata": {
        "colab": {
          "base_uri": "https://localhost:8080/"
        },
        "id": "NhDrTVZDuc0n",
        "outputId": "9755c236-3322-478b-9280-28f870f156c2"
      },
      "outputs": [
        {
          "data": {
            "text/plain": [
              "(600639, 28)"
            ]
          },
          "execution_count": 13,
          "metadata": {},
          "output_type": "execute_result"
        }
      ],
      "source": [
        "df.shape"
      ]
    },
    {
      "cell_type": "code",
      "execution_count": null,
      "metadata": {
        "colab": {
          "base_uri": "https://localhost:8080/"
        },
        "id": "b59hLT_kug6J",
        "outputId": "f2c4fe3b-050e-473c-8113-cc1b0ae58d51"
      },
      "outputs": [
        {
          "data": {
            "text/plain": [
              "attack_ddos_udp          84366\n",
              "attack_sql_injection     75212\n",
              "normal_internet          65215\n",
              "attack_ddos_tcp          61237\n",
              "attack_samba             47793\n",
              "attack_cmd               41928\n",
              "attack_vnc               41220\n",
              "attack_bruteforce        41011\n",
              "normal_ditg              39077\n",
              "attack_os_port_scan      38247\n",
              "normal_iperf             36076\n",
              "ddos_attack_scapy_new    29257\n",
              "Name: label, dtype: int64"
            ]
          },
          "execution_count": 14,
          "metadata": {},
          "output_type": "execute_result"
        }
      ],
      "source": [
        "df['label'].value_counts()"
      ]
    },
    {
      "cell_type": "code",
      "execution_count": null,
      "metadata": {
        "id": "5wHfJ1KWuoMQ"
      },
      "outputs": [],
      "source": [
        "# merge all normal traffic\n",
        "df.loc[df['label'].str.contains('normal', case=False), 'label'] = 'normal'"
      ]
    },
    {
      "cell_type": "code",
      "execution_count": null,
      "metadata": {
        "colab": {
          "base_uri": "https://localhost:8080/"
        },
        "id": "6j7cXTGMvO6f",
        "outputId": "dbf4a55d-5f99-4478-ec3f-a33cd2cff222"
      },
      "outputs": [
        {
          "data": {
            "text/plain": [
              "normal                   140368\n",
              "attack_ddos_udp           84366\n",
              "attack_sql_injection      75212\n",
              "attack_ddos_tcp           61237\n",
              "attack_samba              47793\n",
              "attack_cmd                41928\n",
              "attack_vnc                41220\n",
              "attack_bruteforce         41011\n",
              "attack_os_port_scan       38247\n",
              "ddos_attack_scapy_new     29257\n",
              "Name: label, dtype: int64"
            ]
          },
          "execution_count": 16,
          "metadata": {},
          "output_type": "execute_result"
        }
      ],
      "source": [
        "df['label'].value_counts()"
      ]
    },
    {
      "cell_type": "code",
      "execution_count": null,
      "metadata": {
        "colab": {
          "base_uri": "https://localhost:8080/",
          "height": 205
        },
        "id": "N9FDJAlSzcDG",
        "outputId": "864f1a9c-5cd1-4742-d604-a51772a58f69"
      },
      "outputs": [
        {
          "data": {
            "text/html": [
              "\n",
              "  <div id=\"df-450c9781-8d82-4bc5-8668-6e7fe00a197c\">\n",
              "    <div class=\"colab-df-container\">\n",
              "      <div>\n",
              "<style scoped>\n",
              "    .dataframe tbody tr th:only-of-type {\n",
              "        vertical-align: middle;\n",
              "    }\n",
              "\n",
              "    .dataframe tbody tr th {\n",
              "        vertical-align: top;\n",
              "    }\n",
              "\n",
              "    .dataframe thead th {\n",
              "        text-align: right;\n",
              "    }\n",
              "</style>\n",
              "<table border=\"1\" class=\"dataframe\">\n",
              "  <thead>\n",
              "    <tr style=\"text-align: right;\">\n",
              "      <th></th>\n",
              "      <th>src</th>\n",
              "      <th>dst</th>\n",
              "      <th>table_id</th>\n",
              "      <th>ip_bytes</th>\n",
              "      <th>ip_packet</th>\n",
              "      <th>ip_duration</th>\n",
              "      <th>in_port</th>\n",
              "      <th>dl_dst</th>\n",
              "      <th>port_bytes</th>\n",
              "      <th>port_packet</th>\n",
              "      <th>...</th>\n",
              "      <th>port_rx_dropped</th>\n",
              "      <th>port_tx_dropped</th>\n",
              "      <th>port_rx_errors</th>\n",
              "      <th>port_tx_errors</th>\n",
              "      <th>port_rx_frame_err</th>\n",
              "      <th>port_rx_over_err</th>\n",
              "      <th>port_rx_crc_err</th>\n",
              "      <th>port_collisions</th>\n",
              "      <th>port_duration_sec</th>\n",
              "      <th>label</th>\n",
              "    </tr>\n",
              "  </thead>\n",
              "  <tbody>\n",
              "    <tr>\n",
              "      <th>0</th>\n",
              "      <td>10.0.0.2</td>\n",
              "      <td>10.0.0.3</td>\n",
              "      <td>0.0</td>\n",
              "      <td>27176.0</td>\n",
              "      <td>172.0</td>\n",
              "      <td>3.0</td>\n",
              "      <td>2.0</td>\n",
              "      <td>6a:8b:bf:d1:d6:90</td>\n",
              "      <td>27176.0</td>\n",
              "      <td>172.0</td>\n",
              "      <td>...</td>\n",
              "      <td>0.0</td>\n",
              "      <td>0.0</td>\n",
              "      <td>0.0</td>\n",
              "      <td>0.0</td>\n",
              "      <td>0.0</td>\n",
              "      <td>0.0</td>\n",
              "      <td>0.0</td>\n",
              "      <td>0.0</td>\n",
              "      <td>5.0</td>\n",
              "      <td>normal</td>\n",
              "    </tr>\n",
              "    <tr>\n",
              "      <th>1</th>\n",
              "      <td>10.0.0.2</td>\n",
              "      <td>10.0.0.3</td>\n",
              "      <td>0.0</td>\n",
              "      <td>35076.0</td>\n",
              "      <td>222.0</td>\n",
              "      <td>4.0</td>\n",
              "      <td>2.0</td>\n",
              "      <td>6a:8b:bf:d1:d6:90</td>\n",
              "      <td>35076.0</td>\n",
              "      <td>222.0</td>\n",
              "      <td>...</td>\n",
              "      <td>0.0</td>\n",
              "      <td>0.0</td>\n",
              "      <td>0.0</td>\n",
              "      <td>0.0</td>\n",
              "      <td>0.0</td>\n",
              "      <td>0.0</td>\n",
              "      <td>0.0</td>\n",
              "      <td>0.0</td>\n",
              "      <td>6.0</td>\n",
              "      <td>normal</td>\n",
              "    </tr>\n",
              "  </tbody>\n",
              "</table>\n",
              "<p>2 rows × 28 columns</p>\n",
              "</div>\n",
              "      <button class=\"colab-df-convert\" onclick=\"convertToInteractive('df-450c9781-8d82-4bc5-8668-6e7fe00a197c')\"\n",
              "              title=\"Convert this dataframe to an interactive table.\"\n",
              "              style=\"display:none;\">\n",
              "        \n",
              "  <svg xmlns=\"http://www.w3.org/2000/svg\" height=\"24px\"viewBox=\"0 0 24 24\"\n",
              "       width=\"24px\">\n",
              "    <path d=\"M0 0h24v24H0V0z\" fill=\"none\"/>\n",
              "    <path d=\"M18.56 5.44l.94 2.06.94-2.06 2.06-.94-2.06-.94-.94-2.06-.94 2.06-2.06.94zm-11 1L8.5 8.5l.94-2.06 2.06-.94-2.06-.94L8.5 2.5l-.94 2.06-2.06.94zm10 10l.94 2.06.94-2.06 2.06-.94-2.06-.94-.94-2.06-.94 2.06-2.06.94z\"/><path d=\"M17.41 7.96l-1.37-1.37c-.4-.4-.92-.59-1.43-.59-.52 0-1.04.2-1.43.59L10.3 9.45l-7.72 7.72c-.78.78-.78 2.05 0 2.83L4 21.41c.39.39.9.59 1.41.59.51 0 1.02-.2 1.41-.59l7.78-7.78 2.81-2.81c.8-.78.8-2.07 0-2.86zM5.41 20L4 18.59l7.72-7.72 1.47 1.35L5.41 20z\"/>\n",
              "  </svg>\n",
              "      </button>\n",
              "      \n",
              "  <style>\n",
              "    .colab-df-container {\n",
              "      display:flex;\n",
              "      flex-wrap:wrap;\n",
              "      gap: 12px;\n",
              "    }\n",
              "\n",
              "    .colab-df-convert {\n",
              "      background-color: #E8F0FE;\n",
              "      border: none;\n",
              "      border-radius: 50%;\n",
              "      cursor: pointer;\n",
              "      display: none;\n",
              "      fill: #1967D2;\n",
              "      height: 32px;\n",
              "      padding: 0 0 0 0;\n",
              "      width: 32px;\n",
              "    }\n",
              "\n",
              "    .colab-df-convert:hover {\n",
              "      background-color: #E2EBFA;\n",
              "      box-shadow: 0px 1px 2px rgba(60, 64, 67, 0.3), 0px 1px 3px 1px rgba(60, 64, 67, 0.15);\n",
              "      fill: #174EA6;\n",
              "    }\n",
              "\n",
              "    [theme=dark] .colab-df-convert {\n",
              "      background-color: #3B4455;\n",
              "      fill: #D2E3FC;\n",
              "    }\n",
              "\n",
              "    [theme=dark] .colab-df-convert:hover {\n",
              "      background-color: #434B5C;\n",
              "      box-shadow: 0px 1px 3px 1px rgba(0, 0, 0, 0.15);\n",
              "      filter: drop-shadow(0px 1px 2px rgba(0, 0, 0, 0.3));\n",
              "      fill: #FFFFFF;\n",
              "    }\n",
              "  </style>\n",
              "\n",
              "      <script>\n",
              "        const buttonEl =\n",
              "          document.querySelector('#df-450c9781-8d82-4bc5-8668-6e7fe00a197c button.colab-df-convert');\n",
              "        buttonEl.style.display =\n",
              "          google.colab.kernel.accessAllowed ? 'block' : 'none';\n",
              "\n",
              "        async function convertToInteractive(key) {\n",
              "          const element = document.querySelector('#df-450c9781-8d82-4bc5-8668-6e7fe00a197c');\n",
              "          const dataTable =\n",
              "            await google.colab.kernel.invokeFunction('convertToInteractive',\n",
              "                                                     [key], {});\n",
              "          if (!dataTable) return;\n",
              "\n",
              "          const docLinkHtml = 'Like what you see? Visit the ' +\n",
              "            '<a target=\"_blank\" href=https://colab.research.google.com/notebooks/data_table.ipynb>data table notebook</a>'\n",
              "            + ' to learn more about interactive tables.';\n",
              "          element.innerHTML = '';\n",
              "          dataTable['output_type'] = 'display_data';\n",
              "          await google.colab.output.renderOutput(dataTable, element);\n",
              "          const docLink = document.createElement('div');\n",
              "          docLink.innerHTML = docLinkHtml;\n",
              "          element.appendChild(docLink);\n",
              "        }\n",
              "      </script>\n",
              "    </div>\n",
              "  </div>\n",
              "  "
            ],
            "text/plain": [
              "        src       dst  table_id  ip_bytes  ip_packet  ip_duration  in_port  \\\n",
              "0  10.0.0.2  10.0.0.3       0.0   27176.0      172.0          3.0      2.0   \n",
              "1  10.0.0.2  10.0.0.3       0.0   35076.0      222.0          4.0      2.0   \n",
              "\n",
              "              dl_dst  port_bytes  port_packet  ...  port_rx_dropped  \\\n",
              "0  6a:8b:bf:d1:d6:90     27176.0        172.0  ...              0.0   \n",
              "1  6a:8b:bf:d1:d6:90     35076.0        222.0  ...              0.0   \n",
              "\n",
              "   port_tx_dropped  port_rx_errors  port_tx_errors  port_rx_frame_err  \\\n",
              "0              0.0             0.0             0.0                0.0   \n",
              "1              0.0             0.0             0.0                0.0   \n",
              "\n",
              "   port_rx_over_err  port_rx_crc_err  port_collisions  port_duration_sec  \\\n",
              "0               0.0              0.0              0.0                5.0   \n",
              "1               0.0              0.0              0.0                6.0   \n",
              "\n",
              "    label  \n",
              "0  normal  \n",
              "1  normal  \n",
              "\n",
              "[2 rows x 28 columns]"
            ]
          },
          "execution_count": 17,
          "metadata": {},
          "output_type": "execute_result"
        }
      ],
      "source": [
        "df.head(2)"
      ]
    },
    {
      "cell_type": "code",
      "execution_count": null,
      "metadata": {
        "colab": {
          "base_uri": "https://localhost:8080/"
        },
        "id": "LxGcbt38zdq0",
        "outputId": "92c487d6-b116-43cb-c4c2-6ff5e7413626"
      },
      "outputs": [
        {
          "data": {
            "text/plain": [
              "Index(['src', 'dst', 'table_id', 'ip_bytes', 'ip_packet', 'ip_duration',\n",
              "       'in_port', 'dl_dst', 'port_bytes', 'port_packet', 'port_flow_count',\n",
              "       'table_active_count', 'table_lookup_count', 'table_matched_count',\n",
              "       'port_rx_packets', 'port_tx_packets', 'port_rx_bytes', 'port_tx_bytes',\n",
              "       'port_rx_dropped', 'port_tx_dropped', 'port_rx_errors',\n",
              "       'port_tx_errors', 'port_rx_frame_err', 'port_rx_over_err',\n",
              "       'port_rx_crc_err', 'port_collisions', 'port_duration_sec', 'label'],\n",
              "      dtype='object')"
            ]
          },
          "execution_count": 18,
          "metadata": {},
          "output_type": "execute_result"
        }
      ],
      "source": [
        "df.columns"
      ]
    },
    {
      "cell_type": "code",
      "execution_count": null,
      "metadata": {
        "id": "XXPtxCxoz07Q"
      },
      "outputs": [],
      "source": [
        "# remove duration = 0\n",
        "df = df[~(df['ip_duration'] == 0)]"
      ]
    },
    {
      "cell_type": "code",
      "execution_count": null,
      "metadata": {
        "id": "_HIikzJy0Py5"
      },
      "outputs": [],
      "source": [
        "# remove packet = 0\n",
        "#df = df[~((df['port_packet'] == 0) | (df['ip_packet'] == 0))]\n",
        "df.loc[df['port_packet'] == 0, 'port_packet'] = 1\n",
        "df.loc[df['ip_packet'] == 0, 'ip_packet'] = 1"
      ]
    },
    {
      "cell_type": "code",
      "execution_count": null,
      "metadata": {
        "id": "OdgWsh8Y0eLj"
      },
      "outputs": [],
      "source": [
        "# identity features\n",
        "identity_features = [\n",
        "    'src', 'dst', 'table_id', 'in_port', 'dl_dst'\n",
        "]"
      ]
    },
    {
      "cell_type": "code",
      "execution_count": null,
      "metadata": {
        "id": "otao5Zuj0hKI"
      },
      "outputs": [],
      "source": [
        "# remove identity features\n",
        "df = df.drop(columns=identity_features)"
      ]
    },
    {
      "cell_type": "code",
      "execution_count": null,
      "metadata": {
        "colab": {
          "base_uri": "https://localhost:8080/"
        },
        "id": "7ylM83QIvRYv",
        "outputId": "c5c0742a-3e15-445c-dadf-8adc28616dbb"
      },
      "outputs": [
        {
          "name": "stderr",
          "output_type": "stream",
          "text": [
            "<ipython-input-23-1b2192e7f907>:2: FutureWarning: Dropping of nuisance columns in DataFrame reductions (with 'numeric_only=None') is deprecated; in a future version this will raise TypeError.  Select only valid columns before calling the reduction.\n",
            "  df_std = pd.DataFrame(df.std()).reset_index()\n"
          ]
        }
      ],
      "source": [
        "# remove zero variation columns\n",
        "df_std = pd.DataFrame(df.std()).reset_index()\n",
        "df_std.columns = ['column_name', 'std']"
      ]
    },
    {
      "cell_type": "code",
      "execution_count": null,
      "metadata": {
        "id": "P1eapfeyvYJ3"
      },
      "outputs": [],
      "source": [
        "zero_var_columns = df_std.loc[df_std['std'] == 0, 'column_name'].values.tolist()"
      ]
    },
    {
      "cell_type": "code",
      "execution_count": null,
      "metadata": {
        "colab": {
          "base_uri": "https://localhost:8080/"
        },
        "id": "PTzSoYyAzHeg",
        "outputId": "bec28b39-0e39-48bc-c4ee-30590b3ad24e"
      },
      "outputs": [
        {
          "data": {
            "text/plain": [
              "['port_rx_dropped',\n",
              " 'port_tx_dropped',\n",
              " 'port_rx_errors',\n",
              " 'port_tx_errors',\n",
              " 'port_rx_frame_err',\n",
              " 'port_rx_over_err',\n",
              " 'port_rx_crc_err',\n",
              " 'port_collisions']"
            ]
          },
          "execution_count": 25,
          "metadata": {},
          "output_type": "execute_result"
        }
      ],
      "source": [
        "zero_var_columns"
      ]
    },
    {
      "cell_type": "code",
      "execution_count": null,
      "metadata": {
        "id": "MWxHy5JDzWjo"
      },
      "outputs": [],
      "source": [
        "df.drop(columns=zero_var_columns, inplace=True)"
      ]
    },
    {
      "cell_type": "code",
      "execution_count": null,
      "metadata": {
        "colab": {
          "base_uri": "https://localhost:8080/"
        },
        "id": "eLzxxu5R0mpo",
        "outputId": "24706703-3fe3-4306-f678-0f2e5aee63f0"
      },
      "outputs": [
        {
          "data": {
            "text/plain": [
              "(479883, 15)"
            ]
          },
          "execution_count": 27,
          "metadata": {},
          "output_type": "execute_result"
        }
      ],
      "source": [
        "df.shape"
      ]
    },
    {
      "cell_type": "code",
      "execution_count": null,
      "metadata": {
        "colab": {
          "base_uri": "https://localhost:8080/"
        },
        "id": "nQTp7EmQ1l9Q",
        "outputId": "2d2418d6-86a6-4089-de77-b8cdad70766f"
      },
      "outputs": [
        {
          "data": {
            "text/plain": [
              "normal                   116479\n",
              "attack_ddos_udp           84366\n",
              "attack_ddos_tcp           61237\n",
              "attack_sql_injection      50456\n",
              "attack_samba              33666\n",
              "ddos_attack_scapy_new     29257\n",
              "attack_cmd                28470\n",
              "attack_os_port_scan       27079\n",
              "attack_bruteforce         25722\n",
              "attack_vnc                23151\n",
              "Name: label, dtype: int64"
            ]
          },
          "execution_count": 28,
          "metadata": {},
          "output_type": "execute_result"
        }
      ],
      "source": [
        "df['label'].value_counts()"
      ]
    },
    {
      "cell_type": "code",
      "execution_count": null,
      "metadata": {
        "colab": {
          "base_uri": "https://localhost:8080/"
        },
        "id": "7G6qq5ea16Ww",
        "outputId": "b17449ce-62b3-485a-8b52-b6f35cf78a50"
      },
      "outputs": [
        {
          "data": {
            "text/plain": [
              "Index(['ip_bytes', 'ip_packet', 'ip_duration', 'port_bytes', 'port_packet',\n",
              "       'port_flow_count', 'table_active_count', 'table_lookup_count',\n",
              "       'table_matched_count', 'port_rx_packets', 'port_tx_packets',\n",
              "       'port_rx_bytes', 'port_tx_bytes', 'port_duration_sec', 'label'],\n",
              "      dtype='object')"
            ]
          },
          "execution_count": 29,
          "metadata": {},
          "output_type": "execute_result"
        }
      ],
      "source": [
        "df.columns"
      ]
    },
    {
      "cell_type": "code",
      "execution_count": null,
      "metadata": {
        "id": "qtvVUPql5JWp"
      },
      "outputs": [],
      "source": [
        "df['ip_bytes_sec'] = df['ip_bytes'] / df['ip_duration']\n",
        "df['ip_packets_sec'] = df['ip_packet'] / df['ip_duration']\n",
        "df['ip_bytes_packet'] = df['ip_bytes'] / df['ip_packet']\n",
        "df['port_bytes_sec'] = df['port_bytes'] / df['ip_duration']\n",
        "df['port_packet_sec'] = df['port_packet'] / df['ip_duration']\n",
        "df['port_byte_packet'] = df['port_bytes'] / df['port_packet']\n",
        "df['port_flow_count_sec'] = df['port_flow_count'] / df['ip_duration']\n",
        "df['table_matched_lookup'] = df['table_matched_count'] / df['table_lookup_count']\n",
        "df['table_active_lookup'] = df['table_active_count'] / df['table_lookup_count']\n",
        "df['port_rx_packets_sec'] = df['port_rx_packets'] / df['port_duration_sec']\n",
        "df['port_tx_packets_sec'] = df['port_tx_packets'] / df['port_duration_sec']\n",
        "df['port_rx_bytes_sec'] = df['port_rx_bytes'] / df['port_duration_sec']\n",
        "df['port_tx_bytes_sec'] = df['port_tx_bytes'] / df['port_duration_sec']"
      ]
    },
    {
      "cell_type": "code",
      "execution_count": null,
      "metadata": {
        "id": "W4znH0pY8oQ6"
      },
      "outputs": [],
      "source": [
        "raw_features = ['ip_bytes', 'ip_packet', 'ip_duration', 'port_bytes', 'port_packet',\n",
        "       'port_flow_count', 'table_active_count', 'table_lookup_count',\n",
        "       'table_matched_count', 'port_rx_packets', 'port_tx_packets',\n",
        "       'port_rx_bytes', 'port_tx_bytes', 'port_duration_sec']"
      ]
    },
    {
      "cell_type": "code",
      "execution_count": null,
      "metadata": {
        "id": "p1jWP5Zw8wYh"
      },
      "outputs": [],
      "source": [
        "df.drop(columns=raw_features, inplace=True)"
      ]
    },
    {
      "cell_type": "code",
      "execution_count": null,
      "metadata": {
        "colab": {
          "base_uri": "https://localhost:8080/",
          "height": 176
        },
        "id": "hgKlF05d81vB",
        "outputId": "a6dc69af-651a-47f9-8a5c-dd82ad17ac09"
      },
      "outputs": [
        {
          "data": {
            "text/html": [
              "\n",
              "  <div id=\"df-80ec168f-e96d-407d-97f7-e3caf2d3d30f\">\n",
              "    <div class=\"colab-df-container\">\n",
              "      <div>\n",
              "<style scoped>\n",
              "    .dataframe tbody tr th:only-of-type {\n",
              "        vertical-align: middle;\n",
              "    }\n",
              "\n",
              "    .dataframe tbody tr th {\n",
              "        vertical-align: top;\n",
              "    }\n",
              "\n",
              "    .dataframe thead th {\n",
              "        text-align: right;\n",
              "    }\n",
              "</style>\n",
              "<table border=\"1\" class=\"dataframe\">\n",
              "  <thead>\n",
              "    <tr style=\"text-align: right;\">\n",
              "      <th></th>\n",
              "      <th>label</th>\n",
              "      <th>ip_bytes_sec</th>\n",
              "      <th>ip_packets_sec</th>\n",
              "      <th>ip_bytes_packet</th>\n",
              "      <th>port_bytes_sec</th>\n",
              "      <th>port_packet_sec</th>\n",
              "      <th>port_byte_packet</th>\n",
              "      <th>port_flow_count_sec</th>\n",
              "      <th>table_matched_lookup</th>\n",
              "      <th>table_active_lookup</th>\n",
              "      <th>port_rx_packets_sec</th>\n",
              "      <th>port_tx_packets_sec</th>\n",
              "      <th>port_rx_bytes_sec</th>\n",
              "      <th>port_tx_bytes_sec</th>\n",
              "    </tr>\n",
              "  </thead>\n",
              "  <tbody>\n",
              "    <tr>\n",
              "      <th>0</th>\n",
              "      <td>normal</td>\n",
              "      <td>9058.666667</td>\n",
              "      <td>57.333333</td>\n",
              "      <td>158.0</td>\n",
              "      <td>9058.666667</td>\n",
              "      <td>57.333333</td>\n",
              "      <td>158.0</td>\n",
              "      <td>0.333333</td>\n",
              "      <td>0.992000</td>\n",
              "      <td>0.008000</td>\n",
              "      <td>42.0</td>\n",
              "      <td>16.200000</td>\n",
              "      <td>6400.000000</td>\n",
              "      <td>2163.000000</td>\n",
              "    </tr>\n",
              "    <tr>\n",
              "      <th>1</th>\n",
              "      <td>normal</td>\n",
              "      <td>8769.000000</td>\n",
              "      <td>55.500000</td>\n",
              "      <td>158.0</td>\n",
              "      <td>8769.000000</td>\n",
              "      <td>55.500000</td>\n",
              "      <td>158.0</td>\n",
              "      <td>0.250000</td>\n",
              "      <td>0.993443</td>\n",
              "      <td>0.006557</td>\n",
              "      <td>43.5</td>\n",
              "      <td>14.666667</td>\n",
              "      <td>6676.333333</td>\n",
              "      <td>1929.833333</td>\n",
              "    </tr>\n",
              "  </tbody>\n",
              "</table>\n",
              "</div>\n",
              "      <button class=\"colab-df-convert\" onclick=\"convertToInteractive('df-80ec168f-e96d-407d-97f7-e3caf2d3d30f')\"\n",
              "              title=\"Convert this dataframe to an interactive table.\"\n",
              "              style=\"display:none;\">\n",
              "        \n",
              "  <svg xmlns=\"http://www.w3.org/2000/svg\" height=\"24px\"viewBox=\"0 0 24 24\"\n",
              "       width=\"24px\">\n",
              "    <path d=\"M0 0h24v24H0V0z\" fill=\"none\"/>\n",
              "    <path d=\"M18.56 5.44l.94 2.06.94-2.06 2.06-.94-2.06-.94-.94-2.06-.94 2.06-2.06.94zm-11 1L8.5 8.5l.94-2.06 2.06-.94-2.06-.94L8.5 2.5l-.94 2.06-2.06.94zm10 10l.94 2.06.94-2.06 2.06-.94-2.06-.94-.94-2.06-.94 2.06-2.06.94z\"/><path d=\"M17.41 7.96l-1.37-1.37c-.4-.4-.92-.59-1.43-.59-.52 0-1.04.2-1.43.59L10.3 9.45l-7.72 7.72c-.78.78-.78 2.05 0 2.83L4 21.41c.39.39.9.59 1.41.59.51 0 1.02-.2 1.41-.59l7.78-7.78 2.81-2.81c.8-.78.8-2.07 0-2.86zM5.41 20L4 18.59l7.72-7.72 1.47 1.35L5.41 20z\"/>\n",
              "  </svg>\n",
              "      </button>\n",
              "      \n",
              "  <style>\n",
              "    .colab-df-container {\n",
              "      display:flex;\n",
              "      flex-wrap:wrap;\n",
              "      gap: 12px;\n",
              "    }\n",
              "\n",
              "    .colab-df-convert {\n",
              "      background-color: #E8F0FE;\n",
              "      border: none;\n",
              "      border-radius: 50%;\n",
              "      cursor: pointer;\n",
              "      display: none;\n",
              "      fill: #1967D2;\n",
              "      height: 32px;\n",
              "      padding: 0 0 0 0;\n",
              "      width: 32px;\n",
              "    }\n",
              "\n",
              "    .colab-df-convert:hover {\n",
              "      background-color: #E2EBFA;\n",
              "      box-shadow: 0px 1px 2px rgba(60, 64, 67, 0.3), 0px 1px 3px 1px rgba(60, 64, 67, 0.15);\n",
              "      fill: #174EA6;\n",
              "    }\n",
              "\n",
              "    [theme=dark] .colab-df-convert {\n",
              "      background-color: #3B4455;\n",
              "      fill: #D2E3FC;\n",
              "    }\n",
              "\n",
              "    [theme=dark] .colab-df-convert:hover {\n",
              "      background-color: #434B5C;\n",
              "      box-shadow: 0px 1px 3px 1px rgba(0, 0, 0, 0.15);\n",
              "      filter: drop-shadow(0px 1px 2px rgba(0, 0, 0, 0.3));\n",
              "      fill: #FFFFFF;\n",
              "    }\n",
              "  </style>\n",
              "\n",
              "      <script>\n",
              "        const buttonEl =\n",
              "          document.querySelector('#df-80ec168f-e96d-407d-97f7-e3caf2d3d30f button.colab-df-convert');\n",
              "        buttonEl.style.display =\n",
              "          google.colab.kernel.accessAllowed ? 'block' : 'none';\n",
              "\n",
              "        async function convertToInteractive(key) {\n",
              "          const element = document.querySelector('#df-80ec168f-e96d-407d-97f7-e3caf2d3d30f');\n",
              "          const dataTable =\n",
              "            await google.colab.kernel.invokeFunction('convertToInteractive',\n",
              "                                                     [key], {});\n",
              "          if (!dataTable) return;\n",
              "\n",
              "          const docLinkHtml = 'Like what you see? Visit the ' +\n",
              "            '<a target=\"_blank\" href=https://colab.research.google.com/notebooks/data_table.ipynb>data table notebook</a>'\n",
              "            + ' to learn more about interactive tables.';\n",
              "          element.innerHTML = '';\n",
              "          dataTable['output_type'] = 'display_data';\n",
              "          await google.colab.output.renderOutput(dataTable, element);\n",
              "          const docLink = document.createElement('div');\n",
              "          docLink.innerHTML = docLinkHtml;\n",
              "          element.appendChild(docLink);\n",
              "        }\n",
              "      </script>\n",
              "    </div>\n",
              "  </div>\n",
              "  "
            ],
            "text/plain": [
              "    label  ip_bytes_sec  ip_packets_sec  ip_bytes_packet  port_bytes_sec  \\\n",
              "0  normal   9058.666667       57.333333            158.0     9058.666667   \n",
              "1  normal   8769.000000       55.500000            158.0     8769.000000   \n",
              "\n",
              "   port_packet_sec  port_byte_packet  port_flow_count_sec  \\\n",
              "0        57.333333             158.0             0.333333   \n",
              "1        55.500000             158.0             0.250000   \n",
              "\n",
              "   table_matched_lookup  table_active_lookup  port_rx_packets_sec  \\\n",
              "0              0.992000             0.008000                 42.0   \n",
              "1              0.993443             0.006557                 43.5   \n",
              "\n",
              "   port_tx_packets_sec  port_rx_bytes_sec  port_tx_bytes_sec  \n",
              "0            16.200000        6400.000000        2163.000000  \n",
              "1            14.666667        6676.333333        1929.833333  "
            ]
          },
          "execution_count": 33,
          "metadata": {},
          "output_type": "execute_result"
        }
      ],
      "source": [
        "df.head(2)"
      ]
    },
    {
      "cell_type": "code",
      "execution_count": null,
      "metadata": {
        "colab": {
          "base_uri": "https://localhost:8080/"
        },
        "id": "Z0P_pNmL83c5",
        "outputId": "39cabf8d-fb07-47f9-8ce4-68ed39bb01cd"
      },
      "outputs": [
        {
          "data": {
            "text/plain": [
              "(479883, 14)"
            ]
          },
          "execution_count": 34,
          "metadata": {},
          "output_type": "execute_result"
        }
      ],
      "source": [
        "df.shape"
      ]
    },
    {
      "cell_type": "markdown",
      "metadata": {
        "id": "7NQ9R7zo-5Xq"
      },
      "source": [
        "# **label encoder**"
      ]
    },
    {
      "cell_type": "code",
      "execution_count": null,
      "metadata": {
        "id": "auJjW3Im-8lp"
      },
      "outputs": [],
      "source": [
        "from sklearn import preprocessing"
      ]
    },
    {
      "cell_type": "code",
      "execution_count": null,
      "metadata": {
        "id": "1x2jgyyw9Lsx"
      },
      "outputs": [],
      "source": [
        "# label encoder\n",
        "le = preprocessing.LabelEncoder()\n",
        "df['label_'] = le.fit_transform(df['label'])"
      ]
    },
    {
      "cell_type": "code",
      "execution_count": null,
      "metadata": {
        "colab": {
          "base_uri": "https://localhost:8080/"
        },
        "id": "sGOzHuPe_Tov",
        "outputId": "338a6387-b2eb-4a00-ffcc-83d1e1916eb2"
      },
      "outputs": [
        {
          "data": {
            "text/plain": [
              "array(['attack_bruteforce', 'attack_cmd', 'attack_ddos_tcp',\n",
              "       'attack_ddos_udp', 'attack_os_port_scan', 'attack_samba',\n",
              "       'attack_sql_injection', 'attack_vnc', 'ddos_attack_scapy_new',\n",
              "       'normal'], dtype=object)"
            ]
          },
          "execution_count": 37,
          "metadata": {},
          "output_type": "execute_result"
        }
      ],
      "source": [
        "le.classes_"
      ]
    },
    {
      "cell_type": "code",
      "execution_count": null,
      "metadata": {
        "colab": {
          "base_uri": "https://localhost:8080/"
        },
        "id": "PBXE_pmQ_ctC",
        "outputId": "56b521f6-4377-4c64-ad5f-d6f2145c6aaf"
      },
      "outputs": [
        {
          "data": {
            "text/plain": [
              "[0, 1, 2, 3, 4, 5, 6, 7, 8, 9]"
            ]
          },
          "execution_count": 38,
          "metadata": {},
          "output_type": "execute_result"
        }
      ],
      "source": [
        "sorted(df['label_'].unique())"
      ]
    },
    {
      "cell_type": "code",
      "execution_count": null,
      "metadata": {
        "colab": {
          "base_uri": "https://localhost:8080/"
        },
        "id": "7ZhoAzM6_X5K",
        "outputId": "e6d63b42-2b37-43cd-ad69-b54a1a80e2b1"
      },
      "outputs": [
        {
          "data": {
            "text/plain": [
              "array(['attack_bruteforce', 'attack_cmd', 'attack_ddos_tcp',\n",
              "       'attack_ddos_udp', 'attack_os_port_scan', 'attack_samba',\n",
              "       'attack_sql_injection', 'attack_vnc', 'ddos_attack_scapy_new',\n",
              "       'normal'], dtype=object)"
            ]
          },
          "execution_count": 39,
          "metadata": {},
          "output_type": "execute_result"
        }
      ],
      "source": [
        "le.inverse_transform(sorted(df['label_'].unique()))"
      ]
    },
    {
      "cell_type": "code",
      "execution_count": null,
      "metadata": {
        "id": "eQlWZCx8_pPG"
      },
      "outputs": [],
      "source": [
        "classes_mapping = {k:v for k,v in zip(sorted(df['label_'].unique()), le.inverse_transform(sorted(df['label_'].unique())))}"
      ]
    },
    {
      "cell_type": "code",
      "execution_count": null,
      "metadata": {
        "colab": {
          "base_uri": "https://localhost:8080/"
        },
        "id": "fGN5uSKYAEHX",
        "outputId": "44525bff-0686-4791-d282-3674e9d858a6"
      },
      "outputs": [
        {
          "data": {
            "text/plain": [
              "{0: 'attack_bruteforce',\n",
              " 1: 'attack_cmd',\n",
              " 2: 'attack_ddos_tcp',\n",
              " 3: 'attack_ddos_udp',\n",
              " 4: 'attack_os_port_scan',\n",
              " 5: 'attack_samba',\n",
              " 6: 'attack_sql_injection',\n",
              " 7: 'attack_vnc',\n",
              " 8: 'ddos_attack_scapy_new',\n",
              " 9: 'normal'}"
            ]
          },
          "execution_count": 41,
          "metadata": {},
          "output_type": "execute_result"
        }
      ],
      "source": [
        "classes_mapping"
      ]
    },
    {
      "cell_type": "code",
      "execution_count": null,
      "metadata": {
        "colab": {
          "base_uri": "https://localhost:8080/"
        },
        "id": "cUyiNOWtAJHH",
        "outputId": "9384d297-019e-4dee-c332-831f8517c957"
      },
      "outputs": [
        {
          "data": {
            "text/plain": [
              "dict_values(['attack_bruteforce', 'attack_cmd', 'attack_ddos_tcp', 'attack_ddos_udp', 'attack_os_port_scan', 'attack_samba', 'attack_sql_injection', 'attack_vnc', 'ddos_attack_scapy_new', 'normal'])"
            ]
          },
          "execution_count": 42,
          "metadata": {},
          "output_type": "execute_result"
        }
      ],
      "source": [
        "classes_mapping.values()"
      ]
    },
    {
      "cell_type": "markdown",
      "metadata": {
        "id": "3ZHYR_Qb5yTm"
      },
      "source": [
        "# **Train validation test split**"
      ]
    },
    {
      "cell_type": "code",
      "execution_count": null,
      "metadata": {
        "id": "I3GC2lbC5Xkd"
      },
      "outputs": [],
      "source": [
        "from sklearn.model_selection import train_test_split\n",
        "import numpy as np"
      ]
    },
    {
      "cell_type": "code",
      "execution_count": null,
      "metadata": {
        "id": "ceKz8PQS9jvu"
      },
      "outputs": [],
      "source": [
        "X_train, X_test, y_train, y_test = train_test_split(df.drop(columns=['label', 'label_']), df['label_'],\n",
        "                                                    test_size=0.1,\n",
        "                                                    stratify=df['label'],\n",
        "                                                    random_state=42)"
      ]
    },
    {
      "cell_type": "code",
      "execution_count": null,
      "metadata": {
        "id": "ttCPQCDYAROq"
      },
      "outputs": [],
      "source": [
        "X_train, X_val, y_train, y_val = train_test_split(X_train, y_train,\n",
        "                                                    test_size=0.1,\n",
        "                                                    stratify=y_train,\n",
        "                                                    random_state=42)"
      ]
    },
    {
      "cell_type": "markdown",
      "metadata": {
        "id": "qzr0rDKZPNSU"
      },
      "source": [
        "# **Scaling features**"
      ]
    },
    {
      "cell_type": "code",
      "execution_count": null,
      "metadata": {
        "id": "ZzYZxTnrSQ5e"
      },
      "outputs": [],
      "source": [
        "import pickle\n"
      ]
    },
    {
      "cell_type": "code",
      "execution_count": null,
      "metadata": {
        "id": "p6H8AIT8PFiJ"
      },
      "outputs": [],
      "source": [
        "from sklearn.preprocessing import RobustScaler"
      ]
    },
    {
      "cell_type": "code",
      "execution_count": null,
      "metadata": {
        "id": "ZHHwyqNl46w9"
      },
      "outputs": [],
      "source": [
        "scalar = RobustScaler()\n",
        "X_train = scalar.fit_transform(X_train)\n",
        "X_test = scalar.transform(X_test)\n",
        "X_val = scalar.transform(X_val)"
      ]
    },
    {
      "cell_type": "code",
      "execution_count": null,
      "metadata": {
        "id": "hZ1JA2qu5xAD"
      },
      "outputs": [],
      "source": [
        "y_train = np.asarray(y_train)\n",
        "y_validation = np.asarray(y_val)\n",
        "y_test = np.asarray(y_test)"
      ]
    },
    {
      "cell_type": "code",
      "execution_count": null,
      "metadata": {
        "colab": {
          "base_uri": "https://localhost:8080/"
        },
        "id": "KN7GhTq9P8lp",
        "outputId": "cc2fe4cc-00a4-4fc3-dafc-b61931feb70e"
      },
      "outputs": [
        {
          "data": {
            "text/plain": [
              "(388704, 13)"
            ]
          },
          "execution_count": 50,
          "metadata": {},
          "output_type": "execute_result"
        }
      ],
      "source": [
        "X_train.shape"
      ]
    },
    {
      "cell_type": "code",
      "execution_count": null,
      "metadata": {
        "colab": {
          "base_uri": "https://localhost:8080/"
        },
        "id": "q3U_3ZEwBfwY",
        "outputId": "038e685d-0b4b-493a-a3b7-cfa15370defd"
      },
      "outputs": [
        {
          "data": {
            "text/plain": [
              "(388704,)"
            ]
          },
          "execution_count": 51,
          "metadata": {},
          "output_type": "execute_result"
        }
      ],
      "source": [
        "y_train.shape"
      ]
    },
    {
      "cell_type": "code",
      "execution_count": null,
      "metadata": {
        "id": "K4w0rkARSX3-"
      },
      "outputs": [],
      "source": [
        "def save_model(model, filename):\n",
        "  pickle.dump(model, open(filename, 'wb'))\n",
        "\n",
        "def load_model(filename):\n",
        "  loaded_model = pickle.load(open(filename, 'rb'))\n",
        "  return loaded_model"
      ]
    },
    {
      "cell_type": "code",
      "execution_count": null,
      "metadata": {
        "id": "vypRPC-GSINc"
      },
      "outputs": [],
      "source": [
        "save_model(scalar, '/content/drive/MyDrive/freelancing/mininet_laila/paper2(idsl)/models/scaler_scapy.sav')"
      ]
    },
    {
      "cell_type": "code",
      "execution_count": null,
      "metadata": {
        "id": "zQQBCd1NT2Z3"
      },
      "outputs": [],
      "source": []
    },
    {
      "cell_type": "markdown",
      "metadata": {
        "id": "dz3OFbG2BxGX"
      },
      "source": [
        "# **Model evaluation metrics**"
      ]
    },
    {
      "cell_type": "code",
      "execution_count": null,
      "metadata": {
        "id": "PK0UdgjpL7q3"
      },
      "outputs": [],
      "source": [
        "from sklearn.metrics import classification_report\n",
        "\n",
        "def compute_classification_report(y_true, y_pred, target_names=classes_mapping.values()):\n",
        "  return classification_report(y_true, y_pred, target_names=target_names, digits=4)\n"
      ]
    },
    {
      "cell_type": "markdown",
      "metadata": {
        "id": "o7G4iGSHP4kB"
      },
      "source": [
        "# **PCA**"
      ]
    },
    {
      "cell_type": "code",
      "execution_count": null,
      "metadata": {
        "id": "8jTMIKV8IoP4"
      },
      "outputs": [],
      "source": [
        "from sklearn.decomposition import PCA"
      ]
    },
    {
      "cell_type": "code",
      "execution_count": null,
      "metadata": {
        "id": "Wo2K3cHfU_hT"
      },
      "outputs": [],
      "source": [
        "pca = PCA(n_components=5)"
      ]
    },
    {
      "cell_type": "code",
      "execution_count": null,
      "metadata": {
        "id": "yJFZgT9fVC65"
      },
      "outputs": [],
      "source": [
        "X_train = pca.fit_transform(X_train)"
      ]
    },
    {
      "cell_type": "code",
      "execution_count": null,
      "metadata": {
        "id": "v7MMYtVQVnqk"
      },
      "outputs": [],
      "source": [
        "X_val = pca.transform(X_val)"
      ]
    },
    {
      "cell_type": "code",
      "execution_count": null,
      "metadata": {
        "id": "1sMTqeVVV9rM"
      },
      "outputs": [],
      "source": [
        "X_test = pca.transform(X_test)"
      ]
    },
    {
      "cell_type": "code",
      "execution_count": null,
      "metadata": {
        "colab": {
          "base_uri": "https://localhost:8080/"
        },
        "id": "CamKPbpFuIFE",
        "outputId": "83820c0d-6600-4f7e-b221-40bed78040a6"
      },
      "outputs": [
        {
          "data": {
            "text/plain": [
              "0.0011984193547642796"
            ]
          },
          "execution_count": 60,
          "metadata": {},
          "output_type": "execute_result"
        }
      ],
      "source": [
        "(1 - sum(pca.explained_variance_ratio_)) * 100"
      ]
    },
    {
      "cell_type": "code",
      "execution_count": null,
      "metadata": {
        "colab": {
          "base_uri": "https://localhost:8080/"
        },
        "id": "7L8xg0Ki-mQV",
        "outputId": "0868ccfd-9c81-4c47-d8ba-6916a8a2011f"
      },
      "outputs": [
        {
          "data": {
            "text/plain": [
              "99.99880158064524"
            ]
          },
          "execution_count": 61,
          "metadata": {},
          "output_type": "execute_result"
        }
      ],
      "source": [
        "sum(pca.explained_variance_ratio_) * 100"
      ]
    },
    {
      "cell_type": "code",
      "execution_count": null,
      "metadata": {
        "id": "D1jEYIvKTKZm"
      },
      "outputs": [],
      "source": [
        "save_model(pca, '/content/drive/MyDrive/freelancing/mininet_laila/paper2(idsl)/models/pca_scapy.sav')"
      ]
    },
    {
      "cell_type": "markdown",
      "metadata": {
        "id": "jPPf0CS_BKRL"
      },
      "source": [
        "# **Nearest Neighbors Classification**"
      ]
    },
    {
      "cell_type": "code",
      "execution_count": null,
      "metadata": {
        "id": "RUWbqT4qBNGM"
      },
      "outputs": [],
      "source": [
        "from sklearn.neighbors import KNeighborsClassifier\n",
        "import time"
      ]
    },
    {
      "cell_type": "code",
      "execution_count": null,
      "metadata": {
        "id": "XRgGQZpvJmbg"
      },
      "outputs": [],
      "source": [
        "model = KNeighborsClassifier(n_neighbors=3)"
      ]
    },
    {
      "cell_type": "code",
      "execution_count": null,
      "metadata": {
        "id": "IMbcc-dlXufE"
      },
      "outputs": [],
      "source": [
        "model_name = 'KNN_scapy'"
      ]
    },
    {
      "cell_type": "code",
      "execution_count": null,
      "metadata": {
        "colab": {
          "base_uri": "https://localhost:8080/"
        },
        "id": "vkZAY1g27ORQ",
        "outputId": "accdea61-32ce-4ccf-e102-b9b3ed4a624c"
      },
      "outputs": [
        {
          "name": "stdout",
          "output_type": "stream",
          "text": [
            "0.5563085079193115\n"
          ]
        }
      ],
      "source": [
        "start = time.time()\n",
        "model.fit(X_train, y_train)\n",
        "end = time.time()\n",
        "print(end - start)\n",
        "trainning_time = end - start"
      ]
    },
    {
      "cell_type": "code",
      "execution_count": null,
      "metadata": {
        "id": "smd-8AJE7ORR"
      },
      "outputs": [],
      "source": [
        "y_pred_train = model.predict(X_train)"
      ]
    },
    {
      "cell_type": "code",
      "execution_count": null,
      "metadata": {
        "id": "N3gu5CYB7ORR"
      },
      "outputs": [],
      "source": [
        "y_pred_validation = model.predict(X_val)"
      ]
    },
    {
      "cell_type": "code",
      "execution_count": null,
      "metadata": {
        "colab": {
          "base_uri": "https://localhost:8080/"
        },
        "id": "c0yjZokf7ORR",
        "outputId": "1bf29cc2-8b3f-4f61-d55f-ea4b4669ccc7"
      },
      "outputs": [
        {
          "name": "stdout",
          "output_type": "stream",
          "text": [
            "1.5206787586212158\n",
            "(47989, 5)\n",
            "31557.61841739089\n"
          ]
        }
      ],
      "source": [
        "start = time.time()\n",
        "y_pred_test =  model.predict(X_test)\n",
        "end = time.time()\n",
        "print(end - start)\n",
        "prediction_time = end - start\n",
        "print(X_test.shape)\n",
        "th = X_test.shape[0] / (end - start)\n",
        "print(th)\n",
        "throughtput = th"
      ]
    },
    {
      "cell_type": "code",
      "execution_count": null,
      "metadata": {
        "colab": {
          "base_uri": "https://localhost:8080/"
        },
        "id": "Dvn6zBjWA9Ih",
        "outputId": "6e48d36d-1c47-4fc8-ef00-f5cfa25a9cd5"
      },
      "outputs": [
        {
          "name": "stdout",
          "output_type": "stream",
          "text": [
            "                       precision    recall  f1-score   support\n",
            "\n",
            "    attack_bruteforce     0.9932    0.9901    0.9916     20835\n",
            "           attack_cmd     0.9890    0.9866    0.9878     23061\n",
            "      attack_ddos_tcp     0.9999    1.0000    0.9999     49601\n",
            "      attack_ddos_udp     0.9999    1.0000    0.9999     68336\n",
            "  attack_os_port_scan     0.9987    0.9992    0.9990     21934\n",
            "         attack_samba     0.9986    0.9992    0.9989     27270\n",
            " attack_sql_injection     0.9893    0.9904    0.9899     40869\n",
            "           attack_vnc     0.9975    0.9982    0.9978     18752\n",
            "ddos_attack_scapy_new     1.0000    1.0000    1.0000     23698\n",
            "               normal     0.9983    0.9986    0.9984     94348\n",
            "\n",
            "             accuracy                         0.9971    388704\n",
            "            macro avg     0.9964    0.9962    0.9963    388704\n",
            "         weighted avg     0.9971    0.9971    0.9971    388704\n",
            "\n"
          ]
        }
      ],
      "source": [
        "trainning_report = compute_classification_report(y_train, y_pred_train)\n",
        "print(trainning_report)"
      ]
    },
    {
      "cell_type": "code",
      "execution_count": null,
      "metadata": {
        "colab": {
          "base_uri": "https://localhost:8080/"
        },
        "id": "e-_daBt57ORS",
        "outputId": "1e7f76c3-be5c-49a7-ba57-6a6fb64973ff"
      },
      "outputs": [
        {
          "name": "stdout",
          "output_type": "stream",
          "text": [
            "                       precision    recall  f1-score   support\n",
            "\n",
            "    attack_bruteforce     0.9852    0.9801    0.9827      2315\n",
            "           attack_cmd     0.9795    0.9715    0.9755      2562\n",
            "      attack_ddos_tcp     0.9998    1.0000    0.9999      5512\n",
            "      attack_ddos_udp     0.9999    1.0000    0.9999      7593\n",
            "  attack_os_port_scan     0.9959    0.9971    0.9965      2437\n",
            "         attack_samba     0.9983    0.9974    0.9979      3030\n",
            " attack_sql_injection     0.9789    0.9802    0.9795      4541\n",
            "           attack_vnc     0.9914    0.9966    0.9940      2084\n",
            "ddos_attack_scapy_new     1.0000    1.0000    1.0000      2633\n",
            "               normal     0.9962    0.9975    0.9969     10483\n",
            "\n",
            "             accuracy                         0.9940     43190\n",
            "            macro avg     0.9925    0.9920    0.9923     43190\n",
            "         weighted avg     0.9940    0.9940    0.9940     43190\n",
            "\n"
          ]
        }
      ],
      "source": [
        "validation_report = compute_classification_report(y_validation, y_pred_validation)\n",
        "print(validation_report)"
      ]
    },
    {
      "cell_type": "code",
      "execution_count": null,
      "metadata": {
        "colab": {
          "base_uri": "https://localhost:8080/"
        },
        "id": "UsQUoGVP7ORS",
        "outputId": "e4ebd513-1ee5-4f10-8364-0095c4916896"
      },
      "outputs": [
        {
          "name": "stdout",
          "output_type": "stream",
          "text": [
            "                       precision    recall  f1-score   support\n",
            "\n",
            "    attack_bruteforce     0.9844    0.9844    0.9844      2572\n",
            "           attack_cmd     0.9760    0.9715    0.9738      2847\n",
            "      attack_ddos_tcp     0.9995    0.9998    0.9997      6124\n",
            "      attack_ddos_udp     0.9996    0.9998    0.9997      8437\n",
            "  attack_os_port_scan     0.9963    0.9978    0.9970      2708\n",
            "         attack_samba     0.9991    0.9979    0.9985      3366\n",
            " attack_sql_injection     0.9800    0.9806    0.9803      5046\n",
            "           attack_vnc     0.9957    0.9944    0.9950      2315\n",
            "ddos_attack_scapy_new     1.0000    1.0000    1.0000      2926\n",
            "               normal     0.9969    0.9978    0.9973     11648\n",
            "\n",
            "             accuracy                         0.9943     47989\n",
            "            macro avg     0.9928    0.9924    0.9926     47989\n",
            "         weighted avg     0.9943    0.9943    0.9943     47989\n",
            "\n"
          ]
        }
      ],
      "source": [
        "test_report = compute_classification_report(y_test, y_pred_test)\n",
        "print(test_report)"
      ]
    },
    {
      "cell_type": "code",
      "execution_count": null,
      "metadata": {
        "id": "MiCLHc9UYTxs"
      },
      "outputs": [],
      "source": [
        "with open('/content/drive/MyDrive/freelancing/mininet_laila/paper2(idsl)/results/results_scapy.txt', 'a') as fid:\n",
        "  fid.write('\\n---------------------------------------------------------------------\\n')\n",
        "  fid.write(f\"model_name: {model_name}\\n\")\n",
        "  fid.write(f\"trainning_time: {trainning_time}\\n\")\n",
        "  fid.write(f\"prediction_time: {prediction_time}\\n\")\n",
        "  fid.write(f\"throughtput: {throughtput}\\n\")\n",
        "  fid.write(f\"Trainning report: \\n\")\n",
        "  fid.write(trainning_report)\n",
        "  fid.write('\\n\\n')\n",
        "  fid.write(f\"Validation report: \\n\")\n",
        "  fid.write(validation_report)\n",
        "  fid.write('\\n\\n')\n",
        "  fid.write(f\"Test report: \\n\")\n",
        "  fid.write(test_report)\n",
        "  fid.write('\\n\\n')\n",
        "  fid.write('\\n---------------------------------------------------------------------\\n')\n"
      ]
    },
    {
      "cell_type": "code",
      "execution_count": null,
      "metadata": {
        "id": "5QWTQqk9aSK7"
      },
      "outputs": [],
      "source": [
        "save_model(model, f'/content/drive/MyDrive/freelancing/mininet_laila/paper2(idsl)/models/{model_name}.sav')"
      ]
    },
    {
      "cell_type": "markdown",
      "metadata": {
        "id": "AlvwuwY4Jd4i"
      },
      "source": [
        "# **Decision Tree**"
      ]
    },
    {
      "cell_type": "code",
      "execution_count": null,
      "metadata": {
        "id": "5iQi4QAtBNrE"
      },
      "outputs": [],
      "source": [
        "from sklearn.tree import DecisionTreeClassifier"
      ]
    },
    {
      "cell_type": "code",
      "execution_count": null,
      "metadata": {
        "id": "okz6pDnuOHAc"
      },
      "outputs": [],
      "source": [
        "model = DecisionTreeClassifier(random_state=0)"
      ]
    },
    {
      "cell_type": "code",
      "execution_count": null,
      "metadata": {
        "id": "djnE5gKTappC"
      },
      "outputs": [],
      "source": [
        "model_name = 'DT_scapy'"
      ]
    },
    {
      "cell_type": "code",
      "execution_count": null,
      "metadata": {
        "colab": {
          "base_uri": "https://localhost:8080/"
        },
        "id": "H4j5K_L6appC",
        "outputId": "1e1d0d91-5331-4af9-a5e6-878580e780e8"
      },
      "outputs": [
        {
          "name": "stdout",
          "output_type": "stream",
          "text": [
            "3.7955005168914795\n"
          ]
        }
      ],
      "source": [
        "start = time.time()\n",
        "model.fit(X_train, y_train)\n",
        "end = time.time()\n",
        "print(end - start)\n",
        "trainning_time = end - start"
      ]
    },
    {
      "cell_type": "code",
      "execution_count": null,
      "metadata": {
        "id": "KXT2eYCQappC"
      },
      "outputs": [],
      "source": [
        "y_pred_train = model.predict(X_train)"
      ]
    },
    {
      "cell_type": "code",
      "execution_count": null,
      "metadata": {
        "id": "yFZ9oC5jappC"
      },
      "outputs": [],
      "source": [
        "y_pred_validation = model.predict(X_val)"
      ]
    },
    {
      "cell_type": "code",
      "execution_count": null,
      "metadata": {
        "colab": {
          "base_uri": "https://localhost:8080/"
        },
        "id": "4wNw1A3oappC",
        "outputId": "bcc6c058-88cf-4b83-f6eb-83fc10e6d661"
      },
      "outputs": [
        {
          "name": "stdout",
          "output_type": "stream",
          "text": [
            "0.009324789047241211\n",
            "(47989, 5)\n",
            "5146389.881516709\n"
          ]
        }
      ],
      "source": [
        "start = time.time()\n",
        "y_pred_test =  model.predict(X_test)\n",
        "end = time.time()\n",
        "print(end - start)\n",
        "prediction_time = end - start\n",
        "print(X_test.shape)\n",
        "th = X_test.shape[0] / (end - start)\n",
        "print(th)\n",
        "throughtput = th"
      ]
    },
    {
      "cell_type": "code",
      "execution_count": null,
      "metadata": {
        "colab": {
          "base_uri": "https://localhost:8080/"
        },
        "id": "n0F0HLxaappD",
        "outputId": "e3367fdb-1571-4770-e6c6-95a2ebb1f639"
      },
      "outputs": [
        {
          "name": "stdout",
          "output_type": "stream",
          "text": [
            "                       precision    recall  f1-score   support\n",
            "\n",
            "    attack_bruteforce     1.0000    1.0000    1.0000     20835\n",
            "           attack_cmd     1.0000    1.0000    1.0000     23061\n",
            "      attack_ddos_tcp     1.0000    1.0000    1.0000     49601\n",
            "      attack_ddos_udp     1.0000    1.0000    1.0000     68336\n",
            "  attack_os_port_scan     1.0000    1.0000    1.0000     21934\n",
            "         attack_samba     1.0000    1.0000    1.0000     27270\n",
            " attack_sql_injection     1.0000    1.0000    1.0000     40869\n",
            "           attack_vnc     1.0000    1.0000    1.0000     18752\n",
            "ddos_attack_scapy_new     1.0000    1.0000    1.0000     23698\n",
            "               normal     1.0000    1.0000    1.0000     94348\n",
            "\n",
            "             accuracy                         1.0000    388704\n",
            "            macro avg     1.0000    1.0000    1.0000    388704\n",
            "         weighted avg     1.0000    1.0000    1.0000    388704\n",
            "\n"
          ]
        }
      ],
      "source": [
        "trainning_report = compute_classification_report(y_train, y_pred_train)\n",
        "print(trainning_report)"
      ]
    },
    {
      "cell_type": "code",
      "execution_count": null,
      "metadata": {
        "colab": {
          "base_uri": "https://localhost:8080/"
        },
        "id": "yOnsVIbaappD",
        "outputId": "cc874621-7742-460c-a242-abefd8f8115d"
      },
      "outputs": [
        {
          "name": "stdout",
          "output_type": "stream",
          "text": [
            "                       precision    recall  f1-score   support\n",
            "\n",
            "    attack_bruteforce     0.9740    0.9724    0.9732      2315\n",
            "           attack_cmd     0.9710    0.9684    0.9697      2562\n",
            "      attack_ddos_tcp     1.0000    0.9998    0.9999      5512\n",
            "      attack_ddos_udp     0.9999    1.0000    0.9999      7593\n",
            "  attack_os_port_scan     0.9979    0.9984    0.9982      2437\n",
            "         attack_samba     0.9983    0.9977    0.9980      3030\n",
            " attack_sql_injection     0.9712    0.9731    0.9722      4541\n",
            "           attack_vnc     0.9947    0.9957    0.9952      2084\n",
            "ddos_attack_scapy_new     1.0000    1.0000    1.0000      2633\n",
            "               normal     0.9950    0.9951    0.9951     10483\n",
            "\n",
            "             accuracy                         0.9922     43190\n",
            "            macro avg     0.9902    0.9901    0.9901     43190\n",
            "         weighted avg     0.9922    0.9922    0.9922     43190\n",
            "\n"
          ]
        }
      ],
      "source": [
        "validation_report = compute_classification_report(y_validation, y_pred_validation)\n",
        "print(validation_report)"
      ]
    },
    {
      "cell_type": "code",
      "execution_count": null,
      "metadata": {
        "colab": {
          "base_uri": "https://localhost:8080/"
        },
        "id": "PfTtaSwlappD",
        "outputId": "86f8a6be-93a1-45f4-ec4b-755b2c266fa6"
      },
      "outputs": [
        {
          "name": "stdout",
          "output_type": "stream",
          "text": [
            "                       precision    recall  f1-score   support\n",
            "\n",
            "    attack_bruteforce     0.9766    0.9728    0.9747      2572\n",
            "           attack_cmd     0.9713    0.9737    0.9725      2847\n",
            "      attack_ddos_tcp     0.9998    0.9990    0.9994      6124\n",
            "      attack_ddos_udp     0.9995    0.9999    0.9997      8437\n",
            "  attack_os_port_scan     0.9985    0.9978    0.9982      2708\n",
            "         attack_samba     0.9973    0.9970    0.9972      3366\n",
            " attack_sql_injection     0.9739    0.9742    0.9740      5046\n",
            "           attack_vnc     0.9948    0.9961    0.9955      2315\n",
            "ddos_attack_scapy_new     1.0000    1.0000    1.0000      2926\n",
            "               normal     0.9947    0.9949    0.9948     11648\n",
            "\n",
            "             accuracy                         0.9924     47989\n",
            "            macro avg     0.9906    0.9905    0.9906     47989\n",
            "         weighted avg     0.9924    0.9924    0.9924     47989\n",
            "\n"
          ]
        }
      ],
      "source": [
        "test_report = compute_classification_report(y_test, y_pred_test)\n",
        "print(test_report)"
      ]
    },
    {
      "cell_type": "code",
      "execution_count": null,
      "metadata": {
        "id": "RWyRwmNwappD"
      },
      "outputs": [],
      "source": [
        "with open('/content/drive/MyDrive/freelancing/mininet_laila/paper2(idsl)/results/results_scapy.txt', 'a') as fid:\n",
        "  fid.write('\\n---------------------------------------------------------------------\\n')\n",
        "  fid.write(f\"model_name: {model_name}\\n\")\n",
        "  fid.write(f\"trainning_time: {trainning_time}\\n\")\n",
        "  fid.write(f\"prediction_time: {prediction_time}\\n\")\n",
        "  fid.write(f\"throughtput: {throughtput}\\n\")\n",
        "  fid.write(f\"Trainning report: \\n\")\n",
        "  fid.write(trainning_report)\n",
        "  fid.write('\\n\\n')\n",
        "  fid.write(f\"Validation report: \\n\")\n",
        "  fid.write(validation_report)\n",
        "  fid.write('\\n\\n')\n",
        "  fid.write(f\"Test report: \\n\")\n",
        "  fid.write(test_report)\n",
        "  fid.write('\\n\\n')\n",
        "  fid.write('\\n---------------------------------------------------------------------\\n')\n"
      ]
    },
    {
      "cell_type": "code",
      "execution_count": null,
      "metadata": {
        "id": "GJaTKWgjappD"
      },
      "outputs": [],
      "source": [
        "save_model(model, f'/content/drive/MyDrive/freelancing/mininet_laila/paper2(idsl)/models/{model_name}.sav')"
      ]
    },
    {
      "cell_type": "markdown",
      "metadata": {
        "id": "9QuwdSS_QcVk"
      },
      "source": [
        "# **Random forest**"
      ]
    },
    {
      "cell_type": "code",
      "execution_count": null,
      "metadata": {
        "id": "dR1uCCyVPwvS"
      },
      "outputs": [],
      "source": [
        "from sklearn.ensemble import RandomForestClassifier"
      ]
    },
    {
      "cell_type": "code",
      "execution_count": null,
      "metadata": {
        "id": "_YnMwmxESI7U"
      },
      "outputs": [],
      "source": [
        "model = RandomForestClassifier(random_state=0)"
      ]
    },
    {
      "cell_type": "code",
      "execution_count": null,
      "metadata": {
        "id": "ALV2P-w0a9Bx"
      },
      "outputs": [],
      "source": [
        "model_name = 'RF'"
      ]
    },
    {
      "cell_type": "code",
      "execution_count": null,
      "metadata": {
        "colab": {
          "base_uri": "https://localhost:8080/"
        },
        "id": "3Cf9GhFHa9Bx",
        "outputId": "c73ce1a7-0d66-421d-fb99-3bb2a76801d6"
      },
      "outputs": [
        {
          "name": "stdout",
          "output_type": "stream",
          "text": [
            "67.42899537086487\n"
          ]
        }
      ],
      "source": [
        "start = time.time()\n",
        "model.fit(X_train, y_train)\n",
        "end = time.time()\n",
        "print(end - start)\n",
        "trainning_time = end - start"
      ]
    },
    {
      "cell_type": "code",
      "execution_count": null,
      "metadata": {
        "id": "Q9gFL04ua9By"
      },
      "outputs": [],
      "source": [
        "y_pred_train = model.predict(X_train)"
      ]
    },
    {
      "cell_type": "code",
      "execution_count": null,
      "metadata": {
        "id": "lT0wziCka9By"
      },
      "outputs": [],
      "source": [
        "y_pred_validation = model.predict(X_val)"
      ]
    },
    {
      "cell_type": "code",
      "execution_count": null,
      "metadata": {
        "colab": {
          "base_uri": "https://localhost:8080/"
        },
        "id": "5okt8dt8a9By",
        "outputId": "6d4df458-1d3e-49ef-f333-e27881be85e5"
      },
      "outputs": [
        {
          "name": "stdout",
          "output_type": "stream",
          "text": [
            "0.5318832397460938\n",
            "(45063, 5)\n",
            "84723.48183317794\n"
          ]
        }
      ],
      "source": [
        "start = time.time()\n",
        "y_pred_test =  model.predict(X_test)\n",
        "end = time.time()\n",
        "print(end - start)\n",
        "prediction_time = end - start\n",
        "print(X_test.shape)\n",
        "th = X_test.shape[0] / (end - start)\n",
        "print(th)\n",
        "throughtput = th"
      ]
    },
    {
      "cell_type": "code",
      "execution_count": null,
      "metadata": {
        "colab": {
          "base_uri": "https://localhost:8080/"
        },
        "id": "VKXqk4s3a9By",
        "outputId": "4e3260ea-3f19-4752-d6fe-82f36a8c975b"
      },
      "outputs": [
        {
          "name": "stdout",
          "output_type": "stream",
          "text": [
            "                      precision    recall  f1-score   support\n",
            "\n",
            "   attack_bruteforce     1.0000    1.0000    1.0000     20835\n",
            "          attack_cmd     1.0000    1.0000    1.0000     23061\n",
            "     attack_ddos_tcp     1.0000    1.0000    1.0000     49601\n",
            "     attack_ddos_udp     1.0000    1.0000    1.0000     68336\n",
            " attack_os_port_scan     1.0000    1.0000    1.0000     21934\n",
            "        attack_samba     1.0000    1.0000    1.0000     27270\n",
            "attack_sql_injection     1.0000    1.0000    1.0000     40869\n",
            "          attack_vnc     1.0000    1.0000    1.0000     18752\n",
            "              normal     1.0000    1.0000    1.0000     94348\n",
            "\n",
            "            accuracy                         1.0000    365006\n",
            "           macro avg     1.0000    1.0000    1.0000    365006\n",
            "        weighted avg     1.0000    1.0000    1.0000    365006\n",
            "\n"
          ]
        }
      ],
      "source": [
        "trainning_report = compute_classification_report(y_train, y_pred_train)\n",
        "print(trainning_report)"
      ]
    },
    {
      "cell_type": "code",
      "execution_count": null,
      "metadata": {
        "colab": {
          "base_uri": "https://localhost:8080/"
        },
        "id": "S7geEEnna9By",
        "outputId": "56295b13-cc4e-4a27-d2e6-a7abfdf613d6"
      },
      "outputs": [
        {
          "name": "stdout",
          "output_type": "stream",
          "text": [
            "                      precision    recall  f1-score   support\n",
            "\n",
            "   attack_bruteforce     0.9891    0.9840    0.9866      2315\n",
            "          attack_cmd     0.9920    0.9672    0.9794      2562\n",
            "     attack_ddos_tcp     0.9996    0.9996    0.9996      5512\n",
            "     attack_ddos_udp     0.9999    1.0000    0.9999      7593\n",
            " attack_os_port_scan     0.9935    0.9984    0.9959      2437\n",
            "        attack_samba     1.0000    0.9977    0.9988      3030\n",
            "attack_sql_injection     0.9818    0.9967    0.9892      4541\n",
            "          attack_vnc     0.9962    0.9971    0.9966      2084\n",
            "              normal     0.9999    0.9998    0.9999     10483\n",
            "\n",
            "            accuracy                         0.9961     40557\n",
            "           macro avg     0.9947    0.9934    0.9940     40557\n",
            "        weighted avg     0.9961    0.9961    0.9961     40557\n",
            "\n"
          ]
        }
      ],
      "source": [
        "validation_report = compute_classification_report(y_validation, y_pred_validation)\n",
        "print(validation_report)"
      ]
    },
    {
      "cell_type": "code",
      "execution_count": null,
      "metadata": {
        "colab": {
          "base_uri": "https://localhost:8080/"
        },
        "id": "KIakcA-ta9By",
        "outputId": "0ec78aee-a908-4f5a-8c03-d43e4b231799"
      },
      "outputs": [
        {
          "name": "stdout",
          "output_type": "stream",
          "text": [
            "                      precision    recall  f1-score   support\n",
            "\n",
            "   attack_bruteforce     0.9871    0.9817    0.9844      2572\n",
            "          attack_cmd     0.9900    0.9719    0.9809      2847\n",
            "     attack_ddos_tcp     0.9998    0.9998    0.9998      6124\n",
            "     attack_ddos_udp     0.9998    1.0000    0.9999      8437\n",
            " attack_os_port_scan     0.9959    0.9982    0.9970      2708\n",
            "        attack_samba     1.0000    0.9982    0.9991      3366\n",
            "attack_sql_injection     0.9828    0.9948    0.9888      5046\n",
            "          attack_vnc     0.9974    0.9987    0.9981      2315\n",
            "              normal     0.9999    0.9998    0.9999     11648\n",
            "\n",
            "            accuracy                         0.9962     45063\n",
            "           macro avg     0.9947    0.9937    0.9942     45063\n",
            "        weighted avg     0.9962    0.9962    0.9962     45063\n",
            "\n"
          ]
        }
      ],
      "source": [
        "test_report = compute_classification_report(y_test, y_pred_test)\n",
        "print(test_report)"
      ]
    },
    {
      "cell_type": "code",
      "execution_count": null,
      "metadata": {
        "id": "rsDIFFoda9Bz"
      },
      "outputs": [],
      "source": [
        "with open('/content/drive/MyDrive/freelancing/mininet_laila/paper2(idsl)/results/results.txt', 'a') as fid:\n",
        "  fid.write('\\n---------------------------------------------------------------------\\n')\n",
        "  fid.write(f\"model_name: {model_name}\\n\")\n",
        "  fid.write(f\"trainning_time: {trainning_time}\\n\")\n",
        "  fid.write(f\"prediction_time: {prediction_time}\\n\")\n",
        "  fid.write(f\"throughtput: {throughtput}\\n\")\n",
        "  fid.write(f\"Trainning report: \\n\")\n",
        "  fid.write(trainning_report)\n",
        "  fid.write('\\n\\n')\n",
        "  fid.write(f\"Validation report: \\n\")\n",
        "  fid.write(validation_report)\n",
        "  fid.write('\\n\\n')\n",
        "  fid.write(f\"Test report: \\n\")\n",
        "  fid.write(test_report)\n",
        "  fid.write('\\n\\n')\n",
        "  fid.write('\\n---------------------------------------------------------------------\\n')\n"
      ]
    },
    {
      "cell_type": "code",
      "execution_count": null,
      "metadata": {
        "id": "vnyMC788a9Bz"
      },
      "outputs": [],
      "source": [
        "save_model(model, f'/content/drive/MyDrive/freelancing/mininet_laila/paper2(idsl)/models/{model_name}.sav')"
      ]
    },
    {
      "cell_type": "markdown",
      "metadata": {
        "id": "rlb-QrTUV_QY"
      },
      "source": [
        "# **Naive Bayes**"
      ]
    },
    {
      "cell_type": "code",
      "execution_count": null,
      "metadata": {
        "id": "nplnPqADSNdq"
      },
      "outputs": [],
      "source": [
        "from sklearn.naive_bayes import GaussianNB"
      ]
    },
    {
      "cell_type": "code",
      "execution_count": null,
      "metadata": {
        "id": "p1WxADUxWDQA"
      },
      "outputs": [],
      "source": [
        "model = GaussianNB()"
      ]
    },
    {
      "cell_type": "code",
      "execution_count": null,
      "metadata": {
        "id": "pLb4bDWjbV0A"
      },
      "outputs": [],
      "source": [
        "model_name = 'naive bayes'"
      ]
    },
    {
      "cell_type": "code",
      "execution_count": null,
      "metadata": {
        "colab": {
          "base_uri": "https://localhost:8080/"
        },
        "id": "j6hI9gY1bV0B",
        "outputId": "281bf0cb-2f7f-4cb5-f721-5ba28069555d"
      },
      "outputs": [
        {
          "name": "stdout",
          "output_type": "stream",
          "text": [
            "0.11048126220703125\n"
          ]
        }
      ],
      "source": [
        "start = time.time()\n",
        "model.fit(X_train, y_train)\n",
        "end = time.time()\n",
        "print(end - start)\n",
        "trainning_time = end - start"
      ]
    },
    {
      "cell_type": "code",
      "execution_count": null,
      "metadata": {
        "id": "afwIg_FDbV0C"
      },
      "outputs": [],
      "source": [
        "y_pred_train = model.predict(X_train)"
      ]
    },
    {
      "cell_type": "code",
      "execution_count": null,
      "metadata": {
        "id": "AW5aFkq_bV0C"
      },
      "outputs": [],
      "source": [
        "y_pred_validation = model.predict(X_val)"
      ]
    },
    {
      "cell_type": "code",
      "execution_count": null,
      "metadata": {
        "colab": {
          "base_uri": "https://localhost:8080/"
        },
        "id": "vqbfp_qSbV0D",
        "outputId": "8533f9f3-bc34-4e4f-9630-d3b3b9083c5d"
      },
      "outputs": [
        {
          "name": "stdout",
          "output_type": "stream",
          "text": [
            "0.025360822677612305\n",
            "(45063, 5)\n",
            "1776874.53490143\n"
          ]
        }
      ],
      "source": [
        "start = time.time()\n",
        "y_pred_test =  model.predict(X_test)\n",
        "end = time.time()\n",
        "print(end - start)\n",
        "prediction_time = end - start\n",
        "print(X_test.shape)\n",
        "th = X_test.shape[0] / (end - start)\n",
        "print(th)\n",
        "throughtput = th"
      ]
    },
    {
      "cell_type": "code",
      "execution_count": null,
      "metadata": {
        "colab": {
          "base_uri": "https://localhost:8080/"
        },
        "id": "JFB3_w8LbV0E",
        "outputId": "b21329d7-9995-46b9-a989-153ca6453ddf"
      },
      "outputs": [
        {
          "name": "stderr",
          "output_type": "stream",
          "text": [
            "/usr/local/lib/python3.8/dist-packages/sklearn/metrics/_classification.py:1318: UndefinedMetricWarning: Precision and F-score are ill-defined and being set to 0.0 in labels with no predicted samples. Use `zero_division` parameter to control this behavior.\n",
            "  _warn_prf(average, modifier, msg_start, len(result))\n",
            "/usr/local/lib/python3.8/dist-packages/sklearn/metrics/_classification.py:1318: UndefinedMetricWarning: Precision and F-score are ill-defined and being set to 0.0 in labels with no predicted samples. Use `zero_division` parameter to control this behavior.\n",
            "  _warn_prf(average, modifier, msg_start, len(result))\n"
          ]
        },
        {
          "name": "stdout",
          "output_type": "stream",
          "text": [
            "                      precision    recall  f1-score   support\n",
            "\n",
            "   attack_bruteforce     0.2228    0.2592    0.2396     20835\n",
            "          attack_cmd     0.2364    0.0136    0.0257     23061\n",
            "     attack_ddos_tcp     0.0000    0.0000    0.0000     49601\n",
            "     attack_ddos_udp     0.2186    1.0000    0.3588     68336\n",
            " attack_os_port_scan     0.0000    0.0000    0.0000     21934\n",
            "        attack_samba     0.0000    0.0000    0.0000     27270\n",
            "attack_sql_injection     0.2018    0.0039    0.0077     40869\n",
            "          attack_vnc     0.0419    0.0012    0.0023     18752\n",
            "              normal     0.9977    0.2699    0.4249     94348\n",
            "\n",
            "            accuracy                         0.2731    365006\n",
            "           macro avg     0.2132    0.1720    0.1177    365006\n",
            "        weighted avg     0.3512    0.2731    0.1933    365006\n",
            "\n"
          ]
        },
        {
          "name": "stderr",
          "output_type": "stream",
          "text": [
            "/usr/local/lib/python3.8/dist-packages/sklearn/metrics/_classification.py:1318: UndefinedMetricWarning: Precision and F-score are ill-defined and being set to 0.0 in labels with no predicted samples. Use `zero_division` parameter to control this behavior.\n",
            "  _warn_prf(average, modifier, msg_start, len(result))\n"
          ]
        }
      ],
      "source": [
        "trainning_report = compute_classification_report(y_train, y_pred_train)\n",
        "print(trainning_report)"
      ]
    },
    {
      "cell_type": "code",
      "execution_count": null,
      "metadata": {
        "colab": {
          "base_uri": "https://localhost:8080/"
        },
        "id": "pOTQHIKjbV0G",
        "outputId": "84dfcfb3-d711-48c6-eb64-c1da8d28d74c"
      },
      "outputs": [
        {
          "name": "stdout",
          "output_type": "stream",
          "text": [
            "                      precision    recall  f1-score   support\n",
            "\n",
            "   attack_bruteforce     0.2153    0.2475    0.2303      2315\n",
            "          attack_cmd     0.2657    0.0148    0.0281      2562\n",
            "     attack_ddos_tcp     0.0000    0.0000    0.0000      5512\n",
            "     attack_ddos_udp     0.2186    1.0000    0.3588      7593\n",
            " attack_os_port_scan     0.0000    0.0000    0.0000      2437\n",
            "        attack_samba     0.0000    0.0000    0.0000      3030\n",
            "attack_sql_injection     0.1333    0.0026    0.0052      4541\n",
            "          attack_vnc     0.0370    0.0010    0.0019      2084\n",
            "              normal     0.9976    0.2740    0.4299     10483\n",
            "\n",
            "            accuracy                         0.2734     40557\n",
            "           macro avg     0.2075    0.1711    0.1171     40557\n",
            "        weighted avg     0.3447    0.2734    0.1939     40557\n",
            "\n"
          ]
        },
        {
          "name": "stderr",
          "output_type": "stream",
          "text": [
            "/usr/local/lib/python3.8/dist-packages/sklearn/metrics/_classification.py:1318: UndefinedMetricWarning: Precision and F-score are ill-defined and being set to 0.0 in labels with no predicted samples. Use `zero_division` parameter to control this behavior.\n",
            "  _warn_prf(average, modifier, msg_start, len(result))\n",
            "/usr/local/lib/python3.8/dist-packages/sklearn/metrics/_classification.py:1318: UndefinedMetricWarning: Precision and F-score are ill-defined and being set to 0.0 in labels with no predicted samples. Use `zero_division` parameter to control this behavior.\n",
            "  _warn_prf(average, modifier, msg_start, len(result))\n",
            "/usr/local/lib/python3.8/dist-packages/sklearn/metrics/_classification.py:1318: UndefinedMetricWarning: Precision and F-score are ill-defined and being set to 0.0 in labels with no predicted samples. Use `zero_division` parameter to control this behavior.\n",
            "  _warn_prf(average, modifier, msg_start, len(result))\n"
          ]
        }
      ],
      "source": [
        "validation_report = compute_classification_report(y_validation, y_pred_validation)\n",
        "print(validation_report)"
      ]
    },
    {
      "cell_type": "code",
      "execution_count": null,
      "metadata": {
        "colab": {
          "base_uri": "https://localhost:8080/"
        },
        "id": "C9g8aUwJbV0H",
        "outputId": "006f1710-1c19-4d23-ff66-e48a17075db8"
      },
      "outputs": [
        {
          "name": "stdout",
          "output_type": "stream",
          "text": [
            "                      precision    recall  f1-score   support\n",
            "\n",
            "   attack_bruteforce     0.2345    0.2656    0.2491      2572\n",
            "          attack_cmd     0.2500    0.0151    0.0285      2847\n",
            "     attack_ddos_tcp     0.0000    0.0000    0.0000      6124\n",
            "     attack_ddos_udp     0.2178    1.0000    0.3577      8437\n",
            " attack_os_port_scan     0.0000    0.0000    0.0000      2708\n",
            "        attack_samba     0.0000    0.0000    0.0000      3366\n",
            "attack_sql_injection     0.1287    0.0026    0.0051      5046\n",
            "          attack_vnc     0.0328    0.0009    0.0017      2315\n",
            "              normal     0.9971    0.2642    0.4177     11648\n",
            "\n",
            "            accuracy                         0.2720     45063\n",
            "           macro avg     0.2068    0.1720    0.1177     45063\n",
            "        weighted avg     0.3438    0.2720    0.1916     45063\n",
            "\n"
          ]
        },
        {
          "name": "stderr",
          "output_type": "stream",
          "text": [
            "/usr/local/lib/python3.8/dist-packages/sklearn/metrics/_classification.py:1318: UndefinedMetricWarning: Precision and F-score are ill-defined and being set to 0.0 in labels with no predicted samples. Use `zero_division` parameter to control this behavior.\n",
            "  _warn_prf(average, modifier, msg_start, len(result))\n",
            "/usr/local/lib/python3.8/dist-packages/sklearn/metrics/_classification.py:1318: UndefinedMetricWarning: Precision and F-score are ill-defined and being set to 0.0 in labels with no predicted samples. Use `zero_division` parameter to control this behavior.\n",
            "  _warn_prf(average, modifier, msg_start, len(result))\n",
            "/usr/local/lib/python3.8/dist-packages/sklearn/metrics/_classification.py:1318: UndefinedMetricWarning: Precision and F-score are ill-defined and being set to 0.0 in labels with no predicted samples. Use `zero_division` parameter to control this behavior.\n",
            "  _warn_prf(average, modifier, msg_start, len(result))\n"
          ]
        }
      ],
      "source": [
        "test_report = compute_classification_report(y_test, y_pred_test)\n",
        "print(test_report)"
      ]
    },
    {
      "cell_type": "code",
      "execution_count": null,
      "metadata": {
        "id": "LC0qQpqvbV0I"
      },
      "outputs": [],
      "source": [
        "with open('/content/drive/MyDrive/freelancing/mininet_laila/paper2(idsl)/results/results.txt', 'a') as fid:\n",
        "  fid.write('\\n---------------------------------------------------------------------\\n')\n",
        "  fid.write(f\"model_name: {model_name}\\n\")\n",
        "  fid.write(f\"trainning_time: {trainning_time}\\n\")\n",
        "  fid.write(f\"prediction_time: {prediction_time}\\n\")\n",
        "  fid.write(f\"throughtput: {throughtput}\\n\")\n",
        "  fid.write(f\"Trainning report: \\n\")\n",
        "  fid.write(trainning_report)\n",
        "  fid.write('\\n\\n')\n",
        "  fid.write(f\"Validation report: \\n\")\n",
        "  fid.write(validation_report)\n",
        "  fid.write('\\n\\n')\n",
        "  fid.write(f\"Test report: \\n\")\n",
        "  fid.write(test_report)\n",
        "  fid.write('\\n\\n')\n",
        "  fid.write('\\n---------------------------------------------------------------------\\n')\n"
      ]
    },
    {
      "cell_type": "code",
      "execution_count": null,
      "metadata": {
        "id": "q0TXOM_pbV0J"
      },
      "outputs": [],
      "source": [
        "save_model(model, f'/content/drive/MyDrive/freelancing/mininet_laila/paper2(idsl)/models/{model_name}.sav')"
      ]
    },
    {
      "cell_type": "markdown",
      "metadata": {
        "id": "Yx8h1qVBWsP0"
      },
      "source": [
        "# **LogisticRegression**"
      ]
    },
    {
      "cell_type": "code",
      "execution_count": null,
      "metadata": {
        "id": "gG4SnaCSWTCX"
      },
      "outputs": [],
      "source": [
        "from sklearn.linear_model import LogisticRegression"
      ]
    },
    {
      "cell_type": "code",
      "execution_count": null,
      "metadata": {
        "id": "E_hPwXzzWxB1"
      },
      "outputs": [],
      "source": [
        "model = LogisticRegression(random_state=0)"
      ]
    },
    {
      "cell_type": "code",
      "execution_count": null,
      "metadata": {
        "id": "T2YVWYc0bgcS"
      },
      "outputs": [],
      "source": [
        "model_name = 'Logistic regression'"
      ]
    },
    {
      "cell_type": "code",
      "execution_count": null,
      "metadata": {
        "colab": {
          "base_uri": "https://localhost:8080/"
        },
        "id": "1OWw1LzabgcS",
        "outputId": "63e1d460-7df5-4d60-994f-065f64c03b96"
      },
      "outputs": [
        {
          "name": "stdout",
          "output_type": "stream",
          "text": [
            "31.202036380767822\n"
          ]
        },
        {
          "name": "stderr",
          "output_type": "stream",
          "text": [
            "/usr/local/lib/python3.8/dist-packages/sklearn/linear_model/_logistic.py:814: ConvergenceWarning: lbfgs failed to converge (status=1):\n",
            "STOP: TOTAL NO. of ITERATIONS REACHED LIMIT.\n",
            "\n",
            "Increase the number of iterations (max_iter) or scale the data as shown in:\n",
            "    https://scikit-learn.org/stable/modules/preprocessing.html\n",
            "Please also refer to the documentation for alternative solver options:\n",
            "    https://scikit-learn.org/stable/modules/linear_model.html#logistic-regression\n",
            "  n_iter_i = _check_optimize_result(\n"
          ]
        }
      ],
      "source": [
        "start = time.time()\n",
        "model.fit(X_train, y_train)\n",
        "end = time.time()\n",
        "print(end - start)\n",
        "trainning_time = end - start"
      ]
    },
    {
      "cell_type": "code",
      "execution_count": null,
      "metadata": {
        "id": "Vdl-uD-YbgcS"
      },
      "outputs": [],
      "source": [
        "y_pred_train = model.predict(X_train)"
      ]
    },
    {
      "cell_type": "code",
      "execution_count": null,
      "metadata": {
        "id": "Hn9GJFFZbgcS"
      },
      "outputs": [],
      "source": [
        "y_pred_validation = model.predict(X_val)"
      ]
    },
    {
      "cell_type": "code",
      "execution_count": null,
      "metadata": {
        "colab": {
          "base_uri": "https://localhost:8080/"
        },
        "id": "Ij5P8BAkbgcS",
        "outputId": "945d6e73-f97b-47b9-8270-1e20013b38cb"
      },
      "outputs": [
        {
          "name": "stdout",
          "output_type": "stream",
          "text": [
            "0.01006460189819336\n",
            "(45063, 5)\n",
            "4477375.305633202\n"
          ]
        }
      ],
      "source": [
        "start = time.time()\n",
        "y_pred_test =  model.predict(X_test)\n",
        "end = time.time()\n",
        "print(end - start)\n",
        "prediction_time = end - start\n",
        "print(X_test.shape)\n",
        "th = X_test.shape[0] / (end - start)\n",
        "print(th)\n",
        "throughtput = th"
      ]
    },
    {
      "cell_type": "code",
      "execution_count": null,
      "metadata": {
        "colab": {
          "base_uri": "https://localhost:8080/"
        },
        "id": "6381pZdybgcS",
        "outputId": "0849a2e5-6d8e-44e8-d543-5b9807731a5f"
      },
      "outputs": [
        {
          "name": "stderr",
          "output_type": "stream",
          "text": [
            "/usr/local/lib/python3.8/dist-packages/sklearn/metrics/_classification.py:1318: UndefinedMetricWarning: Precision and F-score are ill-defined and being set to 0.0 in labels with no predicted samples. Use `zero_division` parameter to control this behavior.\n",
            "  _warn_prf(average, modifier, msg_start, len(result))\n",
            "/usr/local/lib/python3.8/dist-packages/sklearn/metrics/_classification.py:1318: UndefinedMetricWarning: Precision and F-score are ill-defined and being set to 0.0 in labels with no predicted samples. Use `zero_division` parameter to control this behavior.\n",
            "  _warn_prf(average, modifier, msg_start, len(result))\n"
          ]
        },
        {
          "name": "stdout",
          "output_type": "stream",
          "text": [
            "                      precision    recall  f1-score   support\n",
            "\n",
            "   attack_bruteforce     0.0000    0.0000    0.0000     20835\n",
            "          attack_cmd     0.0000    0.0000    0.0000     23061\n",
            "     attack_ddos_tcp     0.0000    0.0000    0.0000     49601\n",
            "     attack_ddos_udp     0.2012    1.0000    0.3350     68336\n",
            " attack_os_port_scan     0.0000    0.0000    0.0000     21934\n",
            "        attack_samba     0.0000    0.0000    0.0000     27270\n",
            "attack_sql_injection     1.0000    0.0001    0.0002     40869\n",
            "          attack_vnc     0.0000    0.0000    0.0000     18752\n",
            "              normal     1.0000    0.2684    0.4232     94348\n",
            "\n",
            "            accuracy                         0.2566    365006\n",
            "           macro avg     0.2446    0.1409    0.0843    365006\n",
            "        weighted avg     0.4081    0.2566    0.1721    365006\n",
            "\n"
          ]
        },
        {
          "name": "stderr",
          "output_type": "stream",
          "text": [
            "/usr/local/lib/python3.8/dist-packages/sklearn/metrics/_classification.py:1318: UndefinedMetricWarning: Precision and F-score are ill-defined and being set to 0.0 in labels with no predicted samples. Use `zero_division` parameter to control this behavior.\n",
            "  _warn_prf(average, modifier, msg_start, len(result))\n"
          ]
        }
      ],
      "source": [
        "trainning_report = compute_classification_report(y_train, y_pred_train)\n",
        "print(trainning_report)"
      ]
    },
    {
      "cell_type": "code",
      "execution_count": null,
      "metadata": {
        "colab": {
          "base_uri": "https://localhost:8080/"
        },
        "id": "dBh1NuLwbgcT",
        "outputId": "c2aea62a-88ac-49ec-c7c8-898119ed4f37"
      },
      "outputs": [
        {
          "name": "stdout",
          "output_type": "stream",
          "text": [
            "                      precision    recall  f1-score   support\n",
            "\n",
            "   attack_bruteforce     0.0000    0.0000    0.0000      2315\n",
            "          attack_cmd     0.0000    0.0000    0.0000      2562\n",
            "     attack_ddos_tcp     0.0000    0.0000    0.0000      5512\n",
            "     attack_ddos_udp     0.2014    1.0000    0.3353      7593\n",
            " attack_os_port_scan     0.0000    0.0000    0.0000      2437\n",
            "        attack_samba     0.0000    0.0000    0.0000      3030\n",
            "attack_sql_injection     1.0000    0.0002    0.0004      4541\n",
            "          attack_vnc     0.0000    0.0000    0.0000      2084\n",
            "              normal     1.0000    0.2722    0.4279     10483\n",
            "\n",
            "            accuracy                         0.2576     40557\n",
            "           macro avg     0.2446    0.1414    0.0848     40557\n",
            "        weighted avg     0.4081    0.2576    0.1734     40557\n",
            "\n"
          ]
        },
        {
          "name": "stderr",
          "output_type": "stream",
          "text": [
            "/usr/local/lib/python3.8/dist-packages/sklearn/metrics/_classification.py:1318: UndefinedMetricWarning: Precision and F-score are ill-defined and being set to 0.0 in labels with no predicted samples. Use `zero_division` parameter to control this behavior.\n",
            "  _warn_prf(average, modifier, msg_start, len(result))\n",
            "/usr/local/lib/python3.8/dist-packages/sklearn/metrics/_classification.py:1318: UndefinedMetricWarning: Precision and F-score are ill-defined and being set to 0.0 in labels with no predicted samples. Use `zero_division` parameter to control this behavior.\n",
            "  _warn_prf(average, modifier, msg_start, len(result))\n",
            "/usr/local/lib/python3.8/dist-packages/sklearn/metrics/_classification.py:1318: UndefinedMetricWarning: Precision and F-score are ill-defined and being set to 0.0 in labels with no predicted samples. Use `zero_division` parameter to control this behavior.\n",
            "  _warn_prf(average, modifier, msg_start, len(result))\n"
          ]
        }
      ],
      "source": [
        "validation_report = compute_classification_report(y_validation, y_pred_validation)\n",
        "print(validation_report)"
      ]
    },
    {
      "cell_type": "code",
      "execution_count": null,
      "metadata": {
        "colab": {
          "base_uri": "https://localhost:8080/"
        },
        "id": "tfB_2avibgcT",
        "outputId": "3171e70a-5c1f-404d-901f-55a7ddecd0a2"
      },
      "outputs": [
        {
          "name": "stdout",
          "output_type": "stream",
          "text": [
            "                      precision    recall  f1-score   support\n",
            "\n",
            "   attack_bruteforce     0.0000    0.0000    0.0000      2572\n",
            "          attack_cmd     0.0000    0.0000    0.0000      2847\n",
            "     attack_ddos_tcp     0.0000    0.0000    0.0000      6124\n",
            "     attack_ddos_udp     0.2008    1.0000    0.3345      8437\n",
            " attack_os_port_scan     0.0000    0.0000    0.0000      2708\n",
            "        attack_samba     0.0000    0.0000    0.0000      3366\n",
            "attack_sql_injection     0.0000    0.0000    0.0000      5046\n",
            "          attack_vnc     0.0000    0.0000    0.0000      2315\n",
            "              normal     1.0000    0.2622    0.4155     11648\n",
            "\n",
            "            accuracy                         0.2550     45063\n",
            "           macro avg     0.1334    0.1402    0.0833     45063\n",
            "        weighted avg     0.2961    0.2550    0.1700     45063\n",
            "\n"
          ]
        },
        {
          "name": "stderr",
          "output_type": "stream",
          "text": [
            "/usr/local/lib/python3.8/dist-packages/sklearn/metrics/_classification.py:1318: UndefinedMetricWarning: Precision and F-score are ill-defined and being set to 0.0 in labels with no predicted samples. Use `zero_division` parameter to control this behavior.\n",
            "  _warn_prf(average, modifier, msg_start, len(result))\n",
            "/usr/local/lib/python3.8/dist-packages/sklearn/metrics/_classification.py:1318: UndefinedMetricWarning: Precision and F-score are ill-defined and being set to 0.0 in labels with no predicted samples. Use `zero_division` parameter to control this behavior.\n",
            "  _warn_prf(average, modifier, msg_start, len(result))\n",
            "/usr/local/lib/python3.8/dist-packages/sklearn/metrics/_classification.py:1318: UndefinedMetricWarning: Precision and F-score are ill-defined and being set to 0.0 in labels with no predicted samples. Use `zero_division` parameter to control this behavior.\n",
            "  _warn_prf(average, modifier, msg_start, len(result))\n"
          ]
        }
      ],
      "source": [
        "test_report = compute_classification_report(y_test, y_pred_test)\n",
        "print(test_report)"
      ]
    },
    {
      "cell_type": "code",
      "execution_count": null,
      "metadata": {
        "id": "-ETWzGqWbgcT"
      },
      "outputs": [],
      "source": [
        "with open('/content/drive/MyDrive/freelancing/mininet_laila/paper2(idsl)/results/results.txt', 'a') as fid:\n",
        "  fid.write('\\n---------------------------------------------------------------------\\n')\n",
        "  fid.write(f\"model_name: {model_name}\\n\")\n",
        "  fid.write(f\"trainning_time: {trainning_time}\\n\")\n",
        "  fid.write(f\"prediction_time: {prediction_time}\\n\")\n",
        "  fid.write(f\"throughtput: {throughtput}\\n\")\n",
        "  fid.write(f\"Trainning report: \\n\")\n",
        "  fid.write(trainning_report)\n",
        "  fid.write('\\n\\n')\n",
        "  fid.write(f\"Validation report: \\n\")\n",
        "  fid.write(validation_report)\n",
        "  fid.write('\\n\\n')\n",
        "  fid.write(f\"Test report: \\n\")\n",
        "  fid.write(test_report)\n",
        "  fid.write('\\n\\n')\n",
        "  fid.write('\\n---------------------------------------------------------------------\\n')\n"
      ]
    },
    {
      "cell_type": "code",
      "execution_count": null,
      "metadata": {
        "id": "FB5zg7zrbgcT"
      },
      "outputs": [],
      "source": [
        "save_model(model, f'/content/drive/MyDrive/freelancing/mininet_laila/paper2(idsl)/models/{model_name}.sav')"
      ]
    },
    {
      "cell_type": "markdown",
      "metadata": {
        "id": "bXOnXoBThyqF"
      },
      "source": [
        "# **Adaboost**"
      ]
    },
    {
      "cell_type": "code",
      "execution_count": null,
      "metadata": {
        "id": "MmVxzXKqX6yd"
      },
      "outputs": [],
      "source": [
        "from sklearn.ensemble import AdaBoostClassifier"
      ]
    },
    {
      "cell_type": "code",
      "execution_count": null,
      "metadata": {
        "id": "lZho2_8elH5-"
      },
      "outputs": [],
      "source": [
        "model = AdaBoostClassifier(random_state=0)"
      ]
    },
    {
      "cell_type": "code",
      "execution_count": null,
      "metadata": {
        "id": "pxeDEoAdbo7P"
      },
      "outputs": [],
      "source": []
    },
    {
      "cell_type": "code",
      "execution_count": null,
      "metadata": {
        "id": "inFA6hKLbpM7"
      },
      "outputs": [],
      "source": [
        "model_name = 'adaboost'"
      ]
    },
    {
      "cell_type": "code",
      "execution_count": null,
      "metadata": {
        "colab": {
          "base_uri": "https://localhost:8080/"
        },
        "id": "Q2vjgSzobpM7",
        "outputId": "9f89365a-e507-41ba-998c-de2a2f244208"
      },
      "outputs": [
        {
          "name": "stdout",
          "output_type": "stream",
          "text": [
            "22.072736263275146\n"
          ]
        }
      ],
      "source": [
        "start = time.time()\n",
        "model.fit(X_train, y_train)\n",
        "end = time.time()\n",
        "print(end - start)\n",
        "trainning_time = end - start"
      ]
    },
    {
      "cell_type": "code",
      "execution_count": null,
      "metadata": {
        "id": "DL6Cx9t9bpM7"
      },
      "outputs": [],
      "source": [
        "y_pred_train = model.predict(X_train)"
      ]
    },
    {
      "cell_type": "code",
      "execution_count": null,
      "metadata": {
        "id": "pEorosb7bpM8"
      },
      "outputs": [],
      "source": [
        "y_pred_validation = model.predict(X_val)"
      ]
    },
    {
      "cell_type": "code",
      "execution_count": null,
      "metadata": {
        "colab": {
          "base_uri": "https://localhost:8080/"
        },
        "id": "5DGnVdHDbpM8",
        "outputId": "a9fb9764-bd5d-46f7-bd0b-b74c6931b620"
      },
      "outputs": [
        {
          "name": "stdout",
          "output_type": "stream",
          "text": [
            "0.7353906631469727\n",
            "(45063, 5)\n",
            "61277.63413144377\n"
          ]
        }
      ],
      "source": [
        "start = time.time()\n",
        "y_pred_test =  model.predict(X_test)\n",
        "end = time.time()\n",
        "print(end - start)\n",
        "prediction_time = end - start\n",
        "print(X_test.shape)\n",
        "th = X_test.shape[0] / (end - start)\n",
        "print(th)\n",
        "throughtput = th"
      ]
    },
    {
      "cell_type": "code",
      "execution_count": null,
      "metadata": {
        "colab": {
          "base_uri": "https://localhost:8080/"
        },
        "id": "T_REXKtqbpM8",
        "outputId": "db2bd4de-ec2f-40f7-8ffe-3265519f8c97"
      },
      "outputs": [
        {
          "name": "stderr",
          "output_type": "stream",
          "text": [
            "/usr/local/lib/python3.8/dist-packages/sklearn/metrics/_classification.py:1318: UndefinedMetricWarning: Precision and F-score are ill-defined and being set to 0.0 in labels with no predicted samples. Use `zero_division` parameter to control this behavior.\n",
            "  _warn_prf(average, modifier, msg_start, len(result))\n"
          ]
        },
        {
          "name": "stdout",
          "output_type": "stream",
          "text": [
            "                      precision    recall  f1-score   support\n",
            "\n",
            "   attack_bruteforce     0.3179    0.0066    0.0129     20835\n",
            "          attack_cmd     0.0725    0.0840    0.0779     23061\n",
            "     attack_ddos_tcp     0.5892    0.9936    0.7398     49601\n",
            "     attack_ddos_udp     0.0000    0.0000    0.0000     68336\n",
            " attack_os_port_scan     0.0674    0.0103    0.0179     21934\n",
            "        attack_samba     0.8981    0.9888    0.9412     27270\n",
            "attack_sql_injection     0.3322    0.9485    0.4920     40869\n",
            "          attack_vnc     0.0000    0.0000    0.0000     18752\n",
            "              normal     0.6656    0.7346    0.6984     94348\n",
            "\n",
            "            accuracy                         0.5113    365006\n",
            "           macro avg     0.3270    0.4185    0.3311    365006\n",
            "        weighted avg     0.3832    0.5113    0.4132    365006\n",
            "\n"
          ]
        },
        {
          "name": "stderr",
          "output_type": "stream",
          "text": [
            "/usr/local/lib/python3.8/dist-packages/sklearn/metrics/_classification.py:1318: UndefinedMetricWarning: Precision and F-score are ill-defined and being set to 0.0 in labels with no predicted samples. Use `zero_division` parameter to control this behavior.\n",
            "  _warn_prf(average, modifier, msg_start, len(result))\n",
            "/usr/local/lib/python3.8/dist-packages/sklearn/metrics/_classification.py:1318: UndefinedMetricWarning: Precision and F-score are ill-defined and being set to 0.0 in labels with no predicted samples. Use `zero_division` parameter to control this behavior.\n",
            "  _warn_prf(average, modifier, msg_start, len(result))\n"
          ]
        }
      ],
      "source": [
        "trainning_report = compute_classification_report(y_train, y_pred_train)\n",
        "print(trainning_report)"
      ]
    },
    {
      "cell_type": "code",
      "execution_count": null,
      "metadata": {
        "colab": {
          "base_uri": "https://localhost:8080/"
        },
        "id": "A9pX3dPfbpM8",
        "outputId": "92b27f0d-d9fa-49dd-e3e4-02010dd2060d"
      },
      "outputs": [
        {
          "name": "stderr",
          "output_type": "stream",
          "text": [
            "/usr/local/lib/python3.8/dist-packages/sklearn/metrics/_classification.py:1318: UndefinedMetricWarning: Precision and F-score are ill-defined and being set to 0.0 in labels with no predicted samples. Use `zero_division` parameter to control this behavior.\n",
            "  _warn_prf(average, modifier, msg_start, len(result))\n"
          ]
        },
        {
          "name": "stdout",
          "output_type": "stream",
          "text": [
            "                      precision    recall  f1-score   support\n",
            "\n",
            "   attack_bruteforce     0.3636    0.0069    0.0136      2315\n",
            "          attack_cmd     0.0765    0.0847    0.0804      2562\n",
            "     attack_ddos_tcp     0.5885    0.9931    0.7391      5512\n",
            "     attack_ddos_udp     0.0000    0.0000    0.0000      7593\n",
            " attack_os_port_scan     0.0522    0.0082    0.0142      2437\n",
            "        attack_samba     0.8906    0.9891    0.9373      3030\n",
            "attack_sql_injection     0.3345    0.9527    0.4951      4541\n",
            "          attack_vnc     0.0000    0.0000    0.0000      2084\n",
            "              normal     0.6698    0.7471    0.7063     10483\n",
            "\n",
            "            accuracy                         0.5149     40557\n",
            "           macro avg     0.3306    0.4202    0.3318     40557\n",
            "        weighted avg     0.3858    0.5149    0.4152     40557\n",
            "\n"
          ]
        },
        {
          "name": "stderr",
          "output_type": "stream",
          "text": [
            "/usr/local/lib/python3.8/dist-packages/sklearn/metrics/_classification.py:1318: UndefinedMetricWarning: Precision and F-score are ill-defined and being set to 0.0 in labels with no predicted samples. Use `zero_division` parameter to control this behavior.\n",
            "  _warn_prf(average, modifier, msg_start, len(result))\n",
            "/usr/local/lib/python3.8/dist-packages/sklearn/metrics/_classification.py:1318: UndefinedMetricWarning: Precision and F-score are ill-defined and being set to 0.0 in labels with no predicted samples. Use `zero_division` parameter to control this behavior.\n",
            "  _warn_prf(average, modifier, msg_start, len(result))\n"
          ]
        }
      ],
      "source": [
        "validation_report = compute_classification_report(y_validation, y_pred_validation)\n",
        "print(validation_report)"
      ]
    },
    {
      "cell_type": "code",
      "execution_count": null,
      "metadata": {
        "colab": {
          "base_uri": "https://localhost:8080/"
        },
        "id": "VDUx2mzubpM8",
        "outputId": "e8438a80-f20c-48a4-8dfd-8988ba7b47d6"
      },
      "outputs": [
        {
          "name": "stdout",
          "output_type": "stream",
          "text": [
            "                      precision    recall  f1-score   support\n",
            "\n",
            "   attack_bruteforce     0.3148    0.0066    0.0129      2572\n",
            "          attack_cmd     0.0749    0.0885    0.0812      2847\n",
            "     attack_ddos_tcp     0.5873    0.9944    0.7385      6124\n",
            "     attack_ddos_udp     0.0000    0.0000    0.0000      8437\n",
            " attack_os_port_scan     0.0708    0.0114    0.0197      2708\n",
            "        attack_samba     0.8996    0.9851    0.9404      3366\n",
            "attack_sql_injection     0.3310    0.9443    0.4902      5046\n",
            "          attack_vnc     0.0000    0.0000    0.0000      2315\n",
            "              normal     0.6666    0.7301    0.6969     11648\n",
            "\n",
            "            accuracy                         0.5098     45063\n",
            "           macro avg     0.3272    0.4178    0.3311     45063\n",
            "        weighted avg     0.3833    0.5098    0.4127     45063\n",
            "\n"
          ]
        },
        {
          "name": "stderr",
          "output_type": "stream",
          "text": [
            "/usr/local/lib/python3.8/dist-packages/sklearn/metrics/_classification.py:1318: UndefinedMetricWarning: Precision and F-score are ill-defined and being set to 0.0 in labels with no predicted samples. Use `zero_division` parameter to control this behavior.\n",
            "  _warn_prf(average, modifier, msg_start, len(result))\n",
            "/usr/local/lib/python3.8/dist-packages/sklearn/metrics/_classification.py:1318: UndefinedMetricWarning: Precision and F-score are ill-defined and being set to 0.0 in labels with no predicted samples. Use `zero_division` parameter to control this behavior.\n",
            "  _warn_prf(average, modifier, msg_start, len(result))\n",
            "/usr/local/lib/python3.8/dist-packages/sklearn/metrics/_classification.py:1318: UndefinedMetricWarning: Precision and F-score are ill-defined and being set to 0.0 in labels with no predicted samples. Use `zero_division` parameter to control this behavior.\n",
            "  _warn_prf(average, modifier, msg_start, len(result))\n"
          ]
        }
      ],
      "source": [
        "test_report = compute_classification_report(y_test, y_pred_test)\n",
        "print(test_report)"
      ]
    },
    {
      "cell_type": "code",
      "execution_count": null,
      "metadata": {
        "id": "n42nTf9wbpM8"
      },
      "outputs": [],
      "source": [
        "with open('/content/drive/MyDrive/freelancing/mininet_laila/paper2(idsl)/results/results.txt', 'a') as fid:\n",
        "  fid.write('\\n---------------------------------------------------------------------\\n')\n",
        "  fid.write(f\"model_name: {model_name}\\n\")\n",
        "  fid.write(f\"trainning_time: {trainning_time}\\n\")\n",
        "  fid.write(f\"prediction_time: {prediction_time}\\n\")\n",
        "  fid.write(f\"throughtput: {throughtput}\\n\")\n",
        "  fid.write(f\"Trainning report: \\n\")\n",
        "  fid.write(trainning_report)\n",
        "  fid.write('\\n\\n')\n",
        "  fid.write(f\"Validation report: \\n\")\n",
        "  fid.write(validation_report)\n",
        "  fid.write('\\n\\n')\n",
        "  fid.write(f\"Test report: \\n\")\n",
        "  fid.write(test_report)\n",
        "  fid.write('\\n\\n')\n",
        "  fid.write('\\n---------------------------------------------------------------------\\n')\n"
      ]
    },
    {
      "cell_type": "code",
      "execution_count": null,
      "metadata": {
        "id": "T7uFXaIObpM8"
      },
      "outputs": [],
      "source": [
        "save_model(model, f'/content/drive/MyDrive/freelancing/mininet_laila/paper2(idsl)/models/{model_name}.sav')"
      ]
    },
    {
      "cell_type": "markdown",
      "metadata": {
        "id": "A4HeYf6sgMyU"
      },
      "source": [
        "# **xgboost**"
      ]
    },
    {
      "cell_type": "code",
      "execution_count": null,
      "metadata": {
        "id": "fK1r5eiDgPUR"
      },
      "outputs": [],
      "source": [
        "import xgboost as xgb"
      ]
    },
    {
      "cell_type": "code",
      "execution_count": null,
      "metadata": {
        "id": "bjrtPdvigP4d"
      },
      "outputs": [],
      "source": [
        "model = xgb.XGBClassifier()\n"
      ]
    },
    {
      "cell_type": "code",
      "execution_count": null,
      "metadata": {
        "id": "0Rm3Cub0bxoB"
      },
      "outputs": [],
      "source": [
        "model_name = 'XGBoost'"
      ]
    },
    {
      "cell_type": "code",
      "execution_count": null,
      "metadata": {
        "colab": {
          "base_uri": "https://localhost:8080/"
        },
        "id": "9UfzJmlcbxoC",
        "outputId": "a4139e94-ab95-4268-ff72-24147fb331cd"
      },
      "outputs": [
        {
          "name": "stdout",
          "output_type": "stream",
          "text": [
            "100.95415902137756\n"
          ]
        }
      ],
      "source": [
        "start = time.time()\n",
        "model.fit(X_train, y_train)\n",
        "end = time.time()\n",
        "print(end - start)\n",
        "trainning_time = end - start"
      ]
    },
    {
      "cell_type": "code",
      "execution_count": null,
      "metadata": {
        "id": "uKIf1eNVbxoC"
      },
      "outputs": [],
      "source": [
        "y_pred_train = model.predict(X_train)"
      ]
    },
    {
      "cell_type": "code",
      "execution_count": null,
      "metadata": {
        "id": "W2h_97-ObxoC"
      },
      "outputs": [],
      "source": [
        "y_pred_validation = model.predict(X_val)"
      ]
    },
    {
      "cell_type": "code",
      "execution_count": null,
      "metadata": {
        "colab": {
          "base_uri": "https://localhost:8080/"
        },
        "id": "zKjLihyWbxoC",
        "outputId": "c3954aa2-1a7c-418a-f580-398d12c56840"
      },
      "outputs": [
        {
          "name": "stdout",
          "output_type": "stream",
          "text": [
            "0.8648738861083984\n",
            "(45063, 5)\n",
            "52103.55026761908\n"
          ]
        }
      ],
      "source": [
        "start = time.time()\n",
        "y_pred_test =  model.predict(X_test)\n",
        "end = time.time()\n",
        "print(end - start)\n",
        "prediction_time = end - start\n",
        "print(X_test.shape)\n",
        "th = X_test.shape[0] / (end - start)\n",
        "print(th)\n",
        "throughtput = th"
      ]
    },
    {
      "cell_type": "code",
      "execution_count": null,
      "metadata": {
        "colab": {
          "base_uri": "https://localhost:8080/"
        },
        "id": "DHhPe2HhbxoD",
        "outputId": "4996b23b-9513-4fc8-8c88-fa18467ad8cf"
      },
      "outputs": [
        {
          "name": "stdout",
          "output_type": "stream",
          "text": [
            "                      precision    recall  f1-score   support\n",
            "\n",
            "   attack_bruteforce     0.9295    0.7440    0.8265     20835\n",
            "          attack_cmd     0.9702    0.8813    0.9236     23061\n",
            "     attack_ddos_tcp     0.9996    0.9995    0.9996     49601\n",
            "     attack_ddos_udp     0.9994    0.9998    0.9996     68336\n",
            " attack_os_port_scan     0.9718    0.9969    0.9842     21934\n",
            "        attack_samba     0.9984    0.9948    0.9966     27270\n",
            "attack_sql_injection     0.8649    0.9882    0.9224     40869\n",
            "          attack_vnc     0.9902    0.9892    0.9897     18752\n",
            "              normal     0.9999    0.9996    0.9997     94348\n",
            "\n",
            "            accuracy                         0.9752    365006\n",
            "           macro avg     0.9693    0.9548    0.9602    365006\n",
            "        weighted avg     0.9765    0.9752    0.9747    365006\n",
            "\n"
          ]
        }
      ],
      "source": [
        "trainning_report = compute_classification_report(y_train, y_pred_train)\n",
        "print(trainning_report)"
      ]
    },
    {
      "cell_type": "code",
      "execution_count": null,
      "metadata": {
        "colab": {
          "base_uri": "https://localhost:8080/"
        },
        "id": "ZBgDut6bbxoD",
        "outputId": "01f8a164-ec36-4127-e353-98801c8361ba"
      },
      "outputs": [
        {
          "name": "stdout",
          "output_type": "stream",
          "text": [
            "                      precision    recall  f1-score   support\n",
            "\n",
            "   attack_bruteforce     0.9195    0.7205    0.8079      2315\n",
            "          attack_cmd     0.9645    0.8907    0.9261      2562\n",
            "     attack_ddos_tcp     0.9998    0.9993    0.9995      5512\n",
            "     attack_ddos_udp     0.9993    0.9999    0.9996      7593\n",
            " attack_os_port_scan     0.9700    0.9959    0.9828      2437\n",
            "        attack_samba     1.0000    0.9950    0.9975      3030\n",
            "attack_sql_injection     0.8630    0.9859    0.9203      4541\n",
            "          attack_vnc     0.9909    0.9904    0.9906      2084\n",
            "              normal     0.9996    0.9996    0.9996     10483\n",
            "\n",
            "            accuracy                         0.9742     40557\n",
            "           macro avg     0.9674    0.9530    0.9582     40557\n",
            "        weighted avg     0.9753    0.9742    0.9735     40557\n",
            "\n"
          ]
        }
      ],
      "source": [
        "validation_report = compute_classification_report(y_validation, y_pred_validation)\n",
        "print(validation_report)"
      ]
    },
    {
      "cell_type": "code",
      "execution_count": null,
      "metadata": {
        "colab": {
          "base_uri": "https://localhost:8080/"
        },
        "id": "-Rz5Jpq6bxoD",
        "outputId": "27a2e150-23d4-46c0-c3c4-5644160bbd2a"
      },
      "outputs": [
        {
          "name": "stdout",
          "output_type": "stream",
          "text": [
            "                      precision    recall  f1-score   support\n",
            "\n",
            "   attack_bruteforce     0.9180    0.7317    0.8144      2572\n",
            "          attack_cmd     0.9677    0.8830    0.9234      2847\n",
            "     attack_ddos_tcp     0.9997    0.9995    0.9996      6124\n",
            "     attack_ddos_udp     0.9991    0.9999    0.9995      8437\n",
            " attack_os_port_scan     0.9709    0.9967    0.9836      2708\n",
            "        attack_samba     0.9988    0.9952    0.9970      3366\n",
            "attack_sql_injection     0.8632    0.9867    0.9208      5046\n",
            "          attack_vnc     0.9926    0.9879    0.9903      2315\n",
            "              normal     0.9999    0.9994    0.9997     11648\n",
            "\n",
            "            accuracy                         0.9744     45063\n",
            "           macro avg     0.9678    0.9533    0.9587     45063\n",
            "        weighted avg     0.9755    0.9744    0.9738     45063\n",
            "\n"
          ]
        }
      ],
      "source": [
        "test_report = compute_classification_report(y_test, y_pred_test)\n",
        "print(test_report)"
      ]
    },
    {
      "cell_type": "code",
      "execution_count": null,
      "metadata": {
        "id": "32Nfalc1bxoD"
      },
      "outputs": [],
      "source": [
        "with open('/content/drive/MyDrive/freelancing/mininet_laila/paper2(idsl)/results/results.txt', 'a') as fid:\n",
        "  fid.write('\\n---------------------------------------------------------------------\\n')\n",
        "  fid.write(f\"model_name: {model_name}\\n\")\n",
        "  fid.write(f\"trainning_time: {trainning_time}\\n\")\n",
        "  fid.write(f\"prediction_time: {prediction_time}\\n\")\n",
        "  fid.write(f\"throughtput: {throughtput}\\n\")\n",
        "  fid.write(f\"Trainning report: \\n\")\n",
        "  fid.write(trainning_report)\n",
        "  fid.write('\\n\\n')\n",
        "  fid.write(f\"Validation report: \\n\")\n",
        "  fid.write(validation_report)\n",
        "  fid.write('\\n\\n')\n",
        "  fid.write(f\"Test report: \\n\")\n",
        "  fid.write(test_report)\n",
        "  fid.write('\\n\\n')\n",
        "  fid.write('\\n---------------------------------------------------------------------\\n')\n"
      ]
    },
    {
      "cell_type": "code",
      "execution_count": null,
      "metadata": {
        "id": "YZy4ftv1bxoD"
      },
      "outputs": [],
      "source": [
        "save_model(model, f'/content/drive/MyDrive/freelancing/mininet_laila/paper2(idsl)/models/{model_name}.sav')"
      ]
    },
    {
      "cell_type": "markdown",
      "metadata": {
        "id": "dp1c-zJJo_gB"
      },
      "source": [
        "# **ANN**"
      ]
    },
    {
      "cell_type": "code",
      "execution_count": null,
      "metadata": {
        "id": "hz11boIbnHQG"
      },
      "outputs": [],
      "source": [
        "import tensorflow as tf\n",
        "from tensorflow.keras import layers\n",
        "import time\n",
        "from sklearn.utils import class_weight\n"
      ]
    },
    {
      "cell_type": "code",
      "execution_count": null,
      "metadata": {
        "id": "YH1S1WpZ1K5C"
      },
      "outputs": [],
      "source": [
        "from tensorflow.keras.backend import clear_session\n"
      ]
    },
    {
      "cell_type": "code",
      "execution_count": null,
      "metadata": {
        "id": "gudkXXH3FlyG"
      },
      "outputs": [],
      "source": [
        "class_weights = class_weight.compute_class_weight(class_weight = 'balanced',\n",
        "                                                 classes = np.unique(y_train),\n",
        "                                                 y = y_train)\n",
        "class_weights = dict(enumerate(class_weights))"
      ]
    },
    {
      "cell_type": "code",
      "execution_count": null,
      "metadata": {
        "colab": {
          "base_uri": "https://localhost:8080/"
        },
        "id": "rhivxfCcF5ij",
        "outputId": "2513befe-34dd-4205-f8c7-ceb6bbef9de3"
      },
      "outputs": [
        {
          "data": {
            "text/plain": [
              "{0: 1.9465429432312082,\n",
              " 1: 1.7586497646338937,\n",
              " 2: 0.8176492857446871,\n",
              " 3: 0.5934825307630271,\n",
              " 4: 1.849011681509174,\n",
              " 5: 1.4872102025017317,\n",
              " 6: 0.992346820872109,\n",
              " 7: 2.162767823284035,\n",
              " 8: 0.42985778418431997}"
            ]
          },
          "execution_count": 124,
          "metadata": {},
          "output_type": "execute_result"
        }
      ],
      "source": [
        "class_weights"
      ]
    },
    {
      "cell_type": "code",
      "execution_count": null,
      "metadata": {
        "id": "ttpPTTTinmft"
      },
      "outputs": [],
      "source": [
        "def define_model():\n",
        "  clear_session()\n",
        "  model = tf.keras.Sequential()\n",
        "  model.add(layers.Input(shape=(5,)))\n",
        "  model.add(layers.Dense(32, activation='relu'))\n",
        "  model.add(layers.Dense(16, activation='relu'))\n",
        "  model.add(layers.Dense(8, activation='relu'))\n",
        "  model.add(layers.Dense(32, activation='relu'))\n",
        "  model.add(layers.Dense(16, activation='relu'))\n",
        "  model.add(layers.Dense(8, activation='relu'))\n",
        "  model.add(layers.Dense(9, activation='softmax'))\n",
        "  #model.summary()\n",
        "  return model\n"
      ]
    },
    {
      "cell_type": "code",
      "execution_count": null,
      "metadata": {
        "id": "qe2G5DyDpX9x"
      },
      "outputs": [],
      "source": [
        "model = define_model()"
      ]
    },
    {
      "cell_type": "code",
      "execution_count": null,
      "metadata": {
        "id": "zynrEjeuoYrt"
      },
      "outputs": [],
      "source": [
        "model.compile(optimizer='adam', loss='categorical_crossentropy', metrics=['accuracy'])"
      ]
    },
    {
      "cell_type": "code",
      "execution_count": null,
      "metadata": {
        "colab": {
          "base_uri": "https://localhost:8080/"
        },
        "id": "yOhAv9WIpb0u",
        "outputId": "ac924034-8dab-4316-ce5d-579750cdd101"
      },
      "outputs": [
        {
          "name": "stdout",
          "output_type": "stream",
          "text": [
            "Model: \"sequential\"\n",
            "_________________________________________________________________\n",
            " Layer (type)                Output Shape              Param #   \n",
            "=================================================================\n",
            " dense (Dense)               (None, 32)                192       \n",
            "                                                                 \n",
            " dense_1 (Dense)             (None, 16)                528       \n",
            "                                                                 \n",
            " dense_2 (Dense)             (None, 8)                 136       \n",
            "                                                                 \n",
            " dense_3 (Dense)             (None, 32)                288       \n",
            "                                                                 \n",
            " dense_4 (Dense)             (None, 16)                528       \n",
            "                                                                 \n",
            " dense_5 (Dense)             (None, 8)                 136       \n",
            "                                                                 \n",
            " dense_6 (Dense)             (None, 9)                 81        \n",
            "                                                                 \n",
            "=================================================================\n",
            "Total params: 1,889\n",
            "Trainable params: 1,889\n",
            "Non-trainable params: 0\n",
            "_________________________________________________________________\n"
          ]
        }
      ],
      "source": [
        "model.summary()"
      ]
    },
    {
      "cell_type": "code",
      "execution_count": null,
      "metadata": {
        "colab": {
          "background_save": true,
          "base_uri": "https://localhost:8080/"
        },
        "id": "SxZGBn9K7Xln",
        "outputId": "287041f1-d375-4066-8ea1-c2e1d76b8c6f"
      },
      "outputs": [
        {
          "name": "stdout",
          "output_type": "stream",
          "text": [
            "Epoch 1/1000\n",
            "3651/3651 [==============================] - 13s 4ms/step - loss: 2.1809 - accuracy: 0.1072 - val_loss: 2.1671 - val_accuracy: 0.1292\n",
            "Epoch 2/1000\n",
            "3651/3651 [==============================] - 10s 3ms/step - loss: 2.1808 - accuracy: 0.1022 - val_loss: 2.1668 - val_accuracy: 0.0919\n",
            "Epoch 3/1000\n",
            "3651/3651 [==============================] - 11s 3ms/step - loss: 2.1809 - accuracy: 0.1153 - val_loss: 2.1711 - val_accuracy: 0.0743\n",
            "Epoch 4/1000\n",
            "3651/3651 [==============================] - 12s 3ms/step - loss: 2.1808 - accuracy: 0.1080 - val_loss: 2.1671 - val_accuracy: 0.0773\n",
            "Epoch 5/1000\n",
            "3651/3651 [==============================] - 12s 3ms/step - loss: 2.1808 - accuracy: 0.0962 - val_loss: 2.1678 - val_accuracy: 0.2044\n",
            "Epoch 6/1000\n",
            "3651/3651 [==============================] - 11s 3ms/step - loss: 2.1808 - accuracy: 0.1093 - val_loss: 2.1689 - val_accuracy: 0.1531\n",
            "Epoch 7/1000\n",
            "3651/3651 [==============================] - 10s 3ms/step - loss: 2.1808 - accuracy: 0.1032 - val_loss: 2.1687 - val_accuracy: 0.2044\n",
            "Epoch 8/1000\n",
            "3651/3651 [==============================] - 11s 3ms/step - loss: 2.1808 - accuracy: 0.1096 - val_loss: 2.1689 - val_accuracy: 0.0686\n",
            "Epoch 9/1000\n",
            "3651/3651 [==============================] - 11s 3ms/step - loss: 2.1808 - accuracy: 0.0993 - val_loss: 2.1715 - val_accuracy: 0.0919\n",
            "Epoch 10/1000\n",
            "3651/3651 [==============================] - 11s 3ms/step - loss: 2.1809 - accuracy: 0.1053 - val_loss: 2.1691 - val_accuracy: 0.0804\n",
            "Epoch 11/1000\n",
            "3651/3651 [==============================] - 11s 3ms/step - loss: 2.1809 - accuracy: 0.1102 - val_loss: 2.1739 - val_accuracy: 0.0686\n",
            "Epoch 12/1000\n",
            "3651/3651 [==============================] - 10s 3ms/step - loss: 2.1808 - accuracy: 0.0945 - val_loss: 2.1711 - val_accuracy: 0.0773\n",
            "Epoch 13/1000\n",
            "3651/3651 [==============================] - 10s 3ms/step - loss: 2.1808 - accuracy: 0.1046 - val_loss: 2.1710 - val_accuracy: 0.0919\n",
            "Epoch 14/1000\n",
            "3651/3651 [==============================] - 12s 3ms/step - loss: 2.1808 - accuracy: 0.1133 - val_loss: 2.1706 - val_accuracy: 0.1292\n",
            "Epoch 15/1000\n",
            "3651/3651 [==============================] - 11s 3ms/step - loss: 2.1808 - accuracy: 0.1072 - val_loss: 2.1684 - val_accuracy: 0.0919\n",
            "Epoch 16/1000\n",
            "3651/3651 [==============================] - 10s 3ms/step - loss: 2.1808 - accuracy: 0.0980 - val_loss: 2.1695 - val_accuracy: 0.0743\n",
            "Epoch 17/1000\n",
            "3651/3651 [==============================] - 10s 3ms/step - loss: 2.1809 - accuracy: 0.1065 - val_loss: 2.1663 - val_accuracy: 0.1531\n",
            "Epoch 18/1000\n",
            "3651/3651 [==============================] - 10s 3ms/step - loss: 2.1808 - accuracy: 0.1057 - val_loss: 2.1701 - val_accuracy: 0.0743\n",
            "Epoch 19/1000\n",
            "3651/3651 [==============================] - 10s 3ms/step - loss: 2.1808 - accuracy: 0.1031 - val_loss: 2.1654 - val_accuracy: 0.1531\n",
            "Epoch 20/1000\n",
            "3651/3651 [==============================] - 11s 3ms/step - loss: 2.1808 - accuracy: 0.1084 - val_loss: 2.1677 - val_accuracy: 0.1292\n",
            "Epoch 21/1000\n",
            "3651/3651 [==============================] - 11s 3ms/step - loss: 2.1808 - accuracy: 0.1103 - val_loss: 2.1689 - val_accuracy: 0.0686\n",
            "Epoch 22/1000\n",
            "3651/3651 [==============================] - 11s 3ms/step - loss: 2.1808 - accuracy: 0.0957 - val_loss: 2.1686 - val_accuracy: 0.0773\n",
            "Epoch 23/1000\n",
            "3651/3651 [==============================] - 11s 3ms/step - loss: 2.1808 - accuracy: 0.0956 - val_loss: 2.1709 - val_accuracy: 0.0773\n",
            "Epoch 24/1000\n",
            "3651/3651 [==============================] - 10s 3ms/step - loss: 2.1808 - accuracy: 0.0895 - val_loss: 2.1689 - val_accuracy: 0.0773\n",
            "Epoch 25/1000\n",
            "3651/3651 [==============================] - 10s 3ms/step - loss: 2.1808 - accuracy: 0.1087 - val_loss: 2.1714 - val_accuracy: 0.0919\n",
            "Epoch 26/1000\n",
            "3651/3651 [==============================] - 10s 3ms/step - loss: 2.1808 - accuracy: 0.0926 - val_loss: 2.1682 - val_accuracy: 0.0919\n",
            "Epoch 27/1000\n",
            "3651/3651 [==============================] - 10s 3ms/step - loss: 2.1808 - accuracy: 0.0995 - val_loss: 2.1680 - val_accuracy: 0.1531\n",
            "Epoch 28/1000\n",
            "3651/3651 [==============================] - 10s 3ms/step - loss: 2.1809 - accuracy: 0.1014 - val_loss: 2.1688 - val_accuracy: 0.0804\n",
            "Epoch 29/1000\n",
            "3651/3651 [==============================] - 10s 3ms/step - loss: 2.1808 - accuracy: 0.0988 - val_loss: 2.1667 - val_accuracy: 0.2044\n",
            "Epoch 30/1000\n",
            "3651/3651 [==============================] - 10s 3ms/step - loss: 2.1808 - accuracy: 0.1203 - val_loss: 2.1723 - val_accuracy: 0.0773\n",
            "Epoch 31/1000\n",
            "3651/3651 [==============================] - 11s 3ms/step - loss: 2.1808 - accuracy: 0.0962 - val_loss: 2.1676 - val_accuracy: 0.0686\n",
            "Epoch 32/1000\n",
            "3651/3651 [==============================] - 10s 3ms/step - loss: 2.1808 - accuracy: 0.1026 - val_loss: 2.1686 - val_accuracy: 0.1531\n",
            "Epoch 33/1000\n",
            "3651/3651 [==============================] - 10s 3ms/step - loss: 2.1808 - accuracy: 0.1056 - val_loss: 2.1739 - val_accuracy: 0.0804\n",
            "Epoch 34/1000\n",
            "3651/3651 [==============================] - 10s 3ms/step - loss: 2.1808 - accuracy: 0.1005 - val_loss: 2.1670 - val_accuracy: 0.2044\n",
            "Epoch 35/1000\n",
            "3651/3651 [==============================] - 10s 3ms/step - loss: 2.1808 - accuracy: 0.1056 - val_loss: 2.1713 - val_accuracy: 0.1531\n",
            "Epoch 36/1000\n",
            "3651/3651 [==============================] - 10s 3ms/step - loss: 2.1808 - accuracy: 0.1062 - val_loss: 2.1733 - val_accuracy: 0.0804\n",
            "Epoch 37/1000\n",
            "3651/3651 [==============================] - 11s 3ms/step - loss: 2.1808 - accuracy: 0.1050 - val_loss: 2.1657 - val_accuracy: 0.1531\n",
            "Epoch 38/1000\n",
            "3651/3651 [==============================] - 10s 3ms/step - loss: 2.1808 - accuracy: 0.1052 - val_loss: 2.1708 - val_accuracy: 0.1292\n",
            "Epoch 39/1000\n",
            "3651/3651 [==============================] - 13s 4ms/step - loss: 2.1808 - accuracy: 0.1024 - val_loss: 2.1714 - val_accuracy: 0.0743\n",
            "Epoch 40/1000\n",
            "3651/3651 [==============================] - 10s 3ms/step - loss: 2.1808 - accuracy: 0.0956 - val_loss: 2.1713 - val_accuracy: 0.0919\n",
            "Epoch 41/1000\n",
            "3651/3651 [==============================] - 10s 3ms/step - loss: 2.1808 - accuracy: 0.1044 - val_loss: 2.1709 - val_accuracy: 0.0804\n",
            "Epoch 42/1000\n",
            "3651/3651 [==============================] - 10s 3ms/step - loss: 2.1808 - accuracy: 0.0980 - val_loss: 2.1646 - val_accuracy: 0.0743\n",
            "Epoch 43/1000\n",
            "3651/3651 [==============================] - 10s 3ms/step - loss: 2.1808 - accuracy: 0.1115 - val_loss: 2.1729 - val_accuracy: 0.0743\n",
            "Epoch 44/1000\n",
            "3651/3651 [==============================] - 10s 3ms/step - loss: 2.1808 - accuracy: 0.1043 - val_loss: 2.1687 - val_accuracy: 0.0804\n",
            "Epoch 45/1000\n",
            "3651/3651 [==============================] - 10s 3ms/step - loss: 2.1808 - accuracy: 0.0914 - val_loss: 2.1685 - val_accuracy: 0.1292\n",
            "Epoch 46/1000\n",
            "3651/3651 [==============================] - 10s 3ms/step - loss: 2.1808 - accuracy: 0.1035 - val_loss: 2.1716 - val_accuracy: 0.0804\n",
            "Epoch 47/1000\n",
            "3651/3651 [==============================] - 10s 3ms/step - loss: 2.1808 - accuracy: 0.1095 - val_loss: 2.1691 - val_accuracy: 0.0919\n",
            "Epoch 48/1000\n",
            "3651/3651 [==============================] - 11s 3ms/step - loss: 2.1808 - accuracy: 0.0933 - val_loss: 2.1674 - val_accuracy: 0.1292\n",
            "Epoch 49/1000\n",
            "3651/3651 [==============================] - 10s 3ms/step - loss: 2.1808 - accuracy: 0.1108 - val_loss: 2.1664 - val_accuracy: 0.2044\n",
            "Epoch 50/1000\n",
            "3651/3651 [==============================] - 10s 3ms/step - loss: 2.1808 - accuracy: 0.1068 - val_loss: 2.1678 - val_accuracy: 0.0919\n",
            "Epoch 51/1000\n",
            "3651/3651 [==============================] - 10s 3ms/step - loss: 2.1808 - accuracy: 0.1080 - val_loss: 2.1709 - val_accuracy: 0.0743\n",
            "Epoch 52/1000\n",
            "3651/3651 [==============================] - 10s 3ms/step - loss: 2.1808 - accuracy: 0.1036 - val_loss: 2.1722 - val_accuracy: 0.0743\n",
            "Epoch 53/1000\n",
            "3651/3651 [==============================] - 11s 3ms/step - loss: 2.1808 - accuracy: 0.0837 - val_loss: 2.1717 - val_accuracy: 0.0686\n",
            "Epoch 54/1000\n",
            "3651/3651 [==============================] - 11s 3ms/step - loss: 2.1808 - accuracy: 0.1075 - val_loss: 2.1683 - val_accuracy: 0.0919\n",
            "Epoch 55/1000\n",
            "3651/3651 [==============================] - 10s 3ms/step - loss: 2.1808 - accuracy: 0.1022 - val_loss: 2.1693 - val_accuracy: 0.0804\n",
            "Epoch 56/1000\n",
            "3651/3651 [==============================] - 10s 3ms/step - loss: 2.1808 - accuracy: 0.1093 - val_loss: 2.1658 - val_accuracy: 0.1292\n",
            "Epoch 57/1000\n",
            "3651/3651 [==============================] - 11s 3ms/step - loss: 2.1808 - accuracy: 0.1080 - val_loss: 2.1677 - val_accuracy: 0.1292\n",
            "Epoch 58/1000\n",
            "3651/3651 [==============================] - 10s 3ms/step - loss: 2.1808 - accuracy: 0.1018 - val_loss: 2.1698 - val_accuracy: 0.2044\n",
            "Epoch 59/1000\n",
            "3651/3651 [==============================] - 10s 3ms/step - loss: 2.1808 - accuracy: 0.0994 - val_loss: 2.1670 - val_accuracy: 0.0743\n",
            "Epoch 60/1000\n",
            "3651/3651 [==============================] - 11s 3ms/step - loss: 2.1808 - accuracy: 0.0972 - val_loss: 2.1677 - val_accuracy: 0.0743\n",
            "Epoch 61/1000\n",
            "3651/3651 [==============================] - 11s 3ms/step - loss: 2.1808 - accuracy: 0.1099 - val_loss: 2.1710 - val_accuracy: 0.1531\n",
            "Epoch 62/1000\n",
            "3651/3651 [==============================] - 10s 3ms/step - loss: 2.1808 - accuracy: 0.0969 - val_loss: 2.1661 - val_accuracy: 0.1531\n",
            "Epoch 63/1000\n",
            "3651/3651 [==============================] - 13s 4ms/step - loss: 2.1808 - accuracy: 0.1021 - val_loss: 2.1717 - val_accuracy: 0.0743\n",
            "Epoch 64/1000\n",
            "3651/3651 [==============================] - 10s 3ms/step - loss: 2.1808 - accuracy: 0.1036 - val_loss: 2.1683 - val_accuracy: 0.1292\n",
            "Epoch 65/1000\n",
            "3651/3651 [==============================] - 11s 3ms/step - loss: 2.1808 - accuracy: 0.1088 - val_loss: 2.1727 - val_accuracy: 0.0773\n",
            "Epoch 66/1000\n",
            "3651/3651 [==============================] - 11s 3ms/step - loss: 2.1808 - accuracy: 0.1066 - val_loss: 2.1701 - val_accuracy: 0.0919\n",
            "Epoch 67/1000\n",
            "3651/3651 [==============================] - 10s 3ms/step - loss: 2.1808 - accuracy: 0.0999 - val_loss: 2.1686 - val_accuracy: 0.0686\n",
            "Epoch 68/1000\n",
            "3651/3651 [==============================] - 11s 3ms/step - loss: 2.1808 - accuracy: 0.1012 - val_loss: 2.1697 - val_accuracy: 0.2044\n",
            "Epoch 69/1000\n",
            "3651/3651 [==============================] - 10s 3ms/step - loss: 2.1808 - accuracy: 0.1137 - val_loss: 2.1698 - val_accuracy: 0.0686\n",
            "Epoch 70/1000\n",
            "3651/3651 [==============================] - 10s 3ms/step - loss: 2.1808 - accuracy: 0.1133 - val_loss: 2.1709 - val_accuracy: 0.1292\n",
            "Epoch 71/1000\n",
            "3651/3651 [==============================] - 11s 3ms/step - loss: 2.1808 - accuracy: 0.1010 - val_loss: 2.1706 - val_accuracy: 0.0773\n",
            "Epoch 72/1000\n",
            "3651/3651 [==============================] - 10s 3ms/step - loss: 2.1808 - accuracy: 0.0942 - val_loss: 2.1698 - val_accuracy: 0.0919\n",
            "Epoch 73/1000\n",
            "3651/3651 [==============================] - 10s 3ms/step - loss: 2.1808 - accuracy: 0.1006 - val_loss: 2.1673 - val_accuracy: 0.0773\n",
            "Epoch 74/1000\n",
            "3651/3651 [==============================] - 11s 3ms/step - loss: 2.1808 - accuracy: 0.1003 - val_loss: 2.1698 - val_accuracy: 0.0804\n",
            "Epoch 75/1000\n",
            "3651/3651 [==============================] - 10s 3ms/step - loss: 2.1808 - accuracy: 0.1055 - val_loss: 2.1679 - val_accuracy: 0.0919\n",
            "Epoch 76/1000\n",
            "3651/3651 [==============================] - 10s 3ms/step - loss: 2.1808 - accuracy: 0.1136 - val_loss: 2.1705 - val_accuracy: 0.1531\n",
            "Epoch 77/1000\n",
            "3651/3651 [==============================] - 11s 3ms/step - loss: 2.1808 - accuracy: 0.1070 - val_loss: 2.1658 - val_accuracy: 0.1531\n",
            "Epoch 78/1000\n",
            "3651/3651 [==============================] - 10s 3ms/step - loss: 2.1808 - accuracy: 0.0966 - val_loss: 2.1686 - val_accuracy: 0.1292\n",
            "Epoch 79/1000\n",
            "3651/3651 [==============================] - 10s 3ms/step - loss: 2.1808 - accuracy: 0.1105 - val_loss: 2.1668 - val_accuracy: 0.2044\n",
            "Epoch 80/1000\n",
            "3651/3651 [==============================] - 11s 3ms/step - loss: 2.1808 - accuracy: 0.1103 - val_loss: 2.1643 - val_accuracy: 0.1531\n",
            "Epoch 81/1000\n",
            "3651/3651 [==============================] - 10s 3ms/step - loss: 2.1808 - accuracy: 0.1031 - val_loss: 2.1728 - val_accuracy: 0.0686\n",
            "Epoch 82/1000\n",
            "3651/3651 [==============================] - 10s 3ms/step - loss: 2.1808 - accuracy: 0.1031 - val_loss: 2.1662 - val_accuracy: 0.0773\n",
            "Epoch 83/1000\n",
            "3651/3651 [==============================] - 11s 3ms/step - loss: 2.1808 - accuracy: 0.1007 - val_loss: 2.1657 - val_accuracy: 0.1292\n",
            "Epoch 84/1000\n",
            "3651/3651 [==============================] - 11s 3ms/step - loss: 2.1808 - accuracy: 0.1072 - val_loss: 2.1708 - val_accuracy: 0.0686\n",
            "Epoch 85/1000\n",
            "3651/3651 [==============================] - 10s 3ms/step - loss: 2.1808 - accuracy: 0.1009 - val_loss: 2.1649 - val_accuracy: 0.2044\n",
            "Epoch 86/1000\n",
            "3651/3651 [==============================] - 13s 4ms/step - loss: 2.1808 - accuracy: 0.1043 - val_loss: 2.1666 - val_accuracy: 0.1531\n",
            "Epoch 87/1000\n",
            "3651/3651 [==============================] - 10s 3ms/step - loss: 2.1808 - accuracy: 0.1120 - val_loss: 2.1720 - val_accuracy: 0.0804\n",
            "Epoch 88/1000\n",
            "3651/3651 [==============================] - 11s 3ms/step - loss: 2.1808 - accuracy: 0.1050 - val_loss: 2.1681 - val_accuracy: 0.0804\n",
            "Epoch 89/1000\n",
            "3651/3651 [==============================] - 12s 3ms/step - loss: 2.1808 - accuracy: 0.1026 - val_loss: 2.1704 - val_accuracy: 0.0743\n",
            "Epoch 90/1000\n",
            "3651/3651 [==============================] - 11s 3ms/step - loss: 2.1808 - accuracy: 0.1084 - val_loss: 2.1690 - val_accuracy: 0.1292\n",
            "Epoch 91/1000\n",
            "3651/3651 [==============================] - 12s 3ms/step - loss: 2.1808 - accuracy: 0.1042 - val_loss: 2.1699 - val_accuracy: 0.0743\n",
            "Epoch 92/1000\n",
            "3651/3651 [==============================] - 11s 3ms/step - loss: 2.1808 - accuracy: 0.0947 - val_loss: 2.1723 - val_accuracy: 0.0804\n",
            "Epoch 93/1000\n",
            "3651/3651 [==============================] - 11s 3ms/step - loss: 2.1808 - accuracy: 0.1056 - val_loss: 2.1715 - val_accuracy: 0.0686\n",
            "Epoch 94/1000\n",
            "3651/3651 [==============================] - 11s 3ms/step - loss: 2.1808 - accuracy: 0.0999 - val_loss: 2.1657 - val_accuracy: 0.0743\n",
            "Epoch 95/1000\n",
            "3651/3651 [==============================] - 11s 3ms/step - loss: 2.1808 - accuracy: 0.1092 - val_loss: 2.1688 - val_accuracy: 0.0804\n",
            "Epoch 96/1000\n",
            "3651/3651 [==============================] - 11s 3ms/step - loss: 2.1808 - accuracy: 0.0982 - val_loss: 2.1685 - val_accuracy: 0.0804\n",
            "Epoch 97/1000\n",
            "3651/3651 [==============================] - 11s 3ms/step - loss: 2.1808 - accuracy: 0.0928 - val_loss: 2.1682 - val_accuracy: 0.0686\n",
            "Epoch 98/1000\n",
            "3651/3651 [==============================] - 11s 3ms/step - loss: 2.1808 - accuracy: 0.1090 - val_loss: 2.1707 - val_accuracy: 0.2044\n",
            "Epoch 99/1000\n",
            "3651/3651 [==============================] - 11s 3ms/step - loss: 2.1808 - accuracy: 0.1057 - val_loss: 2.1689 - val_accuracy: 0.0686\n",
            "Epoch 100/1000\n",
            "3651/3651 [==============================] - 11s 3ms/step - loss: 2.1808 - accuracy: 0.1093 - val_loss: 2.1695 - val_accuracy: 0.0743\n",
            "Epoch 101/1000\n",
            "3651/3651 [==============================] - 11s 3ms/step - loss: 2.1808 - accuracy: 0.1065 - val_loss: 2.1702 - val_accuracy: 0.0686\n",
            "Epoch 102/1000\n",
            "3651/3651 [==============================] - 11s 3ms/step - loss: 2.1808 - accuracy: 0.0926 - val_loss: 2.1682 - val_accuracy: 0.0743\n",
            "Epoch 103/1000\n",
            "3651/3651 [==============================] - 11s 3ms/step - loss: 2.1808 - accuracy: 0.1123 - val_loss: 2.1710 - val_accuracy: 0.0686\n",
            "Epoch 104/1000\n",
            "3651/3651 [==============================] - 11s 3ms/step - loss: 2.1808 - accuracy: 0.1120 - val_loss: 2.1728 - val_accuracy: 0.0919\n",
            "Epoch 105/1000\n",
            "3651/3651 [==============================] - 11s 3ms/step - loss: 2.1808 - accuracy: 0.1106 - val_loss: 2.1690 - val_accuracy: 0.1292\n",
            "Epoch 106/1000\n",
            "3651/3651 [==============================] - 12s 3ms/step - loss: 2.1808 - accuracy: 0.0891 - val_loss: 2.1686 - val_accuracy: 0.0686\n",
            "Epoch 107/1000\n",
            "3651/3651 [==============================] - 11s 3ms/step - loss: 2.1808 - accuracy: 0.0932 - val_loss: 2.1694 - val_accuracy: 0.0919\n",
            "Epoch 108/1000\n",
            "3651/3651 [==============================] - 11s 3ms/step - loss: 2.1808 - accuracy: 0.1020 - val_loss: 2.1675 - val_accuracy: 0.1292\n",
            "Epoch 109/1000\n",
            "3651/3651 [==============================] - 13s 4ms/step - loss: 2.1808 - accuracy: 0.0915 - val_loss: 2.1688 - val_accuracy: 0.0686\n",
            "Epoch 110/1000\n",
            "3651/3651 [==============================] - 12s 3ms/step - loss: 2.1808 - accuracy: 0.0968 - val_loss: 2.1674 - val_accuracy: 0.1292\n",
            "Epoch 111/1000\n",
            "3651/3651 [==============================] - 12s 3ms/step - loss: 2.1808 - accuracy: 0.1029 - val_loss: 2.1664 - val_accuracy: 0.1292\n",
            "Epoch 112/1000\n",
            "3651/3651 [==============================] - 13s 4ms/step - loss: 2.1808 - accuracy: 0.1037 - val_loss: 2.1666 - val_accuracy: 0.0773\n",
            "Epoch 113/1000\n",
            "3651/3651 [==============================] - 12s 3ms/step - loss: 2.1808 - accuracy: 0.1208 - val_loss: 2.1677 - val_accuracy: 0.0686\n",
            "Epoch 114/1000\n",
            "3651/3651 [==============================] - 12s 3ms/step - loss: 2.1808 - accuracy: 0.0958 - val_loss: 2.1712 - val_accuracy: 0.0919\n",
            "Epoch 115/1000\n",
            "3651/3651 [==============================] - 11s 3ms/step - loss: 2.1808 - accuracy: 0.1059 - val_loss: 2.1678 - val_accuracy: 0.1531\n",
            "Epoch 116/1000\n",
            "3651/3651 [==============================] - 11s 3ms/step - loss: 2.1808 - accuracy: 0.0988 - val_loss: 2.1687 - val_accuracy: 0.0743\n",
            "Epoch 117/1000\n",
            "3651/3651 [==============================] - 11s 3ms/step - loss: 2.1808 - accuracy: 0.0995 - val_loss: 2.1701 - val_accuracy: 0.0804\n",
            "Epoch 118/1000\n",
            "3651/3651 [==============================] - 11s 3ms/step - loss: 2.1808 - accuracy: 0.1111 - val_loss: 2.1679 - val_accuracy: 0.0919\n",
            "Epoch 119/1000\n",
            "3651/3651 [==============================] - 12s 3ms/step - loss: 2.1808 - accuracy: 0.1011 - val_loss: 2.1700 - val_accuracy: 0.0686\n",
            "Epoch 120/1000\n",
            "3651/3651 [==============================] - 12s 3ms/step - loss: 2.1808 - accuracy: 0.0979 - val_loss: 2.1659 - val_accuracy: 0.1531\n",
            "Epoch 121/1000\n",
            "3651/3651 [==============================] - 11s 3ms/step - loss: 2.1808 - accuracy: 0.1021 - val_loss: 2.1683 - val_accuracy: 0.0804\n",
            "Epoch 122/1000\n",
            "3651/3651 [==============================] - 11s 3ms/step - loss: 2.1808 - accuracy: 0.1018 - val_loss: 2.1702 - val_accuracy: 0.0773\n",
            "Epoch 123/1000\n",
            "3651/3651 [==============================] - 11s 3ms/step - loss: 2.1808 - accuracy: 0.1221 - val_loss: 2.1718 - val_accuracy: 0.0773\n",
            "Epoch 124/1000\n",
            "3651/3651 [==============================] - 11s 3ms/step - loss: 2.1808 - accuracy: 0.1008 - val_loss: 2.1649 - val_accuracy: 0.2044\n",
            "Epoch 125/1000\n",
            "3651/3651 [==============================] - 11s 3ms/step - loss: 2.1808 - accuracy: 0.1033 - val_loss: 2.1706 - val_accuracy: 0.1292\n",
            "Epoch 126/1000\n",
            "3651/3651 [==============================] - 11s 3ms/step - loss: 2.1808 - accuracy: 0.0993 - val_loss: 2.1693 - val_accuracy: 0.0773\n",
            "Epoch 127/1000\n",
            "3651/3651 [==============================] - 11s 3ms/step - loss: 2.1808 - accuracy: 0.1042 - val_loss: 2.1685 - val_accuracy: 0.0686\n",
            "Epoch 128/1000\n",
            "3651/3651 [==============================] - 11s 3ms/step - loss: 2.1808 - accuracy: 0.0921 - val_loss: 2.1673 - val_accuracy: 0.0804\n",
            "Epoch 129/1000\n",
            "3651/3651 [==============================] - 11s 3ms/step - loss: 2.1808 - accuracy: 0.1015 - val_loss: 2.1697 - val_accuracy: 0.0919\n",
            "Epoch 130/1000\n",
            "3651/3651 [==============================] - 11s 3ms/step - loss: 2.1808 - accuracy: 0.0990 - val_loss: 2.1676 - val_accuracy: 0.0773\n",
            "Epoch 131/1000\n",
            "3651/3651 [==============================] - 11s 3ms/step - loss: 2.1808 - accuracy: 0.1015 - val_loss: 2.1696 - val_accuracy: 0.0804\n",
            "Epoch 132/1000\n",
            "3651/3651 [==============================] - 13s 4ms/step - loss: 2.1808 - accuracy: 0.1072 - val_loss: 2.1747 - val_accuracy: 0.0919\n",
            "Epoch 133/1000\n",
            "3651/3651 [==============================] - 11s 3ms/step - loss: 2.1808 - accuracy: 0.1000 - val_loss: 2.1685 - val_accuracy: 0.1531\n",
            "Epoch 134/1000\n",
            "3651/3651 [==============================] - 11s 3ms/step - loss: 2.1808 - accuracy: 0.1027 - val_loss: 2.1705 - val_accuracy: 0.0686\n",
            "Epoch 135/1000\n",
            "3651/3651 [==============================] - 11s 3ms/step - loss: 2.1808 - accuracy: 0.0998 - val_loss: 2.1714 - val_accuracy: 0.0686\n",
            "Epoch 136/1000\n",
            "3651/3651 [==============================] - 11s 3ms/step - loss: 2.1808 - accuracy: 0.1038 - val_loss: 2.1678 - val_accuracy: 0.1531\n",
            "Epoch 137/1000\n",
            "3651/3651 [==============================] - 11s 3ms/step - loss: 2.1808 - accuracy: 0.0954 - val_loss: 2.1703 - val_accuracy: 0.1531\n",
            "Epoch 138/1000\n",
            "3651/3651 [==============================] - 11s 3ms/step - loss: 2.1808 - accuracy: 0.1019 - val_loss: 2.1719 - val_accuracy: 0.0804\n",
            "Epoch 139/1000\n",
            "3651/3651 [==============================] - 11s 3ms/step - loss: 2.1808 - accuracy: 0.1015 - val_loss: 2.1705 - val_accuracy: 0.0773\n",
            "Epoch 140/1000\n",
            "3651/3651 [==============================] - 11s 3ms/step - loss: 2.1808 - accuracy: 0.0903 - val_loss: 2.1689 - val_accuracy: 0.2044\n",
            "Epoch 141/1000\n",
            "3651/3651 [==============================] - 12s 3ms/step - loss: 2.1808 - accuracy: 0.1023 - val_loss: 2.1669 - val_accuracy: 0.0743\n",
            "Epoch 142/1000\n",
            "3651/3651 [==============================] - 11s 3ms/step - loss: 2.1808 - accuracy: 0.0929 - val_loss: 2.1677 - val_accuracy: 0.0919\n",
            "Epoch 143/1000\n",
            "3651/3651 [==============================] - 11s 3ms/step - loss: 2.1808 - accuracy: 0.1078 - val_loss: 2.1697 - val_accuracy: 0.1531\n",
            "Epoch 144/1000\n",
            "3651/3651 [==============================] - 11s 3ms/step - loss: 2.1808 - accuracy: 0.0908 - val_loss: 2.1668 - val_accuracy: 0.2044\n",
            "Epoch 145/1000\n",
            "3651/3651 [==============================] - 11s 3ms/step - loss: 2.1808 - accuracy: 0.1041 - val_loss: 2.1664 - val_accuracy: 0.0773\n",
            "Epoch 146/1000\n",
            "3651/3651 [==============================] - 11s 3ms/step - loss: 2.1808 - accuracy: 0.0971 - val_loss: 2.1726 - val_accuracy: 0.0919\n",
            "Epoch 147/1000\n",
            "3651/3651 [==============================] - 11s 3ms/step - loss: 2.1808 - accuracy: 0.1113 - val_loss: 2.1675 - val_accuracy: 0.0773\n",
            "Epoch 148/1000\n",
            "3651/3651 [==============================] - 11s 3ms/step - loss: 2.1808 - accuracy: 0.0982 - val_loss: 2.1693 - val_accuracy: 0.0773\n",
            "Epoch 149/1000\n",
            "3651/3651 [==============================] - 11s 3ms/step - loss: 2.1808 - accuracy: 0.0995 - val_loss: 2.1719 - val_accuracy: 0.0773\n",
            "Epoch 150/1000\n",
            "3651/3651 [==============================] - 11s 3ms/step - loss: 2.1808 - accuracy: 0.1041 - val_loss: 2.1681 - val_accuracy: 0.0804\n",
            "Epoch 151/1000\n",
            "3651/3651 [==============================] - 10s 3ms/step - loss: 2.1808 - accuracy: 0.1050 - val_loss: 2.1737 - val_accuracy: 0.0773\n",
            "Epoch 152/1000\n",
            "3651/3651 [==============================] - 11s 3ms/step - loss: 2.1808 - accuracy: 0.0983 - val_loss: 2.1668 - val_accuracy: 0.2044\n",
            "Epoch 153/1000\n",
            "3651/3651 [==============================] - 11s 3ms/step - loss: 2.1808 - accuracy: 0.0895 - val_loss: 2.1701 - val_accuracy: 0.0919\n",
            "Epoch 154/1000\n",
            "3651/3651 [==============================] - 11s 3ms/step - loss: 2.1808 - accuracy: 0.1025 - val_loss: 2.1689 - val_accuracy: 0.1531\n",
            "Epoch 155/1000\n",
            "3651/3651 [==============================] - 11s 3ms/step - loss: 2.1808 - accuracy: 0.1144 - val_loss: 2.1680 - val_accuracy: 0.0919\n",
            "Epoch 156/1000\n",
            "3651/3651 [==============================] - 13s 4ms/step - loss: 2.1808 - accuracy: 0.0967 - val_loss: 2.1677 - val_accuracy: 0.0804\n",
            "Epoch 157/1000\n",
            "3651/3651 [==============================] - 11s 3ms/step - loss: 2.1808 - accuracy: 0.1042 - val_loss: 2.1689 - val_accuracy: 0.0773\n",
            "Epoch 158/1000\n",
            "3651/3651 [==============================] - 11s 3ms/step - loss: 2.1808 - accuracy: 0.0897 - val_loss: 2.1645 - val_accuracy: 0.1531\n",
            "Epoch 159/1000\n",
            "3651/3651 [==============================] - 10s 3ms/step - loss: 2.1808 - accuracy: 0.1036 - val_loss: 2.1695 - val_accuracy: 0.0686\n",
            "Epoch 160/1000\n",
            "3651/3651 [==============================] - 11s 3ms/step - loss: 2.1808 - accuracy: 0.0976 - val_loss: 2.1716 - val_accuracy: 0.1292\n",
            "Epoch 161/1000\n",
            "3651/3651 [==============================] - 10s 3ms/step - loss: 2.1808 - accuracy: 0.1019 - val_loss: 2.1683 - val_accuracy: 0.1531\n",
            "Epoch 162/1000\n",
            "3651/3651 [==============================] - 10s 3ms/step - loss: 2.1808 - accuracy: 0.0898 - val_loss: 2.1693 - val_accuracy: 0.0804\n",
            "Epoch 163/1000\n",
            "3651/3651 [==============================] - 11s 3ms/step - loss: 2.1808 - accuracy: 0.1075 - val_loss: 2.1700 - val_accuracy: 0.0686\n",
            "Epoch 164/1000\n",
            "3651/3651 [==============================] - 11s 3ms/step - loss: 2.1808 - accuracy: 0.1069 - val_loss: 2.1700 - val_accuracy: 0.2044\n",
            "Epoch 165/1000\n",
            "3651/3651 [==============================] - 11s 3ms/step - loss: 2.1808 - accuracy: 0.1000 - val_loss: 2.1677 - val_accuracy: 0.0919\n",
            "Epoch 166/1000\n",
            "3651/3651 [==============================] - 11s 3ms/step - loss: 2.1808 - accuracy: 0.1077 - val_loss: 2.1664 - val_accuracy: 0.0743\n",
            "Epoch 167/1000\n",
            "3651/3651 [==============================] - 11s 3ms/step - loss: 2.1808 - accuracy: 0.0977 - val_loss: 2.1700 - val_accuracy: 0.0743\n",
            "Epoch 168/1000\n",
            "3651/3651 [==============================] - 11s 3ms/step - loss: 2.1808 - accuracy: 0.1072 - val_loss: 2.1688 - val_accuracy: 0.0919\n",
            "Epoch 169/1000\n",
            "3651/3651 [==============================] - 12s 3ms/step - loss: 2.1808 - accuracy: 0.1112 - val_loss: 2.1687 - val_accuracy: 0.0919\n",
            "Epoch 170/1000\n",
            "3651/3651 [==============================] - 12s 3ms/step - loss: 2.1808 - accuracy: 0.1105 - val_loss: 2.1682 - val_accuracy: 0.1531\n",
            "Epoch 171/1000\n",
            "3651/3651 [==============================] - 11s 3ms/step - loss: 2.1808 - accuracy: 0.0988 - val_loss: 2.1678 - val_accuracy: 0.0743\n",
            "Epoch 172/1000\n",
            "3651/3651 [==============================] - 11s 3ms/step - loss: 2.1808 - accuracy: 0.0890 - val_loss: 2.1654 - val_accuracy: 0.0919\n",
            "Epoch 173/1000\n",
            "3651/3651 [==============================] - 11s 3ms/step - loss: 2.1808 - accuracy: 0.1045 - val_loss: 2.1692 - val_accuracy: 0.0773\n",
            "Epoch 174/1000\n",
            "3651/3651 [==============================] - 12s 3ms/step - loss: 2.1808 - accuracy: 0.0953 - val_loss: 2.1692 - val_accuracy: 0.2044\n",
            "Epoch 175/1000\n",
            "3651/3651 [==============================] - 11s 3ms/step - loss: 2.1808 - accuracy: 0.1089 - val_loss: 2.1711 - val_accuracy: 0.0804\n",
            "Epoch 176/1000\n",
            "3651/3651 [==============================] - 11s 3ms/step - loss: 2.1808 - accuracy: 0.0983 - val_loss: 2.1678 - val_accuracy: 0.0804\n",
            "Epoch 177/1000\n",
            "3651/3651 [==============================] - 12s 3ms/step - loss: 2.1808 - accuracy: 0.1174 - val_loss: 2.1700 - val_accuracy: 0.0804\n",
            "Epoch 178/1000\n",
            "3651/3651 [==============================] - 11s 3ms/step - loss: 2.1808 - accuracy: 0.1117 - val_loss: 2.1760 - val_accuracy: 0.0743\n",
            "Epoch 179/1000\n",
            "3651/3651 [==============================] - 11s 3ms/step - loss: 2.1808 - accuracy: 0.0977 - val_loss: 2.1694 - val_accuracy: 0.1292\n",
            "Epoch 180/1000\n",
            "3651/3651 [==============================] - 14s 4ms/step - loss: 2.1808 - accuracy: 0.0986 - val_loss: 2.1664 - val_accuracy: 0.0919\n",
            "Epoch 181/1000\n",
            "3651/3651 [==============================] - 11s 3ms/step - loss: 2.1808 - accuracy: 0.0976 - val_loss: 2.1693 - val_accuracy: 0.0686\n",
            "Epoch 182/1000\n",
            "3651/3651 [==============================] - 11s 3ms/step - loss: 2.1808 - accuracy: 0.0958 - val_loss: 2.1659 - val_accuracy: 0.0919\n",
            "Epoch 183/1000\n",
            "3651/3651 [==============================] - 11s 3ms/step - loss: 2.1808 - accuracy: 0.0989 - val_loss: 2.1715 - val_accuracy: 0.0743\n",
            "Epoch 184/1000\n",
            "3651/3651 [==============================] - 11s 3ms/step - loss: 2.1808 - accuracy: 0.1010 - val_loss: 2.1667 - val_accuracy: 0.1531\n",
            "Epoch 185/1000\n",
            "3651/3651 [==============================] - 12s 3ms/step - loss: 2.1808 - accuracy: 0.1078 - val_loss: 2.1662 - val_accuracy: 0.2044\n",
            "Epoch 186/1000\n",
            "3651/3651 [==============================] - 11s 3ms/step - loss: 2.1808 - accuracy: 0.1132 - val_loss: 2.1715 - val_accuracy: 0.0804\n",
            "Epoch 187/1000\n",
            "3651/3651 [==============================] - 11s 3ms/step - loss: 2.1808 - accuracy: 0.1092 - val_loss: 2.1712 - val_accuracy: 0.0773\n",
            "Epoch 188/1000\n",
            "3651/3651 [==============================] - 11s 3ms/step - loss: 2.1808 - accuracy: 0.1035 - val_loss: 2.1703 - val_accuracy: 0.1292\n",
            "Epoch 189/1000\n",
            "3651/3651 [==============================] - 11s 3ms/step - loss: 2.1808 - accuracy: 0.1032 - val_loss: 2.1698 - val_accuracy: 0.0773\n",
            "Epoch 190/1000\n",
            "3651/3651 [==============================] - 12s 3ms/step - loss: 2.1808 - accuracy: 0.1039 - val_loss: 2.1700 - val_accuracy: 0.0773\n",
            "Epoch 191/1000\n",
            "3651/3651 [==============================] - 11s 3ms/step - loss: 2.1808 - accuracy: 0.1033 - val_loss: 2.1655 - val_accuracy: 0.2044\n",
            "Epoch 192/1000\n",
            "3651/3651 [==============================] - 11s 3ms/step - loss: 2.1808 - accuracy: 0.1120 - val_loss: 2.1728 - val_accuracy: 0.0804\n",
            "Epoch 193/1000\n",
            "3651/3651 [==============================] - 11s 3ms/step - loss: 2.1808 - accuracy: 0.0993 - val_loss: 2.1667 - val_accuracy: 0.1531\n",
            "Epoch 194/1000\n",
            "3651/3651 [==============================] - 11s 3ms/step - loss: 2.1808 - accuracy: 0.1070 - val_loss: 2.1709 - val_accuracy: 0.0686\n",
            "Epoch 195/1000\n",
            "3651/3651 [==============================] - 11s 3ms/step - loss: 2.1808 - accuracy: 0.1035 - val_loss: 2.1659 - val_accuracy: 0.0686\n",
            "Epoch 196/1000\n",
            "3651/3651 [==============================] - 11s 3ms/step - loss: 2.1808 - accuracy: 0.1117 - val_loss: 2.1711 - val_accuracy: 0.1531\n",
            "Epoch 197/1000\n",
            "3651/3651 [==============================] - 11s 3ms/step - loss: 2.1808 - accuracy: 0.0977 - val_loss: 2.1679 - val_accuracy: 0.1292\n",
            "Epoch 198/1000\n",
            "3651/3651 [==============================] - 12s 3ms/step - loss: 2.1808 - accuracy: 0.1139 - val_loss: 2.1676 - val_accuracy: 0.1531\n",
            "Epoch 199/1000\n",
            "3651/3651 [==============================] - 12s 3ms/step - loss: 2.1808 - accuracy: 0.1130 - val_loss: 2.1675 - val_accuracy: 0.0743\n",
            "Epoch 200/1000\n",
            "3651/3651 [==============================] - 12s 3ms/step - loss: 2.1808 - accuracy: 0.0983 - val_loss: 2.1683 - val_accuracy: 0.0773\n",
            "Epoch 201/1000\n",
            "3651/3651 [==============================] - 12s 3ms/step - loss: 2.1808 - accuracy: 0.0996 - val_loss: 2.1683 - val_accuracy: 0.0743\n",
            "Epoch 202/1000\n",
            "3651/3651 [==============================] - 11s 3ms/step - loss: 2.1808 - accuracy: 0.0883 - val_loss: 2.1690 - val_accuracy: 0.0773\n",
            "Epoch 203/1000\n",
            "3651/3651 [==============================] - 14s 4ms/step - loss: 2.1808 - accuracy: 0.1141 - val_loss: 2.1714 - val_accuracy: 0.0743\n",
            "Epoch 204/1000\n",
            "3651/3651 [==============================] - 11s 3ms/step - loss: 2.1808 - accuracy: 0.0868 - val_loss: 2.1660 - val_accuracy: 0.0773\n",
            "Epoch 205/1000\n",
            "3651/3651 [==============================] - 11s 3ms/step - loss: 2.1808 - accuracy: 0.0996 - val_loss: 2.1710 - val_accuracy: 0.0804\n",
            "Epoch 206/1000\n",
            "3651/3651 [==============================] - 11s 3ms/step - loss: 2.1808 - accuracy: 0.1135 - val_loss: 2.1708 - val_accuracy: 0.0686\n",
            "Epoch 207/1000\n",
            "3651/3651 [==============================] - 11s 3ms/step - loss: 2.1808 - accuracy: 0.0844 - val_loss: 2.1647 - val_accuracy: 0.2044\n",
            "Epoch 208/1000\n",
            "3651/3651 [==============================] - 11s 3ms/step - loss: 2.1808 - accuracy: 0.1067 - val_loss: 2.1705 - val_accuracy: 0.0743\n",
            "Epoch 209/1000\n",
            "3651/3651 [==============================] - 11s 3ms/step - loss: 2.1808 - accuracy: 0.0935 - val_loss: 2.1706 - val_accuracy: 0.0919\n",
            "Epoch 210/1000\n",
            "3651/3651 [==============================] - 11s 3ms/step - loss: 2.1808 - accuracy: 0.0915 - val_loss: 2.1622 - val_accuracy: 0.1531\n",
            "Epoch 211/1000\n",
            "3651/3651 [==============================] - 12s 3ms/step - loss: 2.1808 - accuracy: 0.0932 - val_loss: 2.1679 - val_accuracy: 0.0919\n",
            "Epoch 212/1000\n",
            "3651/3651 [==============================] - 12s 3ms/step - loss: 2.1808 - accuracy: 0.1099 - val_loss: 2.1713 - val_accuracy: 0.0686\n",
            "Epoch 213/1000\n",
            "3651/3651 [==============================] - 12s 3ms/step - loss: 2.1808 - accuracy: 0.0993 - val_loss: 2.1683 - val_accuracy: 0.0773\n",
            "Epoch 214/1000\n",
            "3651/3651 [==============================] - 11s 3ms/step - loss: 2.1808 - accuracy: 0.1010 - val_loss: 2.1695 - val_accuracy: 0.0743\n",
            "Epoch 215/1000\n",
            "3651/3651 [==============================] - 11s 3ms/step - loss: 2.1808 - accuracy: 0.1015 - val_loss: 2.1680 - val_accuracy: 0.0773\n",
            "Epoch 216/1000\n",
            "3651/3651 [==============================] - 11s 3ms/step - loss: 2.1808 - accuracy: 0.0945 - val_loss: 2.1711 - val_accuracy: 0.0743\n",
            "Epoch 217/1000\n",
            "3651/3651 [==============================] - 11s 3ms/step - loss: 2.1808 - accuracy: 0.1122 - val_loss: 2.1666 - val_accuracy: 0.1292\n",
            "Epoch 218/1000\n",
            "3651/3651 [==============================] - 11s 3ms/step - loss: 2.1808 - accuracy: 0.0927 - val_loss: 2.1671 - val_accuracy: 0.0804\n",
            "Epoch 219/1000\n",
            "3651/3651 [==============================] - 11s 3ms/step - loss: 2.1808 - accuracy: 0.1002 - val_loss: 2.1671 - val_accuracy: 0.2044\n",
            "Epoch 220/1000\n",
            "3651/3651 [==============================] - 11s 3ms/step - loss: 2.1808 - accuracy: 0.1045 - val_loss: 2.1705 - val_accuracy: 0.0686\n",
            "Epoch 221/1000\n",
            "3651/3651 [==============================] - 11s 3ms/step - loss: 2.1808 - accuracy: 0.1078 - val_loss: 2.1677 - val_accuracy: 0.1292\n",
            "Epoch 222/1000\n",
            "3651/3651 [==============================] - 11s 3ms/step - loss: 2.1808 - accuracy: 0.0985 - val_loss: 2.1670 - val_accuracy: 0.0804\n",
            "Epoch 223/1000\n",
            "3651/3651 [==============================] - 11s 3ms/step - loss: 2.1808 - accuracy: 0.0980 - val_loss: 2.1671 - val_accuracy: 0.1292\n",
            "Epoch 224/1000\n",
            "3651/3651 [==============================] - 11s 3ms/step - loss: 2.1808 - accuracy: 0.1105 - val_loss: 2.1720 - val_accuracy: 0.0804\n",
            "Epoch 225/1000\n",
            "3651/3651 [==============================] - 11s 3ms/step - loss: 2.1808 - accuracy: 0.1060 - val_loss: 2.1705 - val_accuracy: 0.0686\n",
            "Epoch 226/1000\n",
            "3651/3651 [==============================] - 11s 3ms/step - loss: 2.1808 - accuracy: 0.0903 - val_loss: 2.1701 - val_accuracy: 0.0773\n",
            "Epoch 227/1000\n",
            "3651/3651 [==============================] - 15s 4ms/step - loss: 2.1808 - accuracy: 0.0944 - val_loss: 2.1669 - val_accuracy: 0.0743\n",
            "Epoch 228/1000\n",
            "3651/3651 [==============================] - 11s 3ms/step - loss: 2.1808 - accuracy: 0.0988 - val_loss: 2.1684 - val_accuracy: 0.1292\n",
            "Epoch 229/1000\n",
            "3651/3651 [==============================] - 11s 3ms/step - loss: 2.1808 - accuracy: 0.1014 - val_loss: 2.1719 - val_accuracy: 0.0773\n",
            "Epoch 230/1000\n",
            "3651/3651 [==============================] - 11s 3ms/step - loss: 2.1808 - accuracy: 0.0894 - val_loss: 2.1710 - val_accuracy: 0.0773\n",
            "Epoch 231/1000\n",
            "3651/3651 [==============================] - 11s 3ms/step - loss: 2.1808 - accuracy: 0.0949 - val_loss: 2.1662 - val_accuracy: 0.0743\n",
            "Epoch 232/1000\n",
            "3651/3651 [==============================] - 11s 3ms/step - loss: 2.1808 - accuracy: 0.1192 - val_loss: 2.1676 - val_accuracy: 0.2044\n",
            "Epoch 233/1000\n",
            "3651/3651 [==============================] - 11s 3ms/step - loss: 2.1808 - accuracy: 0.1044 - val_loss: 2.1676 - val_accuracy: 0.1292\n",
            "Epoch 234/1000\n",
            "3651/3651 [==============================] - 11s 3ms/step - loss: 2.1808 - accuracy: 0.1044 - val_loss: 2.1715 - val_accuracy: 0.1292\n",
            "Epoch 235/1000\n",
            "3651/3651 [==============================] - 11s 3ms/step - loss: 2.1808 - accuracy: 0.0987 - val_loss: 2.1715 - val_accuracy: 0.0773\n",
            "Epoch 236/1000\n",
            "3651/3651 [==============================] - 11s 3ms/step - loss: 2.1808 - accuracy: 0.0953 - val_loss: 2.1655 - val_accuracy: 0.2044\n",
            "Epoch 237/1000\n",
            "3651/3651 [==============================] - 11s 3ms/step - loss: 2.1808 - accuracy: 0.1127 - val_loss: 2.1679 - val_accuracy: 0.0686\n",
            "Epoch 238/1000\n",
            "3651/3651 [==============================] - 11s 3ms/step - loss: 2.1808 - accuracy: 0.1018 - val_loss: 2.1731 - val_accuracy: 0.0686\n",
            "Epoch 239/1000\n",
            "3651/3651 [==============================] - 11s 3ms/step - loss: 2.1808 - accuracy: 0.1017 - val_loss: 2.1697 - val_accuracy: 0.0686\n",
            "Epoch 240/1000\n",
            "3651/3651 [==============================] - 11s 3ms/step - loss: 2.1808 - accuracy: 0.1004 - val_loss: 2.1684 - val_accuracy: 0.0743\n",
            "Epoch 241/1000\n",
            "3651/3651 [==============================] - 10s 3ms/step - loss: 2.1808 - accuracy: 0.1013 - val_loss: 2.1693 - val_accuracy: 0.0919\n",
            "Epoch 242/1000\n",
            "3651/3651 [==============================] - 11s 3ms/step - loss: 2.1808 - accuracy: 0.1050 - val_loss: 2.1701 - val_accuracy: 0.1292\n",
            "Epoch 243/1000\n",
            "3651/3651 [==============================] - 12s 3ms/step - loss: 2.1808 - accuracy: 0.1055 - val_loss: 2.1656 - val_accuracy: 0.1531\n",
            "Epoch 244/1000\n",
            "3651/3651 [==============================] - 11s 3ms/step - loss: 2.1808 - accuracy: 0.1025 - val_loss: 2.1692 - val_accuracy: 0.0804\n",
            "Epoch 245/1000\n",
            "3651/3651 [==============================] - 11s 3ms/step - loss: 2.1808 - accuracy: 0.1117 - val_loss: 2.1701 - val_accuracy: 0.1292\n",
            "Epoch 246/1000\n",
            "3651/3651 [==============================] - 11s 3ms/step - loss: 2.1808 - accuracy: 0.0973 - val_loss: 2.1689 - val_accuracy: 0.0804\n",
            "Epoch 247/1000\n",
            "3651/3651 [==============================] - 11s 3ms/step - loss: 2.1808 - accuracy: 0.0922 - val_loss: 2.1664 - val_accuracy: 0.0804\n",
            "Epoch 248/1000\n",
            "3651/3651 [==============================] - 11s 3ms/step - loss: 2.1808 - accuracy: 0.1073 - val_loss: 2.1705 - val_accuracy: 0.0804\n",
            "Epoch 249/1000\n",
            "3651/3651 [==============================] - 11s 3ms/step - loss: 2.1808 - accuracy: 0.0921 - val_loss: 2.1694 - val_accuracy: 0.0743\n",
            "Epoch 250/1000\n",
            "3651/3651 [==============================] - 13s 4ms/step - loss: 2.1808 - accuracy: 0.1067 - val_loss: 2.1687 - val_accuracy: 0.2044\n",
            "Epoch 251/1000\n",
            "3651/3651 [==============================] - 12s 3ms/step - loss: 2.1808 - accuracy: 0.0947 - val_loss: 2.1661 - val_accuracy: 0.1531\n",
            "Epoch 252/1000\n",
            "3651/3651 [==============================] - 11s 3ms/step - loss: 2.1808 - accuracy: 0.1108 - val_loss: 2.1710 - val_accuracy: 0.0743\n",
            "Epoch 253/1000\n",
            "3651/3651 [==============================] - 12s 3ms/step - loss: 2.1808 - accuracy: 0.0999 - val_loss: 2.1677 - val_accuracy: 0.0804\n",
            "Epoch 254/1000\n",
            "3651/3651 [==============================] - 12s 3ms/step - loss: 2.1808 - accuracy: 0.1129 - val_loss: 2.1704 - val_accuracy: 0.1292\n",
            "Epoch 255/1000\n",
            "3651/3651 [==============================] - 12s 3ms/step - loss: 2.1808 - accuracy: 0.0958 - val_loss: 2.1677 - val_accuracy: 0.0804\n",
            "Epoch 256/1000\n",
            "3651/3651 [==============================] - 12s 3ms/step - loss: 2.1808 - accuracy: 0.0957 - val_loss: 2.1707 - val_accuracy: 0.1292\n",
            "Epoch 257/1000\n",
            "3651/3651 [==============================] - 12s 3ms/step - loss: 2.1808 - accuracy: 0.0991 - val_loss: 2.1677 - val_accuracy: 0.1292\n",
            "Epoch 258/1000\n",
            "3651/3651 [==============================] - 12s 3ms/step - loss: 2.1808 - accuracy: 0.1017 - val_loss: 2.1655 - val_accuracy: 0.2044\n",
            "Epoch 259/1000\n",
            "3651/3651 [==============================] - 13s 4ms/step - loss: 2.1808 - accuracy: 0.0974 - val_loss: 2.1652 - val_accuracy: 0.1531\n",
            "Epoch 260/1000\n",
            "3651/3651 [==============================] - 12s 3ms/step - loss: 2.1808 - accuracy: 0.0994 - val_loss: 2.1721 - val_accuracy: 0.0686\n",
            "Epoch 261/1000\n",
            "3651/3651 [==============================] - 12s 3ms/step - loss: 2.1808 - accuracy: 0.1094 - val_loss: 2.1726 - val_accuracy: 0.0804\n",
            "Epoch 262/1000\n",
            "3651/3651 [==============================] - 12s 3ms/step - loss: 2.1808 - accuracy: 0.1026 - val_loss: 2.1708 - val_accuracy: 0.0773\n",
            "Epoch 263/1000\n",
            "3651/3651 [==============================] - 12s 3ms/step - loss: 2.1808 - accuracy: 0.1034 - val_loss: 2.1689 - val_accuracy: 0.1531\n",
            "Epoch 264/1000\n",
            "3651/3651 [==============================] - 12s 3ms/step - loss: 2.1808 - accuracy: 0.1063 - val_loss: 2.1691 - val_accuracy: 0.0773\n",
            "Epoch 265/1000\n",
            "3651/3651 [==============================] - 12s 3ms/step - loss: 2.1808 - accuracy: 0.0990 - val_loss: 2.1682 - val_accuracy: 0.0686\n",
            "Epoch 266/1000\n",
            "3651/3651 [==============================] - 12s 3ms/step - loss: 2.1808 - accuracy: 0.1076 - val_loss: 2.1703 - val_accuracy: 0.0773\n",
            "Epoch 267/1000\n",
            "3651/3651 [==============================] - 12s 3ms/step - loss: 2.1808 - accuracy: 0.1031 - val_loss: 2.1665 - val_accuracy: 0.0743\n",
            "Epoch 268/1000\n",
            "3651/3651 [==============================] - 12s 3ms/step - loss: 2.1808 - accuracy: 0.1024 - val_loss: 2.1725 - val_accuracy: 0.0743\n",
            "Epoch 269/1000\n",
            "3651/3651 [==============================] - 12s 3ms/step - loss: 2.1808 - accuracy: 0.0991 - val_loss: 2.1693 - val_accuracy: 0.0773\n",
            "Epoch 270/1000\n",
            "3651/3651 [==============================] - 11s 3ms/step - loss: 2.1808 - accuracy: 0.0955 - val_loss: 2.1691 - val_accuracy: 0.0773\n",
            "Epoch 271/1000\n",
            "3651/3651 [==============================] - 12s 3ms/step - loss: 2.1808 - accuracy: 0.0964 - val_loss: 2.1710 - val_accuracy: 0.0686\n",
            "Epoch 272/1000\n",
            "3651/3651 [==============================] - 11s 3ms/step - loss: 2.1808 - accuracy: 0.0985 - val_loss: 2.1664 - val_accuracy: 0.0919\n",
            "Epoch 273/1000\n",
            "3651/3651 [==============================] - 14s 4ms/step - loss: 2.1808 - accuracy: 0.1089 - val_loss: 2.1691 - val_accuracy: 0.0804\n",
            "Epoch 274/1000\n",
            "3651/3651 [==============================] - 12s 3ms/step - loss: 2.1808 - accuracy: 0.1022 - val_loss: 2.1675 - val_accuracy: 0.1292\n",
            "Epoch 275/1000\n",
            "3651/3651 [==============================] - 11s 3ms/step - loss: 2.1808 - accuracy: 0.1060 - val_loss: 2.1712 - val_accuracy: 0.0743\n",
            "Epoch 276/1000\n",
            "3651/3651 [==============================] - 12s 3ms/step - loss: 2.1808 - accuracy: 0.0897 - val_loss: 2.1684 - val_accuracy: 0.2044\n",
            "Epoch 277/1000\n",
            "3651/3651 [==============================] - 11s 3ms/step - loss: 2.1808 - accuracy: 0.1128 - val_loss: 2.1670 - val_accuracy: 0.0919\n",
            "Epoch 278/1000\n",
            "3651/3651 [==============================] - 12s 3ms/step - loss: 2.1808 - accuracy: 0.1052 - val_loss: 2.1654 - val_accuracy: 0.1292\n",
            "Epoch 279/1000\n",
            "3651/3651 [==============================] - 12s 3ms/step - loss: 2.1808 - accuracy: 0.0958 - val_loss: 2.1668 - val_accuracy: 0.1292\n",
            "Epoch 280/1000\n",
            "3651/3651 [==============================] - 12s 3ms/step - loss: 2.1808 - accuracy: 0.1035 - val_loss: 2.1712 - val_accuracy: 0.0686\n",
            "Epoch 281/1000\n",
            "3651/3651 [==============================] - 12s 3ms/step - loss: 2.1808 - accuracy: 0.1126 - val_loss: 2.1741 - val_accuracy: 0.0773\n",
            "Epoch 282/1000\n",
            "3651/3651 [==============================] - 11s 3ms/step - loss: 2.1808 - accuracy: 0.1113 - val_loss: 2.1719 - val_accuracy: 0.0919\n",
            "Epoch 283/1000\n",
            "3651/3651 [==============================] - 11s 3ms/step - loss: 2.1808 - accuracy: 0.1071 - val_loss: 2.1690 - val_accuracy: 0.1292\n",
            "Epoch 284/1000\n",
            "3651/3651 [==============================] - 12s 3ms/step - loss: 2.1808 - accuracy: 0.1048 - val_loss: 2.1703 - val_accuracy: 0.0743\n",
            "Epoch 285/1000\n",
            "3651/3651 [==============================] - 11s 3ms/step - loss: 2.1808 - accuracy: 0.1016 - val_loss: 2.1687 - val_accuracy: 0.1292\n",
            "Epoch 286/1000\n",
            "3651/3651 [==============================] - 12s 3ms/step - loss: 2.1808 - accuracy: 0.1158 - val_loss: 2.1688 - val_accuracy: 0.0919\n",
            "Epoch 287/1000\n",
            "3651/3651 [==============================] - 11s 3ms/step - loss: 2.1808 - accuracy: 0.0957 - val_loss: 2.1708 - val_accuracy: 0.0686\n",
            "Epoch 288/1000\n",
            "3651/3651 [==============================] - 11s 3ms/step - loss: 2.1808 - accuracy: 0.0968 - val_loss: 2.1715 - val_accuracy: 0.0686\n",
            "Epoch 289/1000\n",
            "3651/3651 [==============================] - 12s 3ms/step - loss: 2.1808 - accuracy: 0.0994 - val_loss: 2.1679 - val_accuracy: 0.0686\n",
            "Epoch 290/1000\n",
            "3651/3651 [==============================] - 11s 3ms/step - loss: 2.1808 - accuracy: 0.0933 - val_loss: 2.1680 - val_accuracy: 0.1531\n",
            "Epoch 291/1000\n",
            "3651/3651 [==============================] - 11s 3ms/step - loss: 2.1808 - accuracy: 0.0867 - val_loss: 2.1699 - val_accuracy: 0.0686\n",
            "Epoch 292/1000\n",
            "3651/3651 [==============================] - 11s 3ms/step - loss: 2.1808 - accuracy: 0.0869 - val_loss: 2.1701 - val_accuracy: 0.0773\n",
            "Epoch 293/1000\n",
            "3651/3651 [==============================] - 11s 3ms/step - loss: 2.1808 - accuracy: 0.0987 - val_loss: 2.1664 - val_accuracy: 0.0773\n",
            "Epoch 294/1000\n",
            "3651/3651 [==============================] - 12s 3ms/step - loss: 2.1808 - accuracy: 0.0897 - val_loss: 2.1678 - val_accuracy: 0.0743\n",
            "Epoch 295/1000\n",
            "3651/3651 [==============================] - 12s 3ms/step - loss: 2.1808 - accuracy: 0.1069 - val_loss: 2.1700 - val_accuracy: 0.0743\n",
            "Epoch 296/1000\n",
            "3651/3651 [==============================] - 14s 4ms/step - loss: 2.1808 - accuracy: 0.0989 - val_loss: 2.1719 - val_accuracy: 0.0919\n",
            "Epoch 297/1000\n",
            "3651/3651 [==============================] - 12s 3ms/step - loss: 2.1808 - accuracy: 0.1026 - val_loss: 2.1654 - val_accuracy: 0.0919\n",
            "Epoch 298/1000\n",
            "3651/3651 [==============================] - 12s 3ms/step - loss: 2.1808 - accuracy: 0.0981 - val_loss: 2.1695 - val_accuracy: 0.0743\n",
            "Epoch 299/1000\n",
            "3651/3651 [==============================] - 12s 3ms/step - loss: 2.1808 - accuracy: 0.0905 - val_loss: 2.1719 - val_accuracy: 0.0743\n",
            "Epoch 300/1000\n",
            "3651/3651 [==============================] - 12s 3ms/step - loss: 2.1808 - accuracy: 0.1000 - val_loss: 2.1704 - val_accuracy: 0.1531\n",
            "Epoch 301/1000\n",
            "3651/3651 [==============================] - 12s 3ms/step - loss: 2.1808 - accuracy: 0.0975 - val_loss: 2.1707 - val_accuracy: 0.0686\n",
            "Epoch 302/1000\n",
            "3651/3651 [==============================] - 12s 3ms/step - loss: 2.1808 - accuracy: 0.1018 - val_loss: 2.1695 - val_accuracy: 0.1292\n",
            "Epoch 303/1000\n",
            "3651/3651 [==============================] - 11s 3ms/step - loss: 2.1808 - accuracy: 0.1053 - val_loss: 2.1707 - val_accuracy: 0.0773\n",
            "Epoch 304/1000\n",
            "3651/3651 [==============================] - 12s 3ms/step - loss: 2.1808 - accuracy: 0.1029 - val_loss: 2.1679 - val_accuracy: 0.0919\n",
            "Epoch 305/1000\n",
            "3651/3651 [==============================] - 12s 3ms/step - loss: 2.1808 - accuracy: 0.1041 - val_loss: 2.1694 - val_accuracy: 0.0773\n",
            "Epoch 306/1000\n",
            "3651/3651 [==============================] - 11s 3ms/step - loss: 2.1808 - accuracy: 0.0989 - val_loss: 2.1704 - val_accuracy: 0.0773\n",
            "Epoch 307/1000\n",
            "3651/3651 [==============================] - 12s 3ms/step - loss: 2.1808 - accuracy: 0.1006 - val_loss: 2.1696 - val_accuracy: 0.0804\n",
            "Epoch 308/1000\n",
            "3651/3651 [==============================] - 12s 3ms/step - loss: 2.1808 - accuracy: 0.1113 - val_loss: 2.1692 - val_accuracy: 0.0804\n",
            "Epoch 309/1000\n",
            "3651/3651 [==============================] - 13s 3ms/step - loss: 2.1808 - accuracy: 0.1104 - val_loss: 2.1687 - val_accuracy: 0.2044\n",
            "Epoch 310/1000\n",
            "3651/3651 [==============================] - 12s 3ms/step - loss: 2.1808 - accuracy: 0.1090 - val_loss: 2.1686 - val_accuracy: 0.0919\n",
            "Epoch 311/1000\n",
            "3651/3651 [==============================] - 12s 3ms/step - loss: 2.1808 - accuracy: 0.0972 - val_loss: 2.1667 - val_accuracy: 0.1531\n",
            "Epoch 312/1000\n",
            "3651/3651 [==============================] - 13s 3ms/step - loss: 2.1808 - accuracy: 0.1017 - val_loss: 2.1686 - val_accuracy: 0.0919\n",
            "Epoch 313/1000\n",
            "3651/3651 [==============================] - 12s 3ms/step - loss: 2.1808 - accuracy: 0.1008 - val_loss: 2.1712 - val_accuracy: 0.0686\n",
            "Epoch 314/1000\n",
            "3651/3651 [==============================] - 14s 4ms/step - loss: 2.1808 - accuracy: 0.1095 - val_loss: 2.1671 - val_accuracy: 0.0804\n",
            "Epoch 315/1000\n",
            "3651/3651 [==============================] - 12s 3ms/step - loss: 2.1808 - accuracy: 0.0909 - val_loss: 2.1669 - val_accuracy: 0.2044\n",
            "Epoch 316/1000\n",
            "3651/3651 [==============================] - 12s 3ms/step - loss: 2.1808 - accuracy: 0.1074 - val_loss: 2.1680 - val_accuracy: 0.2044\n",
            "Epoch 317/1000\n",
            "3651/3651 [==============================] - 15s 4ms/step - loss: 2.1808 - accuracy: 0.1069 - val_loss: 2.1738 - val_accuracy: 0.0773\n",
            "Epoch 318/1000\n",
            "3651/3651 [==============================] - 11s 3ms/step - loss: 2.1808 - accuracy: 0.1038 - val_loss: 2.1714 - val_accuracy: 0.0919\n",
            "Epoch 319/1000\n",
            "3651/3651 [==============================] - 12s 3ms/step - loss: 2.1808 - accuracy: 0.1068 - val_loss: 2.1742 - val_accuracy: 0.0743\n",
            "Epoch 320/1000\n",
            "3651/3651 [==============================] - 13s 3ms/step - loss: 2.1808 - accuracy: 0.1089 - val_loss: 2.1710 - val_accuracy: 0.0743\n",
            "Epoch 321/1000\n",
            "3651/3651 [==============================] - 13s 4ms/step - loss: 2.1808 - accuracy: 0.0916 - val_loss: 2.1660 - val_accuracy: 0.2044\n",
            "Epoch 322/1000\n",
            "3651/3651 [==============================] - 12s 3ms/step - loss: 2.1808 - accuracy: 0.1130 - val_loss: 2.1668 - val_accuracy: 0.0743\n",
            "Epoch 323/1000\n",
            "3651/3651 [==============================] - 12s 3ms/step - loss: 2.1808 - accuracy: 0.0947 - val_loss: 2.1669 - val_accuracy: 0.0804\n",
            "Epoch 324/1000\n",
            "3651/3651 [==============================] - 12s 3ms/step - loss: 2.1808 - accuracy: 0.0988 - val_loss: 2.1664 - val_accuracy: 0.2044\n",
            "Epoch 325/1000\n",
            "3651/3651 [==============================] - 12s 3ms/step - loss: 2.1808 - accuracy: 0.1142 - val_loss: 2.1712 - val_accuracy: 0.0919\n",
            "Epoch 326/1000\n",
            "3651/3651 [==============================] - 12s 3ms/step - loss: 2.1808 - accuracy: 0.1014 - val_loss: 2.1724 - val_accuracy: 0.0919\n",
            "Epoch 327/1000\n",
            "3651/3651 [==============================] - 11s 3ms/step - loss: 2.1808 - accuracy: 0.1119 - val_loss: 2.1661 - val_accuracy: 0.0773\n",
            "Epoch 328/1000\n",
            "3651/3651 [==============================] - 11s 3ms/step - loss: 2.1808 - accuracy: 0.0969 - val_loss: 2.1697 - val_accuracy: 0.0804\n",
            "Epoch 329/1000\n",
            "3651/3651 [==============================] - 12s 3ms/step - loss: 2.1808 - accuracy: 0.0903 - val_loss: 2.1705 - val_accuracy: 0.0804\n",
            "Epoch 330/1000\n",
            "3651/3651 [==============================] - 12s 3ms/step - loss: 2.1808 - accuracy: 0.0930 - val_loss: 2.1653 - val_accuracy: 0.1531\n",
            "Epoch 331/1000\n",
            "3651/3651 [==============================] - 12s 3ms/step - loss: 2.1808 - accuracy: 0.1203 - val_loss: 2.1704 - val_accuracy: 0.0804\n",
            "Epoch 332/1000\n",
            "3651/3651 [==============================] - 12s 3ms/step - loss: 2.1808 - accuracy: 0.1046 - val_loss: 2.1721 - val_accuracy: 0.0743\n",
            "Epoch 333/1000\n",
            "3651/3651 [==============================] - 12s 3ms/step - loss: 2.1808 - accuracy: 0.1089 - val_loss: 2.1703 - val_accuracy: 0.0686\n",
            "Epoch 334/1000\n",
            "3651/3651 [==============================] - 12s 3ms/step - loss: 2.1808 - accuracy: 0.1103 - val_loss: 2.1671 - val_accuracy: 0.0773\n",
            "Epoch 335/1000\n",
            "3651/3651 [==============================] - 12s 3ms/step - loss: 2.1808 - accuracy: 0.1139 - val_loss: 2.1694 - val_accuracy: 0.0686\n",
            "Epoch 336/1000\n",
            "3651/3651 [==============================] - 11s 3ms/step - loss: 2.1808 - accuracy: 0.0983 - val_loss: 2.1670 - val_accuracy: 0.0743\n",
            "Epoch 337/1000\n",
            "3651/3651 [==============================] - 12s 3ms/step - loss: 2.1808 - accuracy: 0.1020 - val_loss: 2.1696 - val_accuracy: 0.0743\n",
            "Epoch 338/1000\n",
            "3651/3651 [==============================] - 14s 4ms/step - loss: 2.1808 - accuracy: 0.1039 - val_loss: 2.1684 - val_accuracy: 0.0686\n",
            "Epoch 339/1000\n",
            "3651/3651 [==============================] - 13s 4ms/step - loss: 2.1808 - accuracy: 0.0930 - val_loss: 2.1682 - val_accuracy: 0.0686\n",
            "Epoch 340/1000\n",
            "3651/3651 [==============================] - 11s 3ms/step - loss: 2.1808 - accuracy: 0.0996 - val_loss: 2.1681 - val_accuracy: 0.0804\n",
            "Epoch 341/1000\n",
            "3651/3651 [==============================] - 12s 3ms/step - loss: 2.1808 - accuracy: 0.0921 - val_loss: 2.1640 - val_accuracy: 0.0773\n",
            "Epoch 342/1000\n",
            "3651/3651 [==============================] - 12s 3ms/step - loss: 2.1808 - accuracy: 0.1058 - val_loss: 2.1665 - val_accuracy: 0.0743\n",
            "Epoch 343/1000\n",
            "3651/3651 [==============================] - 12s 3ms/step - loss: 2.1808 - accuracy: 0.1055 - val_loss: 2.1691 - val_accuracy: 0.0773\n",
            "Epoch 344/1000\n",
            "3651/3651 [==============================] - 12s 3ms/step - loss: 2.1808 - accuracy: 0.1029 - val_loss: 2.1678 - val_accuracy: 0.1531\n",
            "Epoch 345/1000\n",
            "3651/3651 [==============================] - 11s 3ms/step - loss: 2.1808 - accuracy: 0.1077 - val_loss: 2.1670 - val_accuracy: 0.0919\n",
            "Epoch 346/1000\n",
            "3651/3651 [==============================] - 12s 3ms/step - loss: 2.1808 - accuracy: 0.0937 - val_loss: 2.1712 - val_accuracy: 0.0919\n",
            "Epoch 347/1000\n",
            "3651/3651 [==============================] - 11s 3ms/step - loss: 2.1808 - accuracy: 0.1140 - val_loss: 2.1687 - val_accuracy: 0.0773\n",
            "Epoch 348/1000\n",
            "3651/3651 [==============================] - 12s 3ms/step - loss: 2.1808 - accuracy: 0.1049 - val_loss: 2.1698 - val_accuracy: 0.0804\n",
            "Epoch 349/1000\n",
            "3651/3651 [==============================] - 12s 3ms/step - loss: 2.1808 - accuracy: 0.0903 - val_loss: 2.1702 - val_accuracy: 0.0919\n",
            "Epoch 350/1000\n",
            "3651/3651 [==============================] - 12s 3ms/step - loss: 2.1808 - accuracy: 0.1025 - val_loss: 2.1674 - val_accuracy: 0.2044\n",
            "Epoch 351/1000\n",
            "3651/3651 [==============================] - 12s 3ms/step - loss: 2.1808 - accuracy: 0.1045 - val_loss: 2.1660 - val_accuracy: 0.2044\n",
            "Epoch 352/1000\n",
            "3651/3651 [==============================] - 12s 3ms/step - loss: 2.1808 - accuracy: 0.1045 - val_loss: 2.1659 - val_accuracy: 0.0773\n",
            "Epoch 353/1000\n",
            "3651/3651 [==============================] - 11s 3ms/step - loss: 2.1808 - accuracy: 0.1014 - val_loss: 2.1679 - val_accuracy: 0.2044\n",
            "Epoch 354/1000\n",
            "3651/3651 [==============================] - 12s 3ms/step - loss: 2.1808 - accuracy: 0.1052 - val_loss: 2.1677 - val_accuracy: 0.0743\n",
            "Epoch 355/1000\n",
            "3651/3651 [==============================] - 12s 3ms/step - loss: 2.1808 - accuracy: 0.0975 - val_loss: 2.1671 - val_accuracy: 0.0773\n",
            "Epoch 356/1000\n",
            "3651/3651 [==============================] - 12s 3ms/step - loss: 2.1808 - accuracy: 0.1034 - val_loss: 2.1689 - val_accuracy: 0.1292\n",
            "Epoch 357/1000\n",
            "3651/3651 [==============================] - 12s 3ms/step - loss: 2.1808 - accuracy: 0.1102 - val_loss: 2.1659 - val_accuracy: 0.0919\n",
            "Epoch 358/1000\n",
            "3651/3651 [==============================] - 11s 3ms/step - loss: 2.1808 - accuracy: 0.1124 - val_loss: 2.1703 - val_accuracy: 0.0743\n",
            "Epoch 359/1000\n",
            "3651/3651 [==============================] - 12s 3ms/step - loss: 2.1808 - accuracy: 0.1143 - val_loss: 2.1658 - val_accuracy: 0.0919\n",
            "Epoch 360/1000\n",
            "3651/3651 [==============================] - 12s 3ms/step - loss: 2.1808 - accuracy: 0.0971 - val_loss: 2.1668 - val_accuracy: 0.0919\n",
            "Epoch 361/1000\n",
            "3651/3651 [==============================] - 14s 4ms/step - loss: 2.1808 - accuracy: 0.0957 - val_loss: 2.1628 - val_accuracy: 0.2044\n",
            "Epoch 362/1000\n",
            "3651/3651 [==============================] - 13s 3ms/step - loss: 2.1808 - accuracy: 0.1055 - val_loss: 2.1678 - val_accuracy: 0.0919\n",
            "Epoch 363/1000\n",
            "3651/3651 [==============================] - 11s 3ms/step - loss: 2.1808 - accuracy: 0.1038 - val_loss: 2.1701 - val_accuracy: 0.0919\n",
            "Epoch 364/1000\n",
            "3651/3651 [==============================] - 12s 3ms/step - loss: 2.1808 - accuracy: 0.0937 - val_loss: 2.1702 - val_accuracy: 0.1292\n",
            "Epoch 365/1000\n",
            "3651/3651 [==============================] - 12s 3ms/step - loss: 2.1808 - accuracy: 0.1015 - val_loss: 2.1710 - val_accuracy: 0.0686\n",
            "Epoch 366/1000\n",
            "3651/3651 [==============================] - 12s 3ms/step - loss: 2.1808 - accuracy: 0.1031 - val_loss: 2.1701 - val_accuracy: 0.0773\n",
            "Epoch 367/1000\n",
            "3651/3651 [==============================] - 12s 3ms/step - loss: 2.1808 - accuracy: 0.1064 - val_loss: 2.1678 - val_accuracy: 0.2044\n",
            "Epoch 368/1000\n",
            "3651/3651 [==============================] - 11s 3ms/step - loss: 2.1808 - accuracy: 0.1009 - val_loss: 2.1680 - val_accuracy: 0.0686\n",
            "Epoch 369/1000\n",
            "3651/3651 [==============================] - 12s 3ms/step - loss: 2.1808 - accuracy: 0.0992 - val_loss: 2.1674 - val_accuracy: 0.2044\n",
            "Epoch 370/1000\n",
            "3651/3651 [==============================] - 12s 3ms/step - loss: 2.1808 - accuracy: 0.1093 - val_loss: 2.1698 - val_accuracy: 0.0686\n",
            "Epoch 371/1000\n",
            "3651/3651 [==============================] - 12s 3ms/step - loss: 2.1808 - accuracy: 0.0877 - val_loss: 2.1692 - val_accuracy: 0.0919\n",
            "Epoch 372/1000\n",
            "3651/3651 [==============================] - 12s 3ms/step - loss: 2.1808 - accuracy: 0.1025 - val_loss: 2.1733 - val_accuracy: 0.0773\n",
            "Epoch 373/1000\n",
            "3651/3651 [==============================] - 11s 3ms/step - loss: 2.1808 - accuracy: 0.0994 - val_loss: 2.1684 - val_accuracy: 0.0743\n",
            "Epoch 374/1000\n",
            "3651/3651 [==============================] - 12s 3ms/step - loss: 2.1808 - accuracy: 0.0985 - val_loss: 2.1709 - val_accuracy: 0.0804\n",
            "Epoch 375/1000\n",
            "3651/3651 [==============================] - 12s 3ms/step - loss: 2.1808 - accuracy: 0.0892 - val_loss: 2.1695 - val_accuracy: 0.0919\n",
            "Epoch 376/1000\n",
            "3651/3651 [==============================] - 12s 3ms/step - loss: 2.1808 - accuracy: 0.1023 - val_loss: 2.1662 - val_accuracy: 0.2044\n",
            "Epoch 377/1000\n",
            "3651/3651 [==============================] - 12s 3ms/step - loss: 2.1808 - accuracy: 0.1098 - val_loss: 2.1674 - val_accuracy: 0.1531\n",
            "Epoch 378/1000\n",
            "3651/3651 [==============================] - 12s 3ms/step - loss: 2.1808 - accuracy: 0.1171 - val_loss: 2.1677 - val_accuracy: 0.0919\n",
            "Epoch 379/1000\n",
            "3651/3651 [==============================] - 12s 3ms/step - loss: 2.1808 - accuracy: 0.0942 - val_loss: 2.1658 - val_accuracy: 0.1292\n",
            "Epoch 380/1000\n",
            "3651/3651 [==============================] - 12s 3ms/step - loss: 2.1808 - accuracy: 0.0929 - val_loss: 2.1658 - val_accuracy: 0.1531\n",
            "Epoch 381/1000\n",
            "3651/3651 [==============================] - 12s 3ms/step - loss: 2.1808 - accuracy: 0.1133 - val_loss: 2.1696 - val_accuracy: 0.0686\n",
            "Epoch 382/1000\n",
            "3651/3651 [==============================] - 12s 3ms/step - loss: 2.1808 - accuracy: 0.0975 - val_loss: 2.1689 - val_accuracy: 0.1292\n",
            "Epoch 383/1000\n",
            "3651/3651 [==============================] - 12s 3ms/step - loss: 2.1808 - accuracy: 0.0999 - val_loss: 2.1696 - val_accuracy: 0.0686\n",
            "Epoch 384/1000\n",
            "3651/3651 [==============================] - 15s 4ms/step - loss: 2.1808 - accuracy: 0.0959 - val_loss: 2.1685 - val_accuracy: 0.0686\n",
            "Epoch 385/1000\n",
            "3651/3651 [==============================] - 12s 3ms/step - loss: 2.1808 - accuracy: 0.1037 - val_loss: 2.1692 - val_accuracy: 0.0686\n",
            "Epoch 386/1000\n",
            "3651/3651 [==============================] - 12s 3ms/step - loss: 2.1808 - accuracy: 0.0970 - val_loss: 2.1657 - val_accuracy: 0.0773\n",
            "Epoch 387/1000\n",
            "3651/3651 [==============================] - 13s 4ms/step - loss: 2.1808 - accuracy: 0.1059 - val_loss: 2.1664 - val_accuracy: 0.1531\n",
            "Epoch 388/1000\n",
            "3651/3651 [==============================] - 12s 3ms/step - loss: 2.1808 - accuracy: 0.1008 - val_loss: 2.1716 - val_accuracy: 0.0804\n",
            "Epoch 389/1000\n",
            "3651/3651 [==============================] - 13s 3ms/step - loss: 2.1808 - accuracy: 0.1040 - val_loss: 2.1694 - val_accuracy: 0.0804\n",
            "Epoch 390/1000\n",
            "3651/3651 [==============================] - 12s 3ms/step - loss: 2.1808 - accuracy: 0.1008 - val_loss: 2.1672 - val_accuracy: 0.0686\n",
            "Epoch 391/1000\n",
            "3651/3651 [==============================] - 13s 3ms/step - loss: 2.1808 - accuracy: 0.0919 - val_loss: 2.1664 - val_accuracy: 0.1531\n",
            "Epoch 392/1000\n",
            "3651/3651 [==============================] - 12s 3ms/step - loss: 2.1808 - accuracy: 0.1010 - val_loss: 2.1672 - val_accuracy: 0.0804\n",
            "Epoch 393/1000\n",
            "3651/3651 [==============================] - 12s 3ms/step - loss: 2.1808 - accuracy: 0.1121 - val_loss: 2.1673 - val_accuracy: 0.0919\n",
            "Epoch 394/1000\n",
            "3651/3651 [==============================] - 13s 3ms/step - loss: 2.1808 - accuracy: 0.0957 - val_loss: 2.1719 - val_accuracy: 0.0773\n",
            "Epoch 395/1000\n",
            "3651/3651 [==============================] - 12s 3ms/step - loss: 2.1808 - accuracy: 0.1030 - val_loss: 2.1704 - val_accuracy: 0.0773\n",
            "Epoch 396/1000\n",
            "3651/3651 [==============================] - 13s 3ms/step - loss: 2.1808 - accuracy: 0.1001 - val_loss: 2.1722 - val_accuracy: 0.0743\n",
            "Epoch 397/1000\n",
            "3651/3651 [==============================] - 12s 3ms/step - loss: 2.1808 - accuracy: 0.0899 - val_loss: 2.1696 - val_accuracy: 0.2044\n",
            "Epoch 398/1000\n",
            "3651/3651 [==============================] - 12s 3ms/step - loss: 2.1808 - accuracy: 0.1045 - val_loss: 2.1682 - val_accuracy: 0.0773\n",
            "Epoch 399/1000\n",
            "3651/3651 [==============================] - 12s 3ms/step - loss: 2.1808 - accuracy: 0.1003 - val_loss: 2.1691 - val_accuracy: 0.0804\n",
            "Epoch 400/1000\n",
            "3651/3651 [==============================] - 12s 3ms/step - loss: 2.1808 - accuracy: 0.1040 - val_loss: 2.1658 - val_accuracy: 0.1531\n",
            "Epoch 401/1000\n",
            "3651/3651 [==============================] - 13s 3ms/step - loss: 2.1808 - accuracy: 0.0997 - val_loss: 2.1660 - val_accuracy: 0.0919\n",
            "Epoch 402/1000\n",
            "3651/3651 [==============================] - 12s 3ms/step - loss: 2.1808 - accuracy: 0.1021 - val_loss: 2.1702 - val_accuracy: 0.0743\n",
            "Epoch 403/1000\n",
            "3651/3651 [==============================] - 12s 3ms/step - loss: 2.1808 - accuracy: 0.0916 - val_loss: 2.1703 - val_accuracy: 0.1531\n",
            "Epoch 404/1000\n",
            "3651/3651 [==============================] - 12s 3ms/step - loss: 2.1808 - accuracy: 0.1092 - val_loss: 2.1676 - val_accuracy: 0.0773\n",
            "Epoch 405/1000\n",
            "3651/3651 [==============================] - 13s 4ms/step - loss: 2.1808 - accuracy: 0.0874 - val_loss: 2.1665 - val_accuracy: 0.0804\n",
            "Epoch 406/1000\n",
            "3651/3651 [==============================] - 14s 4ms/step - loss: 2.1808 - accuracy: 0.1056 - val_loss: 2.1684 - val_accuracy: 0.0773\n",
            "Epoch 407/1000\n",
            "3651/3651 [==============================] - 12s 3ms/step - loss: 2.1808 - accuracy: 0.0971 - val_loss: 2.1678 - val_accuracy: 0.0919\n",
            "Epoch 408/1000\n",
            "3651/3651 [==============================] - 12s 3ms/step - loss: 2.1808 - accuracy: 0.1160 - val_loss: 2.1698 - val_accuracy: 0.0686\n",
            "Epoch 409/1000\n",
            "3651/3651 [==============================] - 12s 3ms/step - loss: 2.1808 - accuracy: 0.0949 - val_loss: 2.1649 - val_accuracy: 0.2044\n",
            "Epoch 410/1000\n",
            "3651/3651 [==============================] - 12s 3ms/step - loss: 2.1808 - accuracy: 0.1014 - val_loss: 2.1701 - val_accuracy: 0.0743\n",
            "Epoch 411/1000\n",
            "3651/3651 [==============================] - 12s 3ms/step - loss: 2.1808 - accuracy: 0.0992 - val_loss: 2.1744 - val_accuracy: 0.0743\n",
            "Epoch 412/1000\n",
            "3651/3651 [==============================] - 12s 3ms/step - loss: 2.1808 - accuracy: 0.1072 - val_loss: 2.1672 - val_accuracy: 0.0686\n",
            "Epoch 413/1000\n",
            "3651/3651 [==============================] - 14s 4ms/step - loss: 2.1808 - accuracy: 0.1110 - val_loss: 2.1675 - val_accuracy: 0.1531\n",
            "Epoch 414/1000\n",
            "3651/3651 [==============================] - 13s 3ms/step - loss: 2.1808 - accuracy: 0.1054 - val_loss: 2.1680 - val_accuracy: 0.2044\n",
            "Epoch 415/1000\n",
            "3651/3651 [==============================] - 12s 3ms/step - loss: 2.1808 - accuracy: 0.1046 - val_loss: 2.1696 - val_accuracy: 0.0773\n",
            "Epoch 416/1000\n",
            "3651/3651 [==============================] - 12s 3ms/step - loss: 2.1808 - accuracy: 0.0997 - val_loss: 2.1684 - val_accuracy: 0.0773\n",
            "Epoch 417/1000\n",
            "3651/3651 [==============================] - 13s 3ms/step - loss: 2.1808 - accuracy: 0.1036 - val_loss: 2.1665 - val_accuracy: 0.0804\n",
            "Epoch 418/1000\n",
            "3651/3651 [==============================] - 13s 4ms/step - loss: 2.1808 - accuracy: 0.0891 - val_loss: 2.1735 - val_accuracy: 0.0804\n",
            "Epoch 419/1000\n",
            "3651/3651 [==============================] - 12s 3ms/step - loss: 2.1808 - accuracy: 0.1105 - val_loss: 2.1654 - val_accuracy: 0.1292\n",
            "Epoch 420/1000\n",
            "3651/3651 [==============================] - 13s 4ms/step - loss: 2.1808 - accuracy: 0.1226 - val_loss: 2.1690 - val_accuracy: 0.0686\n",
            "Epoch 421/1000\n",
            "3651/3651 [==============================] - 12s 3ms/step - loss: 2.1808 - accuracy: 0.0940 - val_loss: 2.1632 - val_accuracy: 0.2044\n",
            "Epoch 422/1000\n",
            "3651/3651 [==============================] - 13s 3ms/step - loss: 2.1808 - accuracy: 0.1142 - val_loss: 2.1682 - val_accuracy: 0.0686\n",
            "Epoch 423/1000\n",
            "3651/3651 [==============================] - 13s 4ms/step - loss: 2.1808 - accuracy: 0.0960 - val_loss: 2.1663 - val_accuracy: 0.2044\n",
            "Epoch 424/1000\n",
            "3651/3651 [==============================] - 13s 4ms/step - loss: 2.1808 - accuracy: 0.1033 - val_loss: 2.1682 - val_accuracy: 0.0773\n",
            "Epoch 425/1000\n",
            "3651/3651 [==============================] - 13s 4ms/step - loss: 2.1808 - accuracy: 0.1133 - val_loss: 2.1728 - val_accuracy: 0.0743\n",
            "Epoch 426/1000\n",
            "3651/3651 [==============================] - 12s 3ms/step - loss: 2.1808 - accuracy: 0.0979 - val_loss: 2.1679 - val_accuracy: 0.1292\n",
            "Epoch 427/1000\n",
            "3651/3651 [==============================] - 16s 4ms/step - loss: 2.1808 - accuracy: 0.1096 - val_loss: 2.1722 - val_accuracy: 0.0686\n",
            "Epoch 428/1000\n",
            "3651/3651 [==============================] - 13s 3ms/step - loss: 2.1808 - accuracy: 0.1198 - val_loss: 2.1717 - val_accuracy: 0.1292\n",
            "Epoch 429/1000\n",
            "3651/3651 [==============================] - 12s 3ms/step - loss: 2.1808 - accuracy: 0.1063 - val_loss: 2.1689 - val_accuracy: 0.0919\n",
            "Epoch 430/1000\n",
            "3651/3651 [==============================] - 12s 3ms/step - loss: 2.1808 - accuracy: 0.1056 - val_loss: 2.1700 - val_accuracy: 0.1292\n",
            "Epoch 431/1000\n",
            "3651/3651 [==============================] - 12s 3ms/step - loss: 2.1808 - accuracy: 0.0937 - val_loss: 2.1675 - val_accuracy: 0.1292\n",
            "Epoch 432/1000\n",
            "3651/3651 [==============================] - 13s 3ms/step - loss: 2.1808 - accuracy: 0.1047 - val_loss: 2.1698 - val_accuracy: 0.0743\n",
            "Epoch 433/1000\n",
            "3651/3651 [==============================] - 12s 3ms/step - loss: 2.1808 - accuracy: 0.1074 - val_loss: 2.1713 - val_accuracy: 0.0743\n",
            "Epoch 434/1000\n",
            "3651/3651 [==============================] - 12s 3ms/step - loss: 2.1808 - accuracy: 0.0914 - val_loss: 2.1677 - val_accuracy: 0.0743\n",
            "Epoch 435/1000\n",
            "3651/3651 [==============================] - 12s 3ms/step - loss: 2.1808 - accuracy: 0.1057 - val_loss: 2.1679 - val_accuracy: 0.0919\n",
            "Epoch 436/1000\n",
            "3651/3651 [==============================] - 12s 3ms/step - loss: 2.1808 - accuracy: 0.0986 - val_loss: 2.1682 - val_accuracy: 0.0686\n",
            "Epoch 437/1000\n",
            "3651/3651 [==============================] - 12s 3ms/step - loss: 2.1808 - accuracy: 0.0936 - val_loss: 2.1645 - val_accuracy: 0.2044\n",
            "Epoch 438/1000\n",
            "3651/3651 [==============================] - 13s 4ms/step - loss: 2.1808 - accuracy: 0.1161 - val_loss: 2.1691 - val_accuracy: 0.0743\n",
            "Epoch 439/1000\n",
            "3651/3651 [==============================] - 13s 4ms/step - loss: 2.1808 - accuracy: 0.1092 - val_loss: 2.1666 - val_accuracy: 0.1531\n",
            "Epoch 440/1000\n",
            "3651/3651 [==============================] - 12s 3ms/step - loss: 2.1808 - accuracy: 0.0920 - val_loss: 2.1658 - val_accuracy: 0.1292\n",
            "Epoch 441/1000\n",
            "3651/3651 [==============================] - 13s 4ms/step - loss: 2.1808 - accuracy: 0.1115 - val_loss: 2.1679 - val_accuracy: 0.1292\n",
            "Epoch 442/1000\n",
            "3651/3651 [==============================] - 12s 3ms/step - loss: 2.1808 - accuracy: 0.0979 - val_loss: 2.1661 - val_accuracy: 0.1531\n",
            "Epoch 443/1000\n",
            "3651/3651 [==============================] - 12s 3ms/step - loss: 2.1808 - accuracy: 0.1024 - val_loss: 2.1662 - val_accuracy: 0.0743\n",
            "Epoch 444/1000\n",
            "3651/3651 [==============================] - 13s 3ms/step - loss: 2.1808 - accuracy: 0.0893 - val_loss: 2.1660 - val_accuracy: 0.1292\n",
            "Epoch 445/1000\n",
            "3651/3651 [==============================] - 12s 3ms/step - loss: 2.1808 - accuracy: 0.1115 - val_loss: 2.1708 - val_accuracy: 0.1531\n",
            "Epoch 446/1000\n",
            "3651/3651 [==============================] - 13s 3ms/step - loss: 2.1808 - accuracy: 0.1009 - val_loss: 2.1689 - val_accuracy: 0.0804\n",
            "Epoch 447/1000\n",
            "3651/3651 [==============================] - 13s 3ms/step - loss: 2.1808 - accuracy: 0.0980 - val_loss: 2.1692 - val_accuracy: 0.0743\n",
            "Epoch 448/1000\n",
            "3651/3651 [==============================] - 14s 4ms/step - loss: 2.1808 - accuracy: 0.1019 - val_loss: 2.1663 - val_accuracy: 0.2044\n",
            "Epoch 449/1000\n",
            "3651/3651 [==============================] - 14s 4ms/step - loss: 2.1808 - accuracy: 0.0952 - val_loss: 2.1674 - val_accuracy: 0.0773\n",
            "Epoch 450/1000\n",
            "3651/3651 [==============================] - 13s 4ms/step - loss: 2.1808 - accuracy: 0.1067 - val_loss: 2.1649 - val_accuracy: 0.1531\n",
            "Epoch 451/1000\n",
            "3651/3651 [==============================] - 14s 4ms/step - loss: 2.1808 - accuracy: 0.1111 - val_loss: 2.1720 - val_accuracy: 0.0743\n",
            "Epoch 452/1000\n",
            "3651/3651 [==============================] - 13s 3ms/step - loss: 2.1808 - accuracy: 0.1094 - val_loss: 2.1742 - val_accuracy: 0.0686\n",
            "Epoch 453/1000\n",
            "3651/3651 [==============================] - 13s 4ms/step - loss: 2.1808 - accuracy: 0.1027 - val_loss: 2.1702 - val_accuracy: 0.0686\n",
            "Epoch 454/1000\n",
            "3651/3651 [==============================] - 12s 3ms/step - loss: 2.1808 - accuracy: 0.0862 - val_loss: 2.1721 - val_accuracy: 0.0773\n",
            "Epoch 455/1000\n",
            "3651/3651 [==============================] - 12s 3ms/step - loss: 2.1808 - accuracy: 0.0994 - val_loss: 2.1679 - val_accuracy: 0.0686\n",
            "Epoch 456/1000\n",
            "3651/3651 [==============================] - 13s 3ms/step - loss: 2.1808 - accuracy: 0.0939 - val_loss: 2.1709 - val_accuracy: 0.0773\n",
            "Epoch 457/1000\n",
            "3651/3651 [==============================] - 13s 4ms/step - loss: 2.1808 - accuracy: 0.1092 - val_loss: 2.1672 - val_accuracy: 0.2044\n",
            "Epoch 458/1000\n",
            "3651/3651 [==============================] - 12s 3ms/step - loss: 2.1808 - accuracy: 0.1021 - val_loss: 2.1678 - val_accuracy: 0.2044\n",
            "Epoch 459/1000\n",
            "3651/3651 [==============================] - 12s 3ms/step - loss: 2.1808 - accuracy: 0.0936 - val_loss: 2.1669 - val_accuracy: 0.1292\n",
            "Epoch 460/1000\n",
            "3651/3651 [==============================] - 13s 3ms/step - loss: 2.1808 - accuracy: 0.1078 - val_loss: 2.1679 - val_accuracy: 0.0686\n",
            "Epoch 461/1000\n",
            "3651/3651 [==============================] - 13s 3ms/step - loss: 2.1808 - accuracy: 0.0961 - val_loss: 2.1643 - val_accuracy: 0.0773\n",
            "Epoch 462/1000\n",
            "3651/3651 [==============================] - 12s 3ms/step - loss: 2.1808 - accuracy: 0.1075 - val_loss: 2.1694 - val_accuracy: 0.0743\n",
            "Epoch 463/1000\n",
            "3651/3651 [==============================] - 13s 4ms/step - loss: 2.1808 - accuracy: 0.1005 - val_loss: 2.1660 - val_accuracy: 0.0804\n",
            "Epoch 464/1000\n",
            "3651/3651 [==============================] - 12s 3ms/step - loss: 2.1808 - accuracy: 0.1003 - val_loss: 2.1696 - val_accuracy: 0.0804\n",
            "Epoch 465/1000\n",
            "3651/3651 [==============================] - 12s 3ms/step - loss: 2.1808 - accuracy: 0.0995 - val_loss: 2.1674 - val_accuracy: 0.1531\n",
            "Epoch 466/1000\n",
            "3651/3651 [==============================] - 12s 3ms/step - loss: 2.1808 - accuracy: 0.1151 - val_loss: 2.1706 - val_accuracy: 0.0743\n",
            "Epoch 467/1000\n",
            "3651/3651 [==============================] - 13s 4ms/step - loss: 2.1808 - accuracy: 0.0868 - val_loss: 2.1656 - val_accuracy: 0.2044\n",
            "Epoch 468/1000\n",
            "3651/3651 [==============================] - 12s 3ms/step - loss: 2.1808 - accuracy: 0.1074 - val_loss: 2.1676 - val_accuracy: 0.0804\n",
            "Epoch 469/1000\n",
            "3651/3651 [==============================] - 13s 4ms/step - loss: 2.1808 - accuracy: 0.1048 - val_loss: 2.1679 - val_accuracy: 0.0743\n",
            "Epoch 470/1000\n",
            "3651/3651 [==============================] - 14s 4ms/step - loss: 2.1808 - accuracy: 0.1076 - val_loss: 2.1685 - val_accuracy: 0.2044\n",
            "Epoch 471/1000\n",
            "3651/3651 [==============================] - 12s 3ms/step - loss: 2.1808 - accuracy: 0.0997 - val_loss: 2.1658 - val_accuracy: 0.1531\n",
            "Epoch 472/1000\n",
            "3651/3651 [==============================] - 13s 3ms/step - loss: 2.1808 - accuracy: 0.0899 - val_loss: 2.1735 - val_accuracy: 0.0743\n",
            "Epoch 473/1000\n",
            "3651/3651 [==============================] - 12s 3ms/step - loss: 2.1808 - accuracy: 0.0994 - val_loss: 2.1697 - val_accuracy: 0.0743\n",
            "Epoch 474/1000\n",
            "3651/3651 [==============================] - 13s 3ms/step - loss: 2.1808 - accuracy: 0.1188 - val_loss: 2.1704 - val_accuracy: 0.0919\n",
            "Epoch 475/1000\n",
            "3651/3651 [==============================] - 13s 3ms/step - loss: 2.1808 - accuracy: 0.0959 - val_loss: 2.1663 - val_accuracy: 0.1531\n",
            "Epoch 476/1000\n",
            "3651/3651 [==============================] - 13s 4ms/step - loss: 2.1808 - accuracy: 0.0989 - val_loss: 2.1691 - val_accuracy: 0.0804\n",
            "Epoch 477/1000\n",
            "3651/3651 [==============================] - 13s 3ms/step - loss: 2.1808 - accuracy: 0.1114 - val_loss: 2.1675 - val_accuracy: 0.1531\n",
            "Epoch 478/1000\n",
            "3651/3651 [==============================] - 13s 4ms/step - loss: 2.1808 - accuracy: 0.1027 - val_loss: 2.1678 - val_accuracy: 0.1292\n",
            "Epoch 479/1000\n",
            "3651/3651 [==============================] - 14s 4ms/step - loss: 2.1808 - accuracy: 0.1010 - val_loss: 2.1725 - val_accuracy: 0.0919\n",
            "Epoch 480/1000\n",
            "3651/3651 [==============================] - 13s 4ms/step - loss: 2.1808 - accuracy: 0.0993 - val_loss: 2.1681 - val_accuracy: 0.0804\n",
            "Epoch 481/1000\n",
            "3651/3651 [==============================] - 15s 4ms/step - loss: 2.1808 - accuracy: 0.0905 - val_loss: 2.1712 - val_accuracy: 0.1292\n",
            "Epoch 482/1000\n",
            "3651/3651 [==============================] - 13s 4ms/step - loss: 2.1808 - accuracy: 0.1108 - val_loss: 2.1674 - val_accuracy: 0.0804\n",
            "Epoch 483/1000\n",
            "3651/3651 [==============================] - 14s 4ms/step - loss: 2.1808 - accuracy: 0.1052 - val_loss: 2.1689 - val_accuracy: 0.0743\n",
            "Epoch 484/1000\n",
            "3651/3651 [==============================] - 13s 4ms/step - loss: 2.1808 - accuracy: 0.0960 - val_loss: 2.1705 - val_accuracy: 0.1531\n",
            "Epoch 485/1000\n",
            "3651/3651 [==============================] - 13s 4ms/step - loss: 2.1808 - accuracy: 0.1007 - val_loss: 2.1682 - val_accuracy: 0.2044\n",
            "Epoch 486/1000\n",
            "3651/3651 [==============================] - 13s 4ms/step - loss: 2.1808 - accuracy: 0.1066 - val_loss: 2.1714 - val_accuracy: 0.0743\n",
            "Epoch 487/1000\n",
            "3651/3651 [==============================] - 13s 4ms/step - loss: 2.1808 - accuracy: 0.0966 - val_loss: 2.1686 - val_accuracy: 0.1531\n",
            "Epoch 488/1000\n",
            "3651/3651 [==============================] - 14s 4ms/step - loss: 2.1808 - accuracy: 0.1049 - val_loss: 2.1704 - val_accuracy: 0.0804\n",
            "Epoch 489/1000\n",
            "3651/3651 [==============================] - 13s 3ms/step - loss: 2.1808 - accuracy: 0.1025 - val_loss: 2.1679 - val_accuracy: 0.0686\n",
            "Epoch 490/1000\n",
            "3651/3651 [==============================] - 15s 4ms/step - loss: 2.1808 - accuracy: 0.1179 - val_loss: 2.1692 - val_accuracy: 0.0804\n",
            "Epoch 491/1000\n",
            "3651/3651 [==============================] - 13s 3ms/step - loss: 2.1808 - accuracy: 0.1023 - val_loss: 2.1695 - val_accuracy: 0.0773\n",
            "Epoch 492/1000\n",
            "3651/3651 [==============================] - 13s 4ms/step - loss: 2.1808 - accuracy: 0.1047 - val_loss: 2.1686 - val_accuracy: 0.0743\n",
            "Epoch 493/1000\n",
            "3651/3651 [==============================] - 13s 4ms/step - loss: 2.1808 - accuracy: 0.0935 - val_loss: 2.1704 - val_accuracy: 0.0919\n",
            "Epoch 494/1000\n",
            "3651/3651 [==============================] - 13s 4ms/step - loss: 2.1808 - accuracy: 0.1126 - val_loss: 2.1653 - val_accuracy: 0.0686\n",
            "Epoch 495/1000\n",
            "3651/3651 [==============================] - 13s 4ms/step - loss: 2.1808 - accuracy: 0.1028 - val_loss: 2.1703 - val_accuracy: 0.0804\n",
            "Epoch 496/1000\n",
            "3651/3651 [==============================] - 13s 3ms/step - loss: 2.1808 - accuracy: 0.0991 - val_loss: 2.1666 - val_accuracy: 0.1292\n",
            "Epoch 497/1000\n",
            "3651/3651 [==============================] - 13s 4ms/step - loss: 2.1808 - accuracy: 0.1109 - val_loss: 2.1716 - val_accuracy: 0.0773\n",
            "Epoch 498/1000\n",
            "3651/3651 [==============================] - 13s 4ms/step - loss: 2.1808 - accuracy: 0.0986 - val_loss: 2.1698 - val_accuracy: 0.0686\n",
            "Epoch 499/1000\n",
            "3651/3651 [==============================] - 13s 4ms/step - loss: 2.1808 - accuracy: 0.0934 - val_loss: 2.1665 - val_accuracy: 0.0743\n",
            "Epoch 500/1000\n",
            "3651/3651 [==============================] - 12s 3ms/step - loss: 2.1808 - accuracy: 0.0982 - val_loss: 2.1682 - val_accuracy: 0.0773\n",
            "Epoch 501/1000\n",
            "3651/3651 [==============================] - 13s 4ms/step - loss: 2.1808 - accuracy: 0.1077 - val_loss: 2.1717 - val_accuracy: 0.0743\n",
            "Epoch 502/1000\n",
            "3651/3651 [==============================] - 14s 4ms/step - loss: 2.1808 - accuracy: 0.0994 - val_loss: 2.1694 - val_accuracy: 0.0773\n",
            "Epoch 503/1000\n",
            "3651/3651 [==============================] - 13s 4ms/step - loss: 2.1808 - accuracy: 0.1024 - val_loss: 2.1700 - val_accuracy: 0.1292\n",
            "Epoch 504/1000\n",
            "3651/3651 [==============================] - 13s 4ms/step - loss: 2.1808 - accuracy: 0.1066 - val_loss: 2.1724 - val_accuracy: 0.0743\n",
            "Epoch 505/1000\n",
            "3651/3651 [==============================] - 13s 3ms/step - loss: 2.1808 - accuracy: 0.1037 - val_loss: 2.1699 - val_accuracy: 0.1531\n",
            "Epoch 506/1000\n",
            "3651/3651 [==============================] - 13s 4ms/step - loss: 2.1808 - accuracy: 0.0955 - val_loss: 2.1630 - val_accuracy: 0.1531\n",
            "Epoch 507/1000\n",
            "3651/3651 [==============================] - 12s 3ms/step - loss: 2.1808 - accuracy: 0.1019 - val_loss: 2.1687 - val_accuracy: 0.0804\n",
            "Epoch 508/1000\n",
            "3651/3651 [==============================] - 12s 3ms/step - loss: 2.1808 - accuracy: 0.1085 - val_loss: 2.1682 - val_accuracy: 0.1531\n",
            "Epoch 509/1000\n",
            "3651/3651 [==============================] - 13s 3ms/step - loss: 2.1808 - accuracy: 0.1154 - val_loss: 2.1696 - val_accuracy: 0.0804\n",
            "Epoch 510/1000\n",
            "3651/3651 [==============================] - 12s 3ms/step - loss: 2.1808 - accuracy: 0.0886 - val_loss: 2.1688 - val_accuracy: 0.1531\n",
            "Epoch 511/1000\n",
            "3651/3651 [==============================] - 13s 4ms/step - loss: 2.1808 - accuracy: 0.1074 - val_loss: 2.1729 - val_accuracy: 0.0919\n",
            "Epoch 512/1000\n",
            "3651/3651 [==============================] - 15s 4ms/step - loss: 2.1808 - accuracy: 0.0986 - val_loss: 2.1692 - val_accuracy: 0.0686\n",
            "Epoch 513/1000\n",
            "3651/3651 [==============================] - 14s 4ms/step - loss: 2.1808 - accuracy: 0.0957 - val_loss: 2.1654 - val_accuracy: 0.2044\n",
            "Epoch 514/1000\n",
            "3651/3651 [==============================] - 12s 3ms/step - loss: 2.1808 - accuracy: 0.1126 - val_loss: 2.1674 - val_accuracy: 0.2044\n",
            "Epoch 515/1000\n",
            "3651/3651 [==============================] - 13s 3ms/step - loss: 2.1808 - accuracy: 0.1040 - val_loss: 2.1675 - val_accuracy: 0.0804\n",
            "Epoch 516/1000\n",
            "3651/3651 [==============================] - 13s 4ms/step - loss: 2.1808 - accuracy: 0.0919 - val_loss: 2.1728 - val_accuracy: 0.0743\n",
            "Epoch 517/1000\n",
            "3651/3651 [==============================] - 12s 3ms/step - loss: 2.1808 - accuracy: 0.1004 - val_loss: 2.1674 - val_accuracy: 0.0686\n",
            "Epoch 518/1000\n",
            "3651/3651 [==============================] - 12s 3ms/step - loss: 2.1808 - accuracy: 0.0973 - val_loss: 2.1661 - val_accuracy: 0.0743\n",
            "Epoch 519/1000\n",
            "3651/3651 [==============================] - 12s 3ms/step - loss: 2.1808 - accuracy: 0.0995 - val_loss: 2.1721 - val_accuracy: 0.0686\n",
            "Epoch 520/1000\n",
            "3651/3651 [==============================] - 13s 4ms/step - loss: 2.1808 - accuracy: 0.0913 - val_loss: 2.1669 - val_accuracy: 0.0773\n",
            "Epoch 521/1000\n",
            "3651/3651 [==============================] - 12s 3ms/step - loss: 2.1808 - accuracy: 0.1091 - val_loss: 2.1688 - val_accuracy: 0.0773\n",
            "Epoch 522/1000\n",
            "3651/3651 [==============================] - 12s 3ms/step - loss: 2.1808 - accuracy: 0.0870 - val_loss: 2.1723 - val_accuracy: 0.0804\n",
            "Epoch 523/1000\n",
            "3651/3651 [==============================] - 13s 3ms/step - loss: 2.1808 - accuracy: 0.0926 - val_loss: 2.1693 - val_accuracy: 0.0743\n",
            "Epoch 524/1000\n",
            "3651/3651 [==============================] - 13s 4ms/step - loss: 2.1808 - accuracy: 0.1048 - val_loss: 2.1666 - val_accuracy: 0.0686\n",
            "Epoch 525/1000\n",
            "3651/3651 [==============================] - 13s 4ms/step - loss: 2.1808 - accuracy: 0.1163 - val_loss: 2.1688 - val_accuracy: 0.0743\n",
            "Epoch 526/1000\n",
            "3651/3651 [==============================] - 13s 3ms/step - loss: 2.1808 - accuracy: 0.0957 - val_loss: 2.1673 - val_accuracy: 0.0919\n",
            "Epoch 527/1000\n",
            "3651/3651 [==============================] - 13s 4ms/step - loss: 2.1808 - accuracy: 0.0974 - val_loss: 2.1685 - val_accuracy: 0.0804\n",
            "Epoch 528/1000\n",
            "3651/3651 [==============================] - 12s 3ms/step - loss: 2.1808 - accuracy: 0.0921 - val_loss: 2.1681 - val_accuracy: 0.0919\n",
            "Epoch 529/1000\n",
            "3651/3651 [==============================] - 12s 3ms/step - loss: 2.1808 - accuracy: 0.0955 - val_loss: 2.1677 - val_accuracy: 0.0773\n",
            "Epoch 530/1000\n",
            "3651/3651 [==============================] - 12s 3ms/step - loss: 2.1808 - accuracy: 0.1027 - val_loss: 2.1662 - val_accuracy: 0.0686\n",
            "Epoch 531/1000\n",
            "3651/3651 [==============================] - 12s 3ms/step - loss: 2.1808 - accuracy: 0.1153 - val_loss: 2.1691 - val_accuracy: 0.0743\n",
            "Epoch 532/1000\n",
            "3651/3651 [==============================] - 13s 4ms/step - loss: 2.1808 - accuracy: 0.1076 - val_loss: 2.1691 - val_accuracy: 0.1292\n",
            "Epoch 533/1000\n",
            "3651/3651 [==============================] - 12s 3ms/step - loss: 2.1808 - accuracy: 0.0894 - val_loss: 2.1671 - val_accuracy: 0.0919\n",
            "Epoch 534/1000\n",
            "3651/3651 [==============================] - 15s 4ms/step - loss: 2.1808 - accuracy: 0.0962 - val_loss: 2.1659 - val_accuracy: 0.1531\n",
            "Epoch 535/1000\n",
            "3651/3651 [==============================] - 12s 3ms/step - loss: 2.1808 - accuracy: 0.1138 - val_loss: 2.1701 - val_accuracy: 0.0743\n",
            "Epoch 536/1000\n",
            "3651/3651 [==============================] - 12s 3ms/step - loss: 2.1808 - accuracy: 0.1010 - val_loss: 2.1680 - val_accuracy: 0.1531\n",
            "Epoch 537/1000\n",
            "3651/3651 [==============================] - 12s 3ms/step - loss: 2.1808 - accuracy: 0.1109 - val_loss: 2.1731 - val_accuracy: 0.0773\n",
            "Epoch 538/1000\n",
            "3651/3651 [==============================] - 12s 3ms/step - loss: 2.1808 - accuracy: 0.1078 - val_loss: 2.1711 - val_accuracy: 0.0743\n",
            "Epoch 539/1000\n",
            "3651/3651 [==============================] - 13s 4ms/step - loss: 2.1808 - accuracy: 0.1029 - val_loss: 2.1694 - val_accuracy: 0.0743\n",
            "Epoch 540/1000\n",
            "3651/3651 [==============================] - 12s 3ms/step - loss: 2.1808 - accuracy: 0.0963 - val_loss: 2.1695 - val_accuracy: 0.0804\n",
            "Epoch 541/1000\n",
            "3651/3651 [==============================] - 13s 3ms/step - loss: 2.1808 - accuracy: 0.1005 - val_loss: 2.1688 - val_accuracy: 0.1531\n",
            "Epoch 542/1000\n",
            "3651/3651 [==============================] - 12s 3ms/step - loss: 2.1808 - accuracy: 0.0947 - val_loss: 2.1696 - val_accuracy: 0.0919\n",
            "Epoch 543/1000\n",
            "3651/3651 [==============================] - 12s 3ms/step - loss: 2.1808 - accuracy: 0.0983 - val_loss: 2.1716 - val_accuracy: 0.0773\n",
            "Epoch 544/1000\n",
            "3651/3651 [==============================] - 13s 3ms/step - loss: 2.1808 - accuracy: 0.1109 - val_loss: 2.1670 - val_accuracy: 0.0743\n",
            "Epoch 545/1000\n",
            "3651/3651 [==============================] - 12s 3ms/step - loss: 2.1808 - accuracy: 0.1050 - val_loss: 2.1648 - val_accuracy: 0.1531\n",
            "Epoch 546/1000\n",
            "3651/3651 [==============================] - 13s 4ms/step - loss: 2.1808 - accuracy: 0.1137 - val_loss: 2.1745 - val_accuracy: 0.0804\n",
            "Epoch 547/1000\n",
            "3651/3651 [==============================] - 13s 4ms/step - loss: 2.1808 - accuracy: 0.0916 - val_loss: 2.1682 - val_accuracy: 0.0686\n",
            "Epoch 548/1000\n",
            "3651/3651 [==============================] - 13s 4ms/step - loss: 2.1808 - accuracy: 0.1119 - val_loss: 2.1676 - val_accuracy: 0.0743\n",
            "Epoch 549/1000\n",
            "3651/3651 [==============================] - 13s 3ms/step - loss: 2.1808 - accuracy: 0.0952 - val_loss: 2.1688 - val_accuracy: 0.0804\n",
            "Epoch 550/1000\n",
            "3651/3651 [==============================] - 13s 3ms/step - loss: 2.1808 - accuracy: 0.1104 - val_loss: 2.1674 - val_accuracy: 0.2044\n",
            "Epoch 551/1000\n",
            "3651/3651 [==============================] - 13s 4ms/step - loss: 2.1808 - accuracy: 0.1141 - val_loss: 2.1677 - val_accuracy: 0.0773\n",
            "Epoch 552/1000\n",
            "3651/3651 [==============================] - 12s 3ms/step - loss: 2.1808 - accuracy: 0.1102 - val_loss: 2.1720 - val_accuracy: 0.0919\n",
            "Epoch 553/1000\n",
            "3651/3651 [==============================] - 13s 4ms/step - loss: 2.1808 - accuracy: 0.1084 - val_loss: 2.1676 - val_accuracy: 0.0686\n",
            "Epoch 554/1000\n",
            "3651/3651 [==============================] - 13s 3ms/step - loss: 2.1808 - accuracy: 0.1009 - val_loss: 2.1694 - val_accuracy: 0.0743\n",
            "Epoch 555/1000\n",
            "3651/3651 [==============================] - 13s 4ms/step - loss: 2.1808 - accuracy: 0.0933 - val_loss: 2.1695 - val_accuracy: 0.0804\n",
            "Epoch 556/1000\n",
            "3651/3651 [==============================] - 16s 4ms/step - loss: 2.1808 - accuracy: 0.1052 - val_loss: 2.1675 - val_accuracy: 0.2044\n",
            "Epoch 557/1000\n",
            "3651/3651 [==============================] - 12s 3ms/step - loss: 2.1808 - accuracy: 0.1061 - val_loss: 2.1664 - val_accuracy: 0.0804\n",
            "Epoch 558/1000\n",
            "3651/3651 [==============================] - 13s 3ms/step - loss: 2.1808 - accuracy: 0.1051 - val_loss: 2.1694 - val_accuracy: 0.0804\n",
            "Epoch 559/1000\n",
            "3651/3651 [==============================] - 12s 3ms/step - loss: 2.1808 - accuracy: 0.1001 - val_loss: 2.1722 - val_accuracy: 0.0686\n",
            "Epoch 560/1000\n",
            "3651/3651 [==============================] - 13s 3ms/step - loss: 2.1808 - accuracy: 0.1085 - val_loss: 2.1674 - val_accuracy: 0.0804\n",
            "Epoch 561/1000\n",
            "3651/3651 [==============================] - 12s 3ms/step - loss: 2.1808 - accuracy: 0.1012 - val_loss: 2.1694 - val_accuracy: 0.1292\n",
            "Epoch 562/1000\n",
            "3651/3651 [==============================] - 13s 3ms/step - loss: 2.1808 - accuracy: 0.1165 - val_loss: 2.1710 - val_accuracy: 0.0686\n",
            "Epoch 563/1000\n",
            "3651/3651 [==============================] - 14s 4ms/step - loss: 2.1808 - accuracy: 0.1110 - val_loss: 2.1698 - val_accuracy: 0.2044\n",
            "Epoch 564/1000\n",
            "3651/3651 [==============================] - 13s 3ms/step - loss: 2.1808 - accuracy: 0.1133 - val_loss: 2.1684 - val_accuracy: 0.1292\n",
            "Epoch 565/1000\n",
            "3651/3651 [==============================] - 13s 4ms/step - loss: 2.1808 - accuracy: 0.0926 - val_loss: 2.1681 - val_accuracy: 0.2044\n",
            "Epoch 566/1000\n",
            "3651/3651 [==============================] - 12s 3ms/step - loss: 2.1808 - accuracy: 0.1197 - val_loss: 2.1682 - val_accuracy: 0.1531\n",
            "Epoch 567/1000\n",
            "3651/3651 [==============================] - 12s 3ms/step - loss: 2.1808 - accuracy: 0.0973 - val_loss: 2.1662 - val_accuracy: 0.2044\n",
            "Epoch 568/1000\n",
            "3651/3651 [==============================] - 12s 3ms/step - loss: 2.1808 - accuracy: 0.1067 - val_loss: 2.1707 - val_accuracy: 0.0773\n",
            "Epoch 569/1000\n",
            "3651/3651 [==============================] - 12s 3ms/step - loss: 2.1808 - accuracy: 0.1056 - val_loss: 2.1698 - val_accuracy: 0.0686\n",
            "Epoch 570/1000\n",
            "3651/3651 [==============================] - 12s 3ms/step - loss: 2.1808 - accuracy: 0.1033 - val_loss: 2.1726 - val_accuracy: 0.0686\n",
            "Epoch 571/1000\n",
            "3651/3651 [==============================] - 12s 3ms/step - loss: 2.1808 - accuracy: 0.0918 - val_loss: 2.1697 - val_accuracy: 0.0743\n",
            "Epoch 572/1000\n",
            "3651/3651 [==============================] - 12s 3ms/step - loss: 2.1808 - accuracy: 0.0897 - val_loss: 2.1685 - val_accuracy: 0.0773\n",
            "Epoch 573/1000\n",
            "3651/3651 [==============================] - 12s 3ms/step - loss: 2.1808 - accuracy: 0.1012 - val_loss: 2.1695 - val_accuracy: 0.1292\n",
            "Epoch 574/1000\n",
            "3651/3651 [==============================] - 12s 3ms/step - loss: 2.1808 - accuracy: 0.1003 - val_loss: 2.1668 - val_accuracy: 0.0919\n",
            "Epoch 575/1000\n",
            "3651/3651 [==============================] - 12s 3ms/step - loss: 2.1808 - accuracy: 0.1010 - val_loss: 2.1713 - val_accuracy: 0.0804\n",
            "Epoch 576/1000\n",
            "3651/3651 [==============================] - 12s 3ms/step - loss: 2.1808 - accuracy: 0.1013 - val_loss: 2.1654 - val_accuracy: 0.2044\n",
            "Epoch 577/1000\n",
            "3651/3651 [==============================] - 13s 4ms/step - loss: 2.1808 - accuracy: 0.1105 - val_loss: 2.1679 - val_accuracy: 0.0773\n",
            "Epoch 578/1000\n",
            "3651/3651 [==============================] - 12s 3ms/step - loss: 2.1808 - accuracy: 0.0959 - val_loss: 2.1710 - val_accuracy: 0.0743\n",
            "Epoch 579/1000\n",
            "3651/3651 [==============================] - 15s 4ms/step - loss: 2.1808 - accuracy: 0.1062 - val_loss: 2.1736 - val_accuracy: 0.0743\n",
            "Epoch 580/1000\n",
            "3651/3651 [==============================] - 12s 3ms/step - loss: 2.1808 - accuracy: 0.0997 - val_loss: 2.1648 - val_accuracy: 0.2044\n",
            "Epoch 581/1000\n",
            "3651/3651 [==============================] - 12s 3ms/step - loss: 2.1808 - accuracy: 0.1097 - val_loss: 2.1682 - val_accuracy: 0.1292\n",
            "Epoch 582/1000\n",
            "3651/3651 [==============================] - 12s 3ms/step - loss: 2.1808 - accuracy: 0.1140 - val_loss: 2.1697 - val_accuracy: 0.0686\n",
            "Epoch 583/1000\n",
            "3651/3651 [==============================] - 12s 3ms/step - loss: 2.1808 - accuracy: 0.1065 - val_loss: 2.1680 - val_accuracy: 0.1292\n",
            "Epoch 584/1000\n",
            "3651/3651 [==============================] - 12s 3ms/step - loss: 2.1808 - accuracy: 0.1034 - val_loss: 2.1685 - val_accuracy: 0.1292\n",
            "Epoch 585/1000\n",
            "3651/3651 [==============================] - 12s 3ms/step - loss: 2.1808 - accuracy: 0.1013 - val_loss: 2.1673 - val_accuracy: 0.1531\n",
            "Epoch 586/1000\n",
            "3651/3651 [==============================] - 12s 3ms/step - loss: 2.1808 - accuracy: 0.1149 - val_loss: 2.1713 - val_accuracy: 0.0773\n",
            "Epoch 587/1000\n",
            "3651/3651 [==============================] - 12s 3ms/step - loss: 2.1808 - accuracy: 0.1074 - val_loss: 2.1723 - val_accuracy: 0.0743\n",
            "Epoch 588/1000\n",
            "3651/3651 [==============================] - 12s 3ms/step - loss: 2.1808 - accuracy: 0.1079 - val_loss: 2.1716 - val_accuracy: 0.0743\n",
            "Epoch 589/1000\n",
            "3651/3651 [==============================] - 13s 3ms/step - loss: 2.1808 - accuracy: 0.0956 - val_loss: 2.1709 - val_accuracy: 0.0743\n",
            "Epoch 590/1000\n",
            "3651/3651 [==============================] - 12s 3ms/step - loss: 2.1808 - accuracy: 0.1000 - val_loss: 2.1660 - val_accuracy: 0.0919\n",
            "Epoch 591/1000\n",
            "3651/3651 [==============================] - 12s 3ms/step - loss: 2.1808 - accuracy: 0.1155 - val_loss: 2.1709 - val_accuracy: 0.0804\n",
            "Epoch 592/1000\n",
            "3651/3651 [==============================] - 12s 3ms/step - loss: 2.1808 - accuracy: 0.1137 - val_loss: 2.1702 - val_accuracy: 0.0773\n",
            "Epoch 593/1000\n",
            "3651/3651 [==============================] - 12s 3ms/step - loss: 2.1808 - accuracy: 0.1011 - val_loss: 2.1703 - val_accuracy: 0.0773\n",
            "Epoch 594/1000\n",
            "3651/3651 [==============================] - 12s 3ms/step - loss: 2.1808 - accuracy: 0.1005 - val_loss: 2.1668 - val_accuracy: 0.0743\n",
            "Epoch 595/1000\n",
            "3651/3651 [==============================] - 12s 3ms/step - loss: 2.1808 - accuracy: 0.1109 - val_loss: 2.1680 - val_accuracy: 0.0686\n",
            "Epoch 596/1000\n",
            "3651/3651 [==============================] - 12s 3ms/step - loss: 2.1808 - accuracy: 0.1117 - val_loss: 2.1689 - val_accuracy: 0.0804\n",
            "Epoch 597/1000\n",
            "3651/3651 [==============================] - 12s 3ms/step - loss: 2.1808 - accuracy: 0.0971 - val_loss: 2.1678 - val_accuracy: 0.0919\n",
            "Epoch 598/1000\n",
            "3651/3651 [==============================] - 12s 3ms/step - loss: 2.1808 - accuracy: 0.1018 - val_loss: 2.1698 - val_accuracy: 0.0743\n",
            "Epoch 599/1000\n",
            "3651/3651 [==============================] - 12s 3ms/step - loss: 2.1808 - accuracy: 0.1079 - val_loss: 2.1705 - val_accuracy: 0.0919\n",
            "Epoch 600/1000\n",
            "3651/3651 [==============================] - 12s 3ms/step - loss: 2.1808 - accuracy: 0.1070 - val_loss: 2.1664 - val_accuracy: 0.1531\n",
            "Epoch 601/1000\n",
            "3651/3651 [==============================] - 12s 3ms/step - loss: 2.1808 - accuracy: 0.1061 - val_loss: 2.1663 - val_accuracy: 0.0773\n",
            "Epoch 602/1000\n",
            "3651/3651 [==============================] - 15s 4ms/step - loss: 2.1808 - accuracy: 0.0953 - val_loss: 2.1685 - val_accuracy: 0.0743\n",
            "Epoch 603/1000\n",
            "3651/3651 [==============================] - 12s 3ms/step - loss: 2.1808 - accuracy: 0.1088 - val_loss: 2.1655 - val_accuracy: 0.2044\n",
            "Epoch 604/1000\n",
            "3651/3651 [==============================] - 12s 3ms/step - loss: 2.1808 - accuracy: 0.1016 - val_loss: 2.1683 - val_accuracy: 0.0743\n",
            "Epoch 605/1000\n",
            "3651/3651 [==============================] - 12s 3ms/step - loss: 2.1808 - accuracy: 0.0950 - val_loss: 2.1681 - val_accuracy: 0.0773\n",
            "Epoch 606/1000\n",
            "3651/3651 [==============================] - 13s 3ms/step - loss: 2.1808 - accuracy: 0.0983 - val_loss: 2.1681 - val_accuracy: 0.0773\n",
            "Epoch 607/1000\n",
            "3651/3651 [==============================] - 12s 3ms/step - loss: 2.1808 - accuracy: 0.1032 - val_loss: 2.1682 - val_accuracy: 0.2044\n",
            "Epoch 608/1000\n",
            "3651/3651 [==============================] - 12s 3ms/step - loss: 2.1808 - accuracy: 0.0949 - val_loss: 2.1683 - val_accuracy: 0.1531\n",
            "Epoch 609/1000\n",
            "3651/3651 [==============================] - 12s 3ms/step - loss: 2.1808 - accuracy: 0.1062 - val_loss: 2.1679 - val_accuracy: 0.0919\n",
            "Epoch 610/1000\n",
            "3651/3651 [==============================] - 12s 3ms/step - loss: 2.1808 - accuracy: 0.1051 - val_loss: 2.1700 - val_accuracy: 0.0686\n",
            "Epoch 611/1000\n",
            "3651/3651 [==============================] - 12s 3ms/step - loss: 2.1808 - accuracy: 0.0988 - val_loss: 2.1674 - val_accuracy: 0.1292\n",
            "Epoch 612/1000\n",
            "3651/3651 [==============================] - 12s 3ms/step - loss: 2.1808 - accuracy: 0.1000 - val_loss: 2.1697 - val_accuracy: 0.0773\n",
            "Epoch 613/1000\n",
            "3651/3651 [==============================] - 12s 3ms/step - loss: 2.1808 - accuracy: 0.1034 - val_loss: 2.1668 - val_accuracy: 0.0919\n",
            "Epoch 614/1000\n",
            "3651/3651 [==============================] - 12s 3ms/step - loss: 2.1808 - accuracy: 0.0971 - val_loss: 2.1704 - val_accuracy: 0.0773\n",
            "Epoch 615/1000\n",
            "3651/3651 [==============================] - 12s 3ms/step - loss: 2.1808 - accuracy: 0.0946 - val_loss: 2.1687 - val_accuracy: 0.1531\n",
            "Epoch 616/1000\n",
            "3651/3651 [==============================] - 13s 4ms/step - loss: 2.1808 - accuracy: 0.0977 - val_loss: 2.1697 - val_accuracy: 0.0804\n",
            "Epoch 617/1000\n",
            "3651/3651 [==============================] - 12s 3ms/step - loss: 2.1808 - accuracy: 0.1038 - val_loss: 2.1710 - val_accuracy: 0.0743\n",
            "Epoch 618/1000\n",
            "3651/3651 [==============================] - 12s 3ms/step - loss: 2.1808 - accuracy: 0.0961 - val_loss: 2.1716 - val_accuracy: 0.0743\n",
            "Epoch 619/1000\n",
            "3651/3651 [==============================] - 13s 3ms/step - loss: 2.1808 - accuracy: 0.1039 - val_loss: 2.1689 - val_accuracy: 0.2044\n",
            "Epoch 620/1000\n",
            "3651/3651 [==============================] - 12s 3ms/step - loss: 2.1808 - accuracy: 0.1050 - val_loss: 2.1664 - val_accuracy: 0.0773\n",
            "Epoch 621/1000\n",
            "3651/3651 [==============================] - 13s 3ms/step - loss: 2.1808 - accuracy: 0.1003 - val_loss: 2.1686 - val_accuracy: 0.0919\n",
            "Epoch 622/1000\n",
            "3651/3651 [==============================] - 13s 3ms/step - loss: 2.1808 - accuracy: 0.1057 - val_loss: 2.1646 - val_accuracy: 0.1531\n",
            "Epoch 623/1000\n",
            "3651/3651 [==============================] - 13s 3ms/step - loss: 2.1808 - accuracy: 0.1081 - val_loss: 2.1693 - val_accuracy: 0.1531\n",
            "Epoch 624/1000\n",
            "3651/3651 [==============================] - 12s 3ms/step - loss: 2.1808 - accuracy: 0.0996 - val_loss: 2.1694 - val_accuracy: 0.0804\n",
            "Epoch 625/1000\n",
            "3651/3651 [==============================] - 15s 4ms/step - loss: 2.1808 - accuracy: 0.1105 - val_loss: 2.1696 - val_accuracy: 0.0804\n",
            "Epoch 626/1000\n",
            "3651/3651 [==============================] - 12s 3ms/step - loss: 2.1808 - accuracy: 0.0876 - val_loss: 2.1706 - val_accuracy: 0.0919\n",
            "Epoch 627/1000\n",
            "3651/3651 [==============================] - 12s 3ms/step - loss: 2.1808 - accuracy: 0.0961 - val_loss: 2.1713 - val_accuracy: 0.0919\n",
            "Epoch 628/1000\n",
            "3651/3651 [==============================] - 14s 4ms/step - loss: 2.1808 - accuracy: 0.0932 - val_loss: 2.1699 - val_accuracy: 0.1292\n",
            "Epoch 629/1000\n",
            "3651/3651 [==============================] - 13s 4ms/step - loss: 2.1808 - accuracy: 0.1093 - val_loss: 2.1689 - val_accuracy: 0.0773\n",
            "Epoch 630/1000\n",
            "3651/3651 [==============================] - 14s 4ms/step - loss: 2.1808 - accuracy: 0.1170 - val_loss: 2.1689 - val_accuracy: 0.0919\n",
            "Epoch 631/1000\n",
            "3651/3651 [==============================] - 13s 3ms/step - loss: 2.1808 - accuracy: 0.1102 - val_loss: 2.1724 - val_accuracy: 0.0686\n",
            "Epoch 632/1000\n",
            "3651/3651 [==============================] - 13s 4ms/step - loss: 2.1808 - accuracy: 0.0952 - val_loss: 2.1680 - val_accuracy: 0.0804\n",
            "Epoch 633/1000\n",
            "3651/3651 [==============================] - 14s 4ms/step - loss: 2.1808 - accuracy: 0.1117 - val_loss: 2.1692 - val_accuracy: 0.1531\n",
            "Epoch 634/1000\n",
            "3651/3651 [==============================] - 14s 4ms/step - loss: 2.1808 - accuracy: 0.1041 - val_loss: 2.1684 - val_accuracy: 0.2044\n",
            "Epoch 635/1000\n",
            "3651/3651 [==============================] - 14s 4ms/step - loss: 2.1808 - accuracy: 0.1097 - val_loss: 2.1700 - val_accuracy: 0.1531\n",
            "Epoch 636/1000\n",
            "3651/3651 [==============================] - 14s 4ms/step - loss: 2.1808 - accuracy: 0.1000 - val_loss: 2.1717 - val_accuracy: 0.0919\n",
            "Epoch 637/1000\n",
            "3651/3651 [==============================] - 13s 4ms/step - loss: 2.1808 - accuracy: 0.1000 - val_loss: 2.1713 - val_accuracy: 0.0743\n",
            "Epoch 638/1000\n",
            "3651/3651 [==============================] - 12s 3ms/step - loss: 2.1808 - accuracy: 0.0985 - val_loss: 2.1666 - val_accuracy: 0.0919\n",
            "Epoch 639/1000\n",
            "3651/3651 [==============================] - 13s 4ms/step - loss: 2.1808 - accuracy: 0.1025 - val_loss: 2.1704 - val_accuracy: 0.2044\n",
            "Epoch 640/1000\n",
            "3651/3651 [==============================] - 13s 4ms/step - loss: 2.1808 - accuracy: 0.1022 - val_loss: 2.1650 - val_accuracy: 0.2044\n",
            "Epoch 641/1000\n",
            "3651/3651 [==============================] - 13s 4ms/step - loss: 2.1808 - accuracy: 0.1068 - val_loss: 2.1712 - val_accuracy: 0.0804\n",
            "Epoch 642/1000\n",
            "3651/3651 [==============================] - 12s 3ms/step - loss: 2.1808 - accuracy: 0.0961 - val_loss: 2.1671 - val_accuracy: 0.1531\n",
            "Epoch 643/1000\n",
            "3651/3651 [==============================] - 12s 3ms/step - loss: 2.1808 - accuracy: 0.1091 - val_loss: 2.1668 - val_accuracy: 0.0686\n",
            "Epoch 644/1000\n",
            "3651/3651 [==============================] - 13s 4ms/step - loss: 2.1808 - accuracy: 0.0968 - val_loss: 2.1731 - val_accuracy: 0.0773\n",
            "Epoch 645/1000\n",
            "3651/3651 [==============================] - 12s 3ms/step - loss: 2.1808 - accuracy: 0.0967 - val_loss: 2.1687 - val_accuracy: 0.0743\n",
            "Epoch 646/1000\n",
            "3651/3651 [==============================] - 15s 4ms/step - loss: 2.1808 - accuracy: 0.0943 - val_loss: 2.1668 - val_accuracy: 0.1531\n",
            "Epoch 647/1000\n",
            "3651/3651 [==============================] - 12s 3ms/step - loss: 2.1808 - accuracy: 0.0968 - val_loss: 2.1686 - val_accuracy: 0.1292\n",
            "Epoch 648/1000\n",
            "3651/3651 [==============================] - 13s 4ms/step - loss: 2.1808 - accuracy: 0.0965 - val_loss: 2.1696 - val_accuracy: 0.0773\n",
            "Epoch 649/1000\n",
            "3651/3651 [==============================] - 13s 3ms/step - loss: 2.1808 - accuracy: 0.1045 - val_loss: 2.1684 - val_accuracy: 0.2044\n",
            "Epoch 650/1000\n",
            "3651/3651 [==============================] - 13s 3ms/step - loss: 2.1808 - accuracy: 0.0969 - val_loss: 2.1656 - val_accuracy: 0.1292\n",
            "Epoch 651/1000\n",
            "3651/3651 [==============================] - 13s 4ms/step - loss: 2.1808 - accuracy: 0.1155 - val_loss: 2.1705 - val_accuracy: 0.0919\n",
            "Epoch 652/1000\n",
            "3651/3651 [==============================] - 12s 3ms/step - loss: 2.1808 - accuracy: 0.0896 - val_loss: 2.1661 - val_accuracy: 0.2044\n",
            "Epoch 653/1000\n",
            "3651/3651 [==============================] - 13s 4ms/step - loss: 2.1808 - accuracy: 0.1096 - val_loss: 2.1684 - val_accuracy: 0.0804\n",
            "Epoch 654/1000\n",
            "3651/3651 [==============================] - 13s 3ms/step - loss: 2.1808 - accuracy: 0.1100 - val_loss: 2.1701 - val_accuracy: 0.0686\n",
            "Epoch 655/1000\n",
            "3651/3651 [==============================] - 13s 4ms/step - loss: 2.1808 - accuracy: 0.1002 - val_loss: 2.1667 - val_accuracy: 0.0804\n",
            "Epoch 656/1000\n",
            "3651/3651 [==============================] - 13s 3ms/step - loss: 2.1808 - accuracy: 0.1117 - val_loss: 2.1666 - val_accuracy: 0.0919\n",
            "Epoch 657/1000\n",
            "3651/3651 [==============================] - 12s 3ms/step - loss: 2.1808 - accuracy: 0.1130 - val_loss: 2.1682 - val_accuracy: 0.0804\n",
            "Epoch 658/1000\n",
            "3651/3651 [==============================] - 13s 4ms/step - loss: 2.1808 - accuracy: 0.1048 - val_loss: 2.1697 - val_accuracy: 0.0804\n",
            "Epoch 659/1000\n",
            "3651/3651 [==============================] - 13s 3ms/step - loss: 2.1808 - accuracy: 0.0956 - val_loss: 2.1673 - val_accuracy: 0.0919\n",
            "Epoch 660/1000\n",
            "3651/3651 [==============================] - 13s 3ms/step - loss: 2.1808 - accuracy: 0.1047 - val_loss: 2.1673 - val_accuracy: 0.0743\n",
            "Epoch 661/1000\n",
            "3651/3651 [==============================] - 13s 3ms/step - loss: 2.1808 - accuracy: 0.0969 - val_loss: 2.1651 - val_accuracy: 0.1531\n",
            "Epoch 662/1000\n",
            "3651/3651 [==============================] - 13s 4ms/step - loss: 2.1808 - accuracy: 0.1035 - val_loss: 2.1700 - val_accuracy: 0.1531\n",
            "Epoch 663/1000\n",
            "3651/3651 [==============================] - 13s 4ms/step - loss: 2.1808 - accuracy: 0.0962 - val_loss: 2.1679 - val_accuracy: 0.0804\n",
            "Epoch 664/1000\n",
            "3651/3651 [==============================] - 13s 4ms/step - loss: 2.1808 - accuracy: 0.1084 - val_loss: 2.1691 - val_accuracy: 0.2044\n",
            "Epoch 665/1000\n",
            "3651/3651 [==============================] - 13s 4ms/step - loss: 2.1808 - accuracy: 0.1017 - val_loss: 2.1678 - val_accuracy: 0.1531\n",
            "Epoch 666/1000\n",
            "3651/3651 [==============================] - 13s 3ms/step - loss: 2.1808 - accuracy: 0.1031 - val_loss: 2.1742 - val_accuracy: 0.0804\n",
            "Epoch 667/1000\n",
            "3651/3651 [==============================] - 13s 4ms/step - loss: 2.1808 - accuracy: 0.0978 - val_loss: 2.1684 - val_accuracy: 0.0804\n",
            "Epoch 668/1000\n",
            "3651/3651 [==============================] - 15s 4ms/step - loss: 2.1808 - accuracy: 0.1033 - val_loss: 2.1657 - val_accuracy: 0.1531\n",
            "Epoch 669/1000\n",
            "3651/3651 [==============================] - 14s 4ms/step - loss: 2.1808 - accuracy: 0.1119 - val_loss: 2.1708 - val_accuracy: 0.0804\n",
            "Epoch 670/1000\n",
            "3651/3651 [==============================] - 13s 3ms/step - loss: 2.1808 - accuracy: 0.0919 - val_loss: 2.1688 - val_accuracy: 0.0919\n",
            "Epoch 671/1000\n",
            "3651/3651 [==============================] - 13s 4ms/step - loss: 2.1808 - accuracy: 0.0889 - val_loss: 2.1672 - val_accuracy: 0.1292\n",
            "Epoch 672/1000\n",
            "3651/3651 [==============================] - 13s 4ms/step - loss: 2.1808 - accuracy: 0.1048 - val_loss: 2.1710 - val_accuracy: 0.0743\n",
            "Epoch 673/1000\n",
            "3651/3651 [==============================] - 13s 3ms/step - loss: 2.1808 - accuracy: 0.0928 - val_loss: 2.1723 - val_accuracy: 0.0773\n",
            "Epoch 674/1000\n",
            "3651/3651 [==============================] - 13s 4ms/step - loss: 2.1808 - accuracy: 0.0907 - val_loss: 2.1657 - val_accuracy: 0.1292\n",
            "Epoch 675/1000\n",
            "3651/3651 [==============================] - 14s 4ms/step - loss: 2.1808 - accuracy: 0.1169 - val_loss: 2.1683 - val_accuracy: 0.0919\n",
            "Epoch 676/1000\n",
            "3651/3651 [==============================] - 14s 4ms/step - loss: 2.1808 - accuracy: 0.1158 - val_loss: 2.1741 - val_accuracy: 0.0743\n",
            "Epoch 677/1000\n",
            "3651/3651 [==============================] - 13s 4ms/step - loss: 2.1808 - accuracy: 0.1106 - val_loss: 2.1668 - val_accuracy: 0.0686\n",
            "Epoch 678/1000\n",
            "3651/3651 [==============================] - 14s 4ms/step - loss: 2.1808 - accuracy: 0.0889 - val_loss: 2.1689 - val_accuracy: 0.0743\n",
            "Epoch 679/1000\n",
            "3651/3651 [==============================] - 13s 4ms/step - loss: 2.1808 - accuracy: 0.1002 - val_loss: 2.1671 - val_accuracy: 0.2044\n",
            "Epoch 680/1000\n",
            "3651/3651 [==============================] - 14s 4ms/step - loss: 2.1808 - accuracy: 0.0974 - val_loss: 2.1713 - val_accuracy: 0.0804\n",
            "Epoch 681/1000\n",
            "3651/3651 [==============================] - 14s 4ms/step - loss: 2.1808 - accuracy: 0.1097 - val_loss: 2.1701 - val_accuracy: 0.0919\n",
            "Epoch 682/1000\n",
            "3651/3651 [==============================] - 13s 4ms/step - loss: 2.1808 - accuracy: 0.0900 - val_loss: 2.1664 - val_accuracy: 0.1292\n",
            "Epoch 683/1000\n",
            "3651/3651 [==============================] - 14s 4ms/step - loss: 2.1808 - accuracy: 0.0919 - val_loss: 2.1689 - val_accuracy: 0.0743\n",
            "Epoch 684/1000\n",
            "3651/3651 [==============================] - 13s 4ms/step - loss: 2.1808 - accuracy: 0.1139 - val_loss: 2.1647 - val_accuracy: 0.1292\n",
            "Epoch 685/1000\n",
            "3651/3651 [==============================] - 14s 4ms/step - loss: 2.1808 - accuracy: 0.1093 - val_loss: 2.1683 - val_accuracy: 0.0919\n",
            "Epoch 686/1000\n",
            "3651/3651 [==============================] - 14s 4ms/step - loss: 2.1808 - accuracy: 0.1001 - val_loss: 2.1660 - val_accuracy: 0.1292\n",
            "Epoch 687/1000\n",
            "3651/3651 [==============================] - 14s 4ms/step - loss: 2.1808 - accuracy: 0.1086 - val_loss: 2.1655 - val_accuracy: 0.0686\n",
            "Epoch 688/1000\n",
            "3651/3651 [==============================] - 14s 4ms/step - loss: 2.1808 - accuracy: 0.0946 - val_loss: 2.1681 - val_accuracy: 0.2044\n",
            "Epoch 689/1000\n",
            "3651/3651 [==============================] - 17s 5ms/step - loss: 2.1808 - accuracy: 0.0988 - val_loss: 2.1703 - val_accuracy: 0.0743\n",
            "Epoch 690/1000\n",
            "3651/3651 [==============================] - 13s 4ms/step - loss: 2.1808 - accuracy: 0.1064 - val_loss: 2.1632 - val_accuracy: 0.1531\n",
            "Epoch 691/1000\n",
            "3651/3651 [==============================] - 14s 4ms/step - loss: 2.1808 - accuracy: 0.0967 - val_loss: 2.1691 - val_accuracy: 0.0919\n",
            "Epoch 692/1000\n",
            "3651/3651 [==============================] - 13s 4ms/step - loss: 2.1808 - accuracy: 0.0975 - val_loss: 2.1684 - val_accuracy: 0.0773\n",
            "Epoch 693/1000\n",
            "3651/3651 [==============================] - 14s 4ms/step - loss: 2.1808 - accuracy: 0.1038 - val_loss: 2.1670 - val_accuracy: 0.0773\n",
            "Epoch 694/1000\n",
            "3651/3651 [==============================] - 14s 4ms/step - loss: 2.1808 - accuracy: 0.1082 - val_loss: 2.1670 - val_accuracy: 0.0773\n",
            "Epoch 695/1000\n",
            "3651/3651 [==============================] - 13s 4ms/step - loss: 2.1808 - accuracy: 0.0918 - val_loss: 2.1685 - val_accuracy: 0.0773\n",
            "Epoch 696/1000\n",
            "3651/3651 [==============================] - 13s 4ms/step - loss: 2.1808 - accuracy: 0.1081 - val_loss: 2.1677 - val_accuracy: 0.0686\n",
            "Epoch 697/1000\n",
            "3651/3651 [==============================] - 13s 4ms/step - loss: 2.1808 - accuracy: 0.1042 - val_loss: 2.1694 - val_accuracy: 0.0919\n",
            "Epoch 698/1000\n",
            "3651/3651 [==============================] - 14s 4ms/step - loss: 2.1808 - accuracy: 0.0998 - val_loss: 2.1688 - val_accuracy: 0.0919\n",
            "Epoch 699/1000\n",
            "3651/3651 [==============================] - 13s 4ms/step - loss: 2.1808 - accuracy: 0.1031 - val_loss: 2.1693 - val_accuracy: 0.0686\n",
            "Epoch 700/1000\n",
            "3651/3651 [==============================] - 14s 4ms/step - loss: 2.1808 - accuracy: 0.0962 - val_loss: 2.1697 - val_accuracy: 0.0686\n",
            "Epoch 701/1000\n",
            "3651/3651 [==============================] - 13s 4ms/step - loss: 2.1808 - accuracy: 0.0991 - val_loss: 2.1652 - val_accuracy: 0.2044\n",
            "Epoch 702/1000\n",
            "3651/3651 [==============================] - 14s 4ms/step - loss: 2.1808 - accuracy: 0.1116 - val_loss: 2.1733 - val_accuracy: 0.0686\n",
            "Epoch 703/1000\n",
            "3651/3651 [==============================] - 14s 4ms/step - loss: 2.1808 - accuracy: 0.1031 - val_loss: 2.1678 - val_accuracy: 0.0919\n",
            "Epoch 704/1000\n",
            "3651/3651 [==============================] - 14s 4ms/step - loss: 2.1808 - accuracy: 0.0942 - val_loss: 2.1723 - val_accuracy: 0.0919\n",
            "Epoch 705/1000\n",
            "3651/3651 [==============================] - 14s 4ms/step - loss: 2.1808 - accuracy: 0.1013 - val_loss: 2.1701 - val_accuracy: 0.0743\n",
            "Epoch 706/1000\n",
            "3651/3651 [==============================] - 14s 4ms/step - loss: 2.1808 - accuracy: 0.0989 - val_loss: 2.1718 - val_accuracy: 0.0686\n",
            "Epoch 707/1000\n",
            "3651/3651 [==============================] - 14s 4ms/step - loss: 2.1808 - accuracy: 0.0977 - val_loss: 2.1670 - val_accuracy: 0.0743\n",
            "Epoch 708/1000\n",
            "3651/3651 [==============================] - 14s 4ms/step - loss: 2.1808 - accuracy: 0.1116 - val_loss: 2.1732 - val_accuracy: 0.0686\n",
            "Epoch 709/1000\n",
            "3651/3651 [==============================] - 16s 4ms/step - loss: 2.1808 - accuracy: 0.1061 - val_loss: 2.1712 - val_accuracy: 0.0686\n",
            "Epoch 710/1000\n",
            "3651/3651 [==============================] - 15s 4ms/step - loss: 2.1808 - accuracy: 0.0910 - val_loss: 2.1645 - val_accuracy: 0.1292\n",
            "Epoch 711/1000\n",
            "3651/3651 [==============================] - 15s 4ms/step - loss: 2.1808 - accuracy: 0.0946 - val_loss: 2.1664 - val_accuracy: 0.0743\n",
            "Epoch 712/1000\n",
            "3651/3651 [==============================] - 14s 4ms/step - loss: 2.1808 - accuracy: 0.1056 - val_loss: 2.1683 - val_accuracy: 0.0773\n",
            "Epoch 713/1000\n",
            "3651/3651 [==============================] - 14s 4ms/step - loss: 2.1808 - accuracy: 0.1100 - val_loss: 2.1700 - val_accuracy: 0.0773\n",
            "Epoch 714/1000\n",
            "3651/3651 [==============================] - 14s 4ms/step - loss: 2.1808 - accuracy: 0.0985 - val_loss: 2.1695 - val_accuracy: 0.1531\n",
            "Epoch 715/1000\n",
            "3651/3651 [==============================] - 14s 4ms/step - loss: 2.1808 - accuracy: 0.0991 - val_loss: 2.1738 - val_accuracy: 0.0773\n",
            "Epoch 716/1000\n",
            "3651/3651 [==============================] - 13s 4ms/step - loss: 2.1808 - accuracy: 0.1026 - val_loss: 2.1674 - val_accuracy: 0.2044\n",
            "Epoch 717/1000\n",
            "3651/3651 [==============================] - 14s 4ms/step - loss: 2.1808 - accuracy: 0.1075 - val_loss: 2.1699 - val_accuracy: 0.0686\n",
            "Epoch 718/1000\n",
            "3651/3651 [==============================] - 13s 4ms/step - loss: 2.1808 - accuracy: 0.0942 - val_loss: 2.1697 - val_accuracy: 0.0773\n",
            "Epoch 719/1000\n",
            "3651/3651 [==============================] - 14s 4ms/step - loss: 2.1808 - accuracy: 0.1163 - val_loss: 2.1714 - val_accuracy: 0.0743\n",
            "Epoch 720/1000\n",
            "3651/3651 [==============================] - 13s 4ms/step - loss: 2.1808 - accuracy: 0.0933 - val_loss: 2.1722 - val_accuracy: 0.0686\n",
            "Epoch 721/1000\n",
            "3651/3651 [==============================] - 13s 4ms/step - loss: 2.1808 - accuracy: 0.0908 - val_loss: 2.1686 - val_accuracy: 0.0743\n",
            "Epoch 722/1000\n",
            "3651/3651 [==============================] - 17s 5ms/step - loss: 2.1808 - accuracy: 0.1033 - val_loss: 2.1712 - val_accuracy: 0.0743\n",
            "Epoch 723/1000\n",
            "3651/3651 [==============================] - 13s 4ms/step - loss: 2.1808 - accuracy: 0.0913 - val_loss: 2.1695 - val_accuracy: 0.0773\n",
            "Epoch 724/1000\n",
            "3651/3651 [==============================] - 13s 4ms/step - loss: 2.1808 - accuracy: 0.0930 - val_loss: 2.1662 - val_accuracy: 0.1292\n",
            "Epoch 725/1000\n",
            "3651/3651 [==============================] - 13s 3ms/step - loss: 2.1808 - accuracy: 0.1112 - val_loss: 2.1640 - val_accuracy: 0.0919\n",
            "Epoch 726/1000\n",
            "3651/3651 [==============================] - 13s 4ms/step - loss: 2.1808 - accuracy: 0.1038 - val_loss: 2.1682 - val_accuracy: 0.0773\n",
            "Epoch 727/1000\n",
            "3651/3651 [==============================] - 13s 3ms/step - loss: 2.1808 - accuracy: 0.0931 - val_loss: 2.1723 - val_accuracy: 0.0743\n",
            "Epoch 728/1000\n",
            "3651/3651 [==============================] - 13s 4ms/step - loss: 2.1808 - accuracy: 0.1065 - val_loss: 2.1709 - val_accuracy: 0.0743\n",
            "Epoch 729/1000\n",
            "3651/3651 [==============================] - 13s 4ms/step - loss: 2.1808 - accuracy: 0.1021 - val_loss: 2.1684 - val_accuracy: 0.1292\n",
            "Epoch 730/1000\n",
            "3651/3651 [==============================] - 15s 4ms/step - loss: 2.1808 - accuracy: 0.1083 - val_loss: 2.1676 - val_accuracy: 0.0919\n",
            "Epoch 731/1000\n",
            "3651/3651 [==============================] - 13s 4ms/step - loss: 2.1808 - accuracy: 0.0974 - val_loss: 2.1680 - val_accuracy: 0.0804\n",
            "Epoch 732/1000\n",
            "3651/3651 [==============================] - 12s 3ms/step - loss: 2.1808 - accuracy: 0.0837 - val_loss: 2.1661 - val_accuracy: 0.1292\n",
            "Epoch 733/1000\n",
            "3651/3651 [==============================] - 13s 4ms/step - loss: 2.1808 - accuracy: 0.1052 - val_loss: 2.1683 - val_accuracy: 0.1292\n",
            "Epoch 734/1000\n",
            "3651/3651 [==============================] - 13s 3ms/step - loss: 2.1808 - accuracy: 0.1111 - val_loss: 2.1683 - val_accuracy: 0.0743\n",
            "Epoch 735/1000\n",
            "3651/3651 [==============================] - 15s 4ms/step - loss: 2.1808 - accuracy: 0.0922 - val_loss: 2.1728 - val_accuracy: 0.0773\n",
            "Epoch 736/1000\n",
            "3651/3651 [==============================] - 13s 4ms/step - loss: 2.1808 - accuracy: 0.0942 - val_loss: 2.1698 - val_accuracy: 0.0919\n",
            "Epoch 737/1000\n",
            "3651/3651 [==============================] - 13s 4ms/step - loss: 2.1808 - accuracy: 0.1025 - val_loss: 2.1674 - val_accuracy: 0.0743\n",
            "Epoch 738/1000\n",
            "3651/3651 [==============================] - 13s 4ms/step - loss: 2.1808 - accuracy: 0.0991 - val_loss: 2.1697 - val_accuracy: 0.0773\n",
            "Epoch 739/1000\n",
            "3651/3651 [==============================] - 13s 4ms/step - loss: 2.1808 - accuracy: 0.1012 - val_loss: 2.1670 - val_accuracy: 0.2044\n",
            "Epoch 740/1000\n",
            "3651/3651 [==============================] - 13s 4ms/step - loss: 2.1808 - accuracy: 0.0981 - val_loss: 2.1695 - val_accuracy: 0.0773\n",
            "Epoch 741/1000\n",
            "3651/3651 [==============================] - 12s 3ms/step - loss: 2.1808 - accuracy: 0.0975 - val_loss: 2.1667 - val_accuracy: 0.1292\n",
            "Epoch 742/1000\n",
            "3651/3651 [==============================] - 13s 4ms/step - loss: 2.1808 - accuracy: 0.1020 - val_loss: 2.1706 - val_accuracy: 0.0804\n",
            "Epoch 743/1000\n",
            "3651/3651 [==============================] - 13s 4ms/step - loss: 2.1808 - accuracy: 0.0972 - val_loss: 2.1673 - val_accuracy: 0.0743\n",
            "Epoch 744/1000\n",
            "3651/3651 [==============================] - 13s 4ms/step - loss: 2.1808 - accuracy: 0.1006 - val_loss: 2.1711 - val_accuracy: 0.0686\n",
            "Epoch 745/1000\n",
            "3651/3651 [==============================] - 13s 3ms/step - loss: 2.1808 - accuracy: 0.0901 - val_loss: 2.1689 - val_accuracy: 0.1292\n",
            "Epoch 746/1000\n",
            "3651/3651 [==============================] - 13s 4ms/step - loss: 2.1808 - accuracy: 0.0965 - val_loss: 2.1683 - val_accuracy: 0.1531\n",
            "Epoch 747/1000\n",
            "3651/3651 [==============================] - 13s 4ms/step - loss: 2.1808 - accuracy: 0.0968 - val_loss: 2.1709 - val_accuracy: 0.1292\n",
            "Epoch 748/1000\n",
            "3651/3651 [==============================] - 13s 4ms/step - loss: 2.1808 - accuracy: 0.0999 - val_loss: 2.1695 - val_accuracy: 0.0743\n",
            "Epoch 749/1000\n",
            "3651/3651 [==============================] - 14s 4ms/step - loss: 2.1808 - accuracy: 0.0991 - val_loss: 2.1719 - val_accuracy: 0.0773\n",
            "Epoch 750/1000\n",
            "3651/3651 [==============================] - 13s 4ms/step - loss: 2.1808 - accuracy: 0.1066 - val_loss: 2.1722 - val_accuracy: 0.0773\n",
            "Epoch 751/1000\n",
            "3651/3651 [==============================] - 13s 4ms/step - loss: 2.1808 - accuracy: 0.0981 - val_loss: 2.1685 - val_accuracy: 0.1292\n",
            "Epoch 752/1000\n",
            "3651/3651 [==============================] - 14s 4ms/step - loss: 2.1808 - accuracy: 0.1100 - val_loss: 2.1692 - val_accuracy: 0.0686\n",
            "Epoch 753/1000\n",
            "3651/3651 [==============================] - 14s 4ms/step - loss: 2.1808 - accuracy: 0.1105 - val_loss: 2.1723 - val_accuracy: 0.1292\n",
            "Epoch 754/1000\n",
            "3651/3651 [==============================] - 13s 4ms/step - loss: 2.1808 - accuracy: 0.1105 - val_loss: 2.1670 - val_accuracy: 0.0919\n",
            "Epoch 755/1000\n",
            "3651/3651 [==============================] - 13s 4ms/step - loss: 2.1808 - accuracy: 0.1037 - val_loss: 2.1682 - val_accuracy: 0.1531\n",
            "Epoch 756/1000\n",
            "3651/3651 [==============================] - 14s 4ms/step - loss: 2.1808 - accuracy: 0.1023 - val_loss: 2.1720 - val_accuracy: 0.0804\n",
            "Epoch 757/1000\n",
            "3651/3651 [==============================] - 13s 4ms/step - loss: 2.1808 - accuracy: 0.0972 - val_loss: 2.1690 - val_accuracy: 0.0804\n",
            "Epoch 758/1000\n",
            "3651/3651 [==============================] - 14s 4ms/step - loss: 2.1808 - accuracy: 0.1025 - val_loss: 2.1676 - val_accuracy: 0.0804\n",
            "Epoch 759/1000\n",
            "3651/3651 [==============================] - 14s 4ms/step - loss: 2.1808 - accuracy: 0.1028 - val_loss: 2.1697 - val_accuracy: 0.0919\n",
            "Epoch 760/1000\n",
            "3651/3651 [==============================] - 14s 4ms/step - loss: 2.1808 - accuracy: 0.0978 - val_loss: 2.1672 - val_accuracy: 0.0919\n",
            "Epoch 761/1000\n",
            "3651/3651 [==============================] - 13s 4ms/step - loss: 2.1808 - accuracy: 0.0945 - val_loss: 2.1689 - val_accuracy: 0.1292\n",
            "Epoch 762/1000\n",
            "3651/3651 [==============================] - 14s 4ms/step - loss: 2.1808 - accuracy: 0.0985 - val_loss: 2.1676 - val_accuracy: 0.0743\n",
            "Epoch 763/1000\n",
            "3651/3651 [==============================] - 13s 4ms/step - loss: 2.1808 - accuracy: 0.1003 - val_loss: 2.1707 - val_accuracy: 0.0773\n",
            "Epoch 764/1000\n",
            "3651/3651 [==============================] - 13s 4ms/step - loss: 2.1808 - accuracy: 0.1024 - val_loss: 2.1656 - val_accuracy: 0.1292\n",
            "Epoch 765/1000\n",
            "3651/3651 [==============================] - 13s 4ms/step - loss: 2.1808 - accuracy: 0.1122 - val_loss: 2.1683 - val_accuracy: 0.0804\n",
            "Epoch 766/1000\n",
            "3651/3651 [==============================] - 13s 4ms/step - loss: 2.1808 - accuracy: 0.1103 - val_loss: 2.1696 - val_accuracy: 0.0773\n",
            "Epoch 767/1000\n",
            "3651/3651 [==============================] - 14s 4ms/step - loss: 2.1808 - accuracy: 0.1007 - val_loss: 2.1731 - val_accuracy: 0.0686\n",
            "Epoch 768/1000\n",
            "3651/3651 [==============================] - 13s 3ms/step - loss: 2.1808 - accuracy: 0.1091 - val_loss: 2.1658 - val_accuracy: 0.2044\n",
            "Epoch 769/1000\n",
            "3651/3651 [==============================] - 14s 4ms/step - loss: 2.1808 - accuracy: 0.1091 - val_loss: 2.1695 - val_accuracy: 0.0686\n",
            "Epoch 770/1000\n",
            "3651/3651 [==============================] - 14s 4ms/step - loss: 2.1808 - accuracy: 0.0999 - val_loss: 2.1695 - val_accuracy: 0.1531\n",
            "Epoch 771/1000\n",
            "3651/3651 [==============================] - 14s 4ms/step - loss: 2.1808 - accuracy: 0.0978 - val_loss: 2.1693 - val_accuracy: 0.0804\n",
            "Epoch 772/1000\n",
            "3651/3651 [==============================] - 13s 4ms/step - loss: 2.1808 - accuracy: 0.1070 - val_loss: 2.1646 - val_accuracy: 0.0919\n",
            "Epoch 773/1000\n",
            "3651/3651 [==============================] - 15s 4ms/step - loss: 2.1808 - accuracy: 0.1159 - val_loss: 2.1708 - val_accuracy: 0.0686\n",
            "Epoch 774/1000\n",
            "3651/3651 [==============================] - 13s 4ms/step - loss: 2.1808 - accuracy: 0.0938 - val_loss: 2.1683 - val_accuracy: 0.0919\n",
            "Epoch 775/1000\n",
            "3651/3651 [==============================] - 13s 4ms/step - loss: 2.1808 - accuracy: 0.0991 - val_loss: 2.1709 - val_accuracy: 0.0686\n",
            "Epoch 776/1000\n",
            "3651/3651 [==============================] - 13s 4ms/step - loss: 2.1808 - accuracy: 0.0992 - val_loss: 2.1648 - val_accuracy: 0.0919\n",
            "Epoch 777/1000\n",
            "3651/3651 [==============================] - 13s 3ms/step - loss: 2.1808 - accuracy: 0.1034 - val_loss: 2.1684 - val_accuracy: 0.0919\n",
            "Epoch 778/1000\n",
            "3651/3651 [==============================] - 13s 4ms/step - loss: 2.1808 - accuracy: 0.0980 - val_loss: 2.1675 - val_accuracy: 0.0804\n",
            "Epoch 779/1000\n",
            "3651/3651 [==============================] - 13s 4ms/step - loss: 2.1808 - accuracy: 0.1068 - val_loss: 2.1667 - val_accuracy: 0.0773\n",
            "Epoch 780/1000\n",
            "3651/3651 [==============================] - 14s 4ms/step - loss: 2.1808 - accuracy: 0.1062 - val_loss: 2.1656 - val_accuracy: 0.0804\n",
            "Epoch 781/1000\n",
            "3651/3651 [==============================] - 15s 4ms/step - loss: 2.1808 - accuracy: 0.0995 - val_loss: 2.1685 - val_accuracy: 0.0686\n",
            "Epoch 782/1000\n",
            "3651/3651 [==============================] - 14s 4ms/step - loss: 2.1808 - accuracy: 0.1232 - val_loss: 2.1721 - val_accuracy: 0.0919\n",
            "Epoch 783/1000\n",
            "3651/3651 [==============================] - 13s 4ms/step - loss: 2.1808 - accuracy: 0.1085 - val_loss: 2.1714 - val_accuracy: 0.0919\n",
            "Epoch 784/1000\n",
            "3651/3651 [==============================] - 12s 3ms/step - loss: 2.1808 - accuracy: 0.1065 - val_loss: 2.1678 - val_accuracy: 0.2044\n",
            "Epoch 785/1000\n",
            "3651/3651 [==============================] - 13s 3ms/step - loss: 2.1808 - accuracy: 0.1092 - val_loss: 2.1653 - val_accuracy: 0.0919\n",
            "Epoch 786/1000\n",
            "3651/3651 [==============================] - 13s 4ms/step - loss: 2.1808 - accuracy: 0.0965 - val_loss: 2.1715 - val_accuracy: 0.1531\n",
            "Epoch 787/1000\n",
            "3651/3651 [==============================] - 13s 4ms/step - loss: 2.1808 - accuracy: 0.0943 - val_loss: 2.1722 - val_accuracy: 0.0773\n",
            "Epoch 788/1000\n",
            "3651/3651 [==============================] - 13s 3ms/step - loss: 2.1808 - accuracy: 0.0962 - val_loss: 2.1653 - val_accuracy: 0.2044\n",
            "Epoch 789/1000\n",
            "3651/3651 [==============================] - 13s 4ms/step - loss: 2.1808 - accuracy: 0.1190 - val_loss: 2.1665 - val_accuracy: 0.0804\n",
            "Epoch 790/1000\n",
            "3651/3651 [==============================] - 13s 3ms/step - loss: 2.1808 - accuracy: 0.1049 - val_loss: 2.1699 - val_accuracy: 0.1292\n",
            "Epoch 791/1000\n",
            "3651/3651 [==============================] - 13s 3ms/step - loss: 2.1808 - accuracy: 0.1086 - val_loss: 2.1699 - val_accuracy: 0.0804\n",
            "Epoch 792/1000\n",
            "3651/3651 [==============================] - 13s 4ms/step - loss: 2.1808 - accuracy: 0.1004 - val_loss: 2.1680 - val_accuracy: 0.1292\n",
            "Epoch 793/1000\n",
            "3651/3651 [==============================] - 14s 4ms/step - loss: 2.1808 - accuracy: 0.1017 - val_loss: 2.1701 - val_accuracy: 0.0773\n",
            "Epoch 794/1000\n",
            "3651/3651 [==============================] - 16s 4ms/step - loss: 2.1808 - accuracy: 0.1055 - val_loss: 2.1678 - val_accuracy: 0.0743\n",
            "Epoch 795/1000\n",
            "3651/3651 [==============================] - 14s 4ms/step - loss: 2.1808 - accuracy: 0.0935 - val_loss: 2.1704 - val_accuracy: 0.2044\n",
            "Epoch 796/1000\n",
            "3651/3651 [==============================] - 14s 4ms/step - loss: 2.1808 - accuracy: 0.1134 - val_loss: 2.1677 - val_accuracy: 0.2044\n",
            "Epoch 797/1000\n",
            "3651/3651 [==============================] - 13s 4ms/step - loss: 2.1808 - accuracy: 0.0995 - val_loss: 2.1710 - val_accuracy: 0.0804\n",
            "Epoch 798/1000\n",
            "3651/3651 [==============================] - 13s 4ms/step - loss: 2.1808 - accuracy: 0.0989 - val_loss: 2.1676 - val_accuracy: 0.0686\n",
            "Epoch 799/1000\n",
            "3651/3651 [==============================] - 13s 4ms/step - loss: 2.1808 - accuracy: 0.0961 - val_loss: 2.1698 - val_accuracy: 0.0743\n",
            "Epoch 800/1000\n",
            "3651/3651 [==============================] - 14s 4ms/step - loss: 2.1808 - accuracy: 0.0965 - val_loss: 2.1691 - val_accuracy: 0.0743\n",
            "Epoch 801/1000\n",
            "3651/3651 [==============================] - 13s 4ms/step - loss: 2.1808 - accuracy: 0.1122 - val_loss: 2.1739 - val_accuracy: 0.0686\n",
            "Epoch 802/1000\n",
            "3651/3651 [==============================] - 14s 4ms/step - loss: 2.1808 - accuracy: 0.0937 - val_loss: 2.1682 - val_accuracy: 0.0804\n",
            "Epoch 803/1000\n",
            "3651/3651 [==============================] - 13s 4ms/step - loss: 2.1808 - accuracy: 0.1098 - val_loss: 2.1664 - val_accuracy: 0.1531\n",
            "Epoch 804/1000\n",
            "3651/3651 [==============================] - 14s 4ms/step - loss: 2.1808 - accuracy: 0.1068 - val_loss: 2.1640 - val_accuracy: 0.1531\n",
            "Epoch 805/1000\n",
            "3651/3651 [==============================] - 14s 4ms/step - loss: 2.1808 - accuracy: 0.0984 - val_loss: 2.1688 - val_accuracy: 0.1531\n",
            "Epoch 806/1000\n",
            "3651/3651 [==============================] - 14s 4ms/step - loss: 2.1808 - accuracy: 0.1087 - val_loss: 2.1686 - val_accuracy: 0.0743\n",
            "Epoch 807/1000\n",
            "3651/3651 [==============================] - 14s 4ms/step - loss: 2.1808 - accuracy: 0.1131 - val_loss: 2.1718 - val_accuracy: 0.0919\n",
            "Epoch 808/1000\n",
            "3651/3651 [==============================] - 13s 3ms/step - loss: 2.1808 - accuracy: 0.0943 - val_loss: 2.1704 - val_accuracy: 0.0743\n",
            "Epoch 809/1000\n",
            "3651/3651 [==============================] - 13s 4ms/step - loss: 2.1808 - accuracy: 0.0947 - val_loss: 2.1659 - val_accuracy: 0.2044\n",
            "Epoch 810/1000\n",
            "3651/3651 [==============================] - 13s 4ms/step - loss: 2.1808 - accuracy: 0.1025 - val_loss: 2.1710 - val_accuracy: 0.1292\n",
            "Epoch 811/1000\n",
            "3651/3651 [==============================] - 13s 3ms/step - loss: 2.1808 - accuracy: 0.1027 - val_loss: 2.1705 - val_accuracy: 0.0743\n",
            "Epoch 812/1000\n",
            "3651/3651 [==============================] - 12s 3ms/step - loss: 2.1808 - accuracy: 0.1045 - val_loss: 2.1684 - val_accuracy: 0.1531\n",
            "Epoch 813/1000\n",
            "3651/3651 [==============================] - 13s 4ms/step - loss: 2.1808 - accuracy: 0.1063 - val_loss: 2.1703 - val_accuracy: 0.0743\n",
            "Epoch 814/1000\n",
            "3651/3651 [==============================] - 15s 4ms/step - loss: 2.1808 - accuracy: 0.0964 - val_loss: 2.1686 - val_accuracy: 0.1292\n",
            "Epoch 815/1000\n",
            "3651/3651 [==============================] - 13s 4ms/step - loss: 2.1808 - accuracy: 0.1062 - val_loss: 2.1717 - val_accuracy: 0.0686\n",
            "Epoch 816/1000\n",
            "3651/3651 [==============================] - 13s 4ms/step - loss: 2.1808 - accuracy: 0.1002 - val_loss: 2.1663 - val_accuracy: 0.0773\n",
            "Epoch 817/1000\n",
            "3651/3651 [==============================] - 12s 3ms/step - loss: 2.1808 - accuracy: 0.1096 - val_loss: 2.1682 - val_accuracy: 0.0919\n",
            "Epoch 818/1000\n",
            "3651/3651 [==============================] - 12s 3ms/step - loss: 2.1808 - accuracy: 0.1099 - val_loss: 2.1664 - val_accuracy: 0.2044\n",
            "Epoch 819/1000\n",
            "3651/3651 [==============================] - 12s 3ms/step - loss: 2.1808 - accuracy: 0.1042 - val_loss: 2.1670 - val_accuracy: 0.0919\n",
            "Epoch 820/1000\n",
            "3651/3651 [==============================] - 12s 3ms/step - loss: 2.1808 - accuracy: 0.1050 - val_loss: 2.1721 - val_accuracy: 0.0743\n",
            "Epoch 821/1000\n",
            "3651/3651 [==============================] - 12s 3ms/step - loss: 2.1808 - accuracy: 0.1106 - val_loss: 2.1736 - val_accuracy: 0.0686\n",
            "Epoch 822/1000\n",
            "3651/3651 [==============================] - 13s 3ms/step - loss: 2.1808 - accuracy: 0.0900 - val_loss: 2.1690 - val_accuracy: 0.1292\n",
            "Epoch 823/1000\n",
            "3651/3651 [==============================] - 12s 3ms/step - loss: 2.1808 - accuracy: 0.1093 - val_loss: 2.1674 - val_accuracy: 0.0804\n",
            "Epoch 824/1000\n",
            "3651/3651 [==============================] - 12s 3ms/step - loss: 2.1808 - accuracy: 0.0980 - val_loss: 2.1694 - val_accuracy: 0.0919\n",
            "Epoch 825/1000\n",
            "3651/3651 [==============================] - 12s 3ms/step - loss: 2.1808 - accuracy: 0.0917 - val_loss: 2.1675 - val_accuracy: 0.0743\n",
            "Epoch 826/1000\n",
            "3651/3651 [==============================] - 12s 3ms/step - loss: 2.1808 - accuracy: 0.1052 - val_loss: 2.1658 - val_accuracy: 0.2044\n",
            "Epoch 827/1000\n",
            "3651/3651 [==============================] - 12s 3ms/step - loss: 2.1808 - accuracy: 0.1030 - val_loss: 2.1660 - val_accuracy: 0.2044\n",
            "Epoch 828/1000\n",
            "3651/3651 [==============================] - 12s 3ms/step - loss: 2.1808 - accuracy: 0.1033 - val_loss: 2.1691 - val_accuracy: 0.1531\n",
            "Epoch 829/1000\n",
            "3651/3651 [==============================] - 13s 3ms/step - loss: 2.1808 - accuracy: 0.0997 - val_loss: 2.1691 - val_accuracy: 0.0919\n",
            "Epoch 830/1000\n",
            "3651/3651 [==============================] - 12s 3ms/step - loss: 2.1808 - accuracy: 0.0928 - val_loss: 2.1667 - val_accuracy: 0.0743\n",
            "Epoch 831/1000\n",
            "3651/3651 [==============================] - 12s 3ms/step - loss: 2.1808 - accuracy: 0.1175 - val_loss: 2.1700 - val_accuracy: 0.1292\n",
            "Epoch 832/1000\n",
            "3651/3651 [==============================] - 12s 3ms/step - loss: 2.1808 - accuracy: 0.0995 - val_loss: 2.1722 - val_accuracy: 0.0773\n",
            "Epoch 833/1000\n",
            "3651/3651 [==============================] - 13s 3ms/step - loss: 2.1808 - accuracy: 0.1021 - val_loss: 2.1683 - val_accuracy: 0.2044\n",
            "Epoch 834/1000\n",
            "3651/3651 [==============================] - 12s 3ms/step - loss: 2.1808 - accuracy: 0.1124 - val_loss: 2.1720 - val_accuracy: 0.0804\n",
            "Epoch 835/1000\n",
            "3651/3651 [==============================] - 12s 3ms/step - loss: 2.1808 - accuracy: 0.1026 - val_loss: 2.1711 - val_accuracy: 0.1292\n",
            "Epoch 836/1000\n",
            "3651/3651 [==============================] - 12s 3ms/step - loss: 2.1808 - accuracy: 0.0981 - val_loss: 2.1694 - val_accuracy: 0.0804\n",
            "Epoch 837/1000\n",
            "3651/3651 [==============================] - 14s 4ms/step - loss: 2.1808 - accuracy: 0.1167 - val_loss: 2.1717 - val_accuracy: 0.0804\n",
            "Epoch 838/1000\n",
            "3651/3651 [==============================] - 13s 3ms/step - loss: 2.1808 - accuracy: 0.1030 - val_loss: 2.1669 - val_accuracy: 0.0804\n",
            "Epoch 839/1000\n",
            "3651/3651 [==============================] - 12s 3ms/step - loss: 2.1808 - accuracy: 0.1076 - val_loss: 2.1714 - val_accuracy: 0.0804\n",
            "Epoch 840/1000\n",
            "3651/3651 [==============================] - 12s 3ms/step - loss: 2.1808 - accuracy: 0.1092 - val_loss: 2.1679 - val_accuracy: 0.2044\n",
            "Epoch 841/1000\n",
            "3651/3651 [==============================] - 12s 3ms/step - loss: 2.1808 - accuracy: 0.1085 - val_loss: 2.1677 - val_accuracy: 0.1292\n",
            "Epoch 842/1000\n",
            "3651/3651 [==============================] - 12s 3ms/step - loss: 2.1808 - accuracy: 0.0935 - val_loss: 2.1688 - val_accuracy: 0.0773\n",
            "Epoch 843/1000\n",
            "3651/3651 [==============================] - 13s 3ms/step - loss: 2.1808 - accuracy: 0.1001 - val_loss: 2.1646 - val_accuracy: 0.1531\n",
            "Epoch 844/1000\n",
            "3651/3651 [==============================] - 12s 3ms/step - loss: 2.1808 - accuracy: 0.1036 - val_loss: 2.1689 - val_accuracy: 0.0743\n",
            "Epoch 845/1000\n",
            "3651/3651 [==============================] - 12s 3ms/step - loss: 2.1808 - accuracy: 0.0987 - val_loss: 2.1684 - val_accuracy: 0.1292\n",
            "Epoch 846/1000\n",
            "3651/3651 [==============================] - 12s 3ms/step - loss: 2.1808 - accuracy: 0.1024 - val_loss: 2.1692 - val_accuracy: 0.0773\n",
            "Epoch 847/1000\n",
            "3651/3651 [==============================] - 12s 3ms/step - loss: 2.1809 - accuracy: 0.1016 - val_loss: 2.1662 - val_accuracy: 0.2044\n",
            "Epoch 848/1000\n",
            "3651/3651 [==============================] - 12s 3ms/step - loss: 2.1808 - accuracy: 0.1065 - val_loss: 2.1726 - val_accuracy: 0.0804\n",
            "Epoch 849/1000\n",
            "3651/3651 [==============================] - 12s 3ms/step - loss: 2.1808 - accuracy: 0.1010 - val_loss: 2.1676 - val_accuracy: 0.0919\n",
            "Epoch 850/1000\n",
            "3651/3651 [==============================] - 12s 3ms/step - loss: 2.1808 - accuracy: 0.1018 - val_loss: 2.1672 - val_accuracy: 0.2044\n",
            "Epoch 851/1000\n",
            "3651/3651 [==============================] - 12s 3ms/step - loss: 2.1808 - accuracy: 0.1102 - val_loss: 2.1672 - val_accuracy: 0.2044\n",
            "Epoch 852/1000\n",
            "3651/3651 [==============================] - 12s 3ms/step - loss: 2.1808 - accuracy: 0.0933 - val_loss: 2.1675 - val_accuracy: 0.0743\n",
            "Epoch 853/1000\n",
            "3651/3651 [==============================] - 12s 3ms/step - loss: 2.1808 - accuracy: 0.0984 - val_loss: 2.1658 - val_accuracy: 0.0773\n",
            "Epoch 854/1000\n",
            "3651/3651 [==============================] - 12s 3ms/step - loss: 2.1808 - accuracy: 0.0936 - val_loss: 2.1679 - val_accuracy: 0.0743\n",
            "Epoch 855/1000\n",
            "3651/3651 [==============================] - 13s 3ms/step - loss: 2.1808 - accuracy: 0.1056 - val_loss: 2.1655 - val_accuracy: 0.1531\n",
            "Epoch 856/1000\n",
            "3651/3651 [==============================] - 12s 3ms/step - loss: 2.1808 - accuracy: 0.0900 - val_loss: 2.1692 - val_accuracy: 0.1531\n",
            "Epoch 857/1000\n",
            "3651/3651 [==============================] - 13s 3ms/step - loss: 2.1808 - accuracy: 0.0992 - val_loss: 2.1737 - val_accuracy: 0.0686\n",
            "Epoch 858/1000\n",
            "3651/3651 [==============================] - 13s 3ms/step - loss: 2.1808 - accuracy: 0.1112 - val_loss: 2.1686 - val_accuracy: 0.2044\n",
            "Epoch 859/1000\n",
            "3651/3651 [==============================] - 13s 4ms/step - loss: 2.1808 - accuracy: 0.0996 - val_loss: 2.1706 - val_accuracy: 0.0804\n",
            "Epoch 860/1000\n",
            "3651/3651 [==============================] - 13s 4ms/step - loss: 2.1808 - accuracy: 0.0998 - val_loss: 2.1691 - val_accuracy: 0.0743\n",
            "Epoch 861/1000\n",
            "3651/3651 [==============================] - 12s 3ms/step - loss: 2.1808 - accuracy: 0.0956 - val_loss: 2.1678 - val_accuracy: 0.1292\n",
            "Epoch 862/1000\n",
            "3651/3651 [==============================] - 13s 3ms/step - loss: 2.1808 - accuracy: 0.0922 - val_loss: 2.1678 - val_accuracy: 0.1531\n",
            "Epoch 863/1000\n",
            "3651/3651 [==============================] - 12s 3ms/step - loss: 2.1808 - accuracy: 0.1167 - val_loss: 2.1711 - val_accuracy: 0.0686\n",
            "Epoch 864/1000\n",
            "3651/3651 [==============================] - 13s 3ms/step - loss: 2.1808 - accuracy: 0.0909 - val_loss: 2.1642 - val_accuracy: 0.0804\n",
            "Epoch 865/1000\n",
            "3651/3651 [==============================] - 12s 3ms/step - loss: 2.1808 - accuracy: 0.1129 - val_loss: 2.1695 - val_accuracy: 0.1531\n",
            "Epoch 866/1000\n",
            "3651/3651 [==============================] - 12s 3ms/step - loss: 2.1808 - accuracy: 0.1190 - val_loss: 2.1683 - val_accuracy: 0.0743\n",
            "Epoch 867/1000\n",
            "3651/3651 [==============================] - 13s 4ms/step - loss: 2.1808 - accuracy: 0.0992 - val_loss: 2.1709 - val_accuracy: 0.0773\n",
            "Epoch 868/1000\n",
            "3651/3651 [==============================] - 13s 4ms/step - loss: 2.1808 - accuracy: 0.1103 - val_loss: 2.1721 - val_accuracy: 0.0686\n",
            "Epoch 869/1000\n",
            "3651/3651 [==============================] - 13s 4ms/step - loss: 2.1808 - accuracy: 0.1079 - val_loss: 2.1707 - val_accuracy: 0.0773\n",
            "Epoch 870/1000\n",
            "3651/3651 [==============================] - 12s 3ms/step - loss: 2.1808 - accuracy: 0.1103 - val_loss: 2.1695 - val_accuracy: 0.0773\n",
            "Epoch 871/1000\n",
            "3651/3651 [==============================] - 13s 4ms/step - loss: 2.1808 - accuracy: 0.1049 - val_loss: 2.1717 - val_accuracy: 0.0743\n",
            "Epoch 872/1000\n",
            "3651/3651 [==============================] - 13s 4ms/step - loss: 2.1808 - accuracy: 0.1084 - val_loss: 2.1730 - val_accuracy: 0.0773\n",
            "Epoch 873/1000\n",
            "3651/3651 [==============================] - 13s 3ms/step - loss: 2.1808 - accuracy: 0.0891 - val_loss: 2.1712 - val_accuracy: 0.0804\n",
            "Epoch 874/1000\n",
            "3651/3651 [==============================] - 13s 4ms/step - loss: 2.1808 - accuracy: 0.0996 - val_loss: 2.1688 - val_accuracy: 0.0804\n",
            "Epoch 875/1000\n",
            "3651/3651 [==============================] - 13s 3ms/step - loss: 2.1808 - accuracy: 0.0923 - val_loss: 2.1688 - val_accuracy: 0.0686\n",
            "Epoch 876/1000\n",
            "3651/3651 [==============================] - 13s 4ms/step - loss: 2.1808 - accuracy: 0.0860 - val_loss: 2.1695 - val_accuracy: 0.0773\n",
            "Epoch 877/1000\n",
            "3651/3651 [==============================] - 13s 3ms/step - loss: 2.1808 - accuracy: 0.1020 - val_loss: 2.1681 - val_accuracy: 0.0743\n",
            "Epoch 878/1000\n",
            "3651/3651 [==============================] - 13s 4ms/step - loss: 2.1808 - accuracy: 0.1149 - val_loss: 2.1677 - val_accuracy: 0.0804\n",
            "Epoch 879/1000\n",
            "3651/3651 [==============================] - 13s 4ms/step - loss: 2.1808 - accuracy: 0.0961 - val_loss: 2.1698 - val_accuracy: 0.0773\n",
            "Epoch 880/1000\n",
            "3651/3651 [==============================] - 13s 3ms/step - loss: 2.1808 - accuracy: 0.0970 - val_loss: 2.1697 - val_accuracy: 0.0773\n",
            "Epoch 881/1000\n",
            "3651/3651 [==============================] - 13s 4ms/step - loss: 2.1808 - accuracy: 0.1051 - val_loss: 2.1698 - val_accuracy: 0.0919\n",
            "Epoch 882/1000\n",
            "3651/3651 [==============================] - 15s 4ms/step - loss: 2.1808 - accuracy: 0.0919 - val_loss: 2.1713 - val_accuracy: 0.0686\n",
            "Epoch 883/1000\n",
            "2569/3651 [====================>.........] - ETA: 3s - loss: 2.1797 - accuracy: 0.1012"
          ]
        }
      ],
      "source": [
        "start = time.time()\n",
        "#y_train_cat = tf.keras.utils.to_categorical(y_train)\n",
        "#y_validation_cat = tf.keras.utils.to_categorical(y_validation)\n",
        "model.fit(X_train, tf.keras.utils.to_categorical(y_train),validation_data=(X_val, tf.keras.utils.to_categorical(y_validation)),\n",
        "          epochs=1000, batch_size=100, class_weight=class_weights)\n",
        "end = time.time()\n",
        "print(end - start)"
      ]
    },
    {
      "cell_type": "code",
      "execution_count": null,
      "metadata": {
        "id": "58lpYuVU7Xlo"
      },
      "outputs": [],
      "source": [
        "y_pred_train = model.predict(X_train)\n",
        "y_pred_train = np.argmax(y_pred_train, axis=1)"
      ]
    },
    {
      "cell_type": "code",
      "execution_count": null,
      "metadata": {
        "id": "JjNrxtY07Xlo"
      },
      "outputs": [],
      "source": [
        "y_pred_validation = model.predict(x_validation)\n",
        "y_pred_validation = np.argmax(y_pred_validation, axis=1)\n"
      ]
    },
    {
      "cell_type": "code",
      "execution_count": null,
      "metadata": {
        "colab": {
          "base_uri": "https://localhost:8080/"
        },
        "id": "8XbFuTSz7Xlo",
        "outputId": "21ae8149-044b-495c-dd70-5f0c9a56458c"
      },
      "outputs": [
        {
          "name": "stdout",
          "output_type": "stream",
          "text": [
            "0.48721790313720703\n",
            "(19038, 51)\n"
          ]
        }
      ],
      "source": [
        "start = time.time()\n",
        "#y_pred_test =  np.argmax(model.predict(x_test), axis=1)\n",
        "y_pred_test =  model.predict(x_test)\n",
        "end = time.time()\n",
        "print(end - start)\n",
        "print(x_test.shape)\n",
        "y_pred_test = np.argmax(y_pred_test, axis=1)\n"
      ]
    },
    {
      "cell_type": "code",
      "execution_count": null,
      "metadata": {
        "colab": {
          "base_uri": "https://localhost:8080/"
        },
        "id": "rUkmLcJg7Xlo",
        "outputId": "aa10b9c4-c358-418d-a74f-d240a78c3548"
      },
      "outputs": [
        {
          "name": "stdout",
          "output_type": "stream",
          "text": [
            "              precision    recall  f1-score   support\n",
            "\n",
            "      Normal     0.9986    0.9998    0.9992     13307\n",
            "      attack     1.0000    0.9999    0.9999    140892\n",
            "\n",
            "    accuracy                         0.9999    154199\n",
            "   macro avg     0.9993    0.9999    0.9996    154199\n",
            "weighted avg     0.9999    0.9999    0.9999    154199\n",
            "\n"
          ]
        }
      ],
      "source": [
        "compute_classification_report(y_train, y_pred_train)"
      ]
    },
    {
      "cell_type": "code",
      "execution_count": null,
      "metadata": {
        "colab": {
          "base_uri": "https://localhost:8080/"
        },
        "id": "SezOwNTc7Xlo",
        "outputId": "de643ef4-6d77-4f41-d326-223c7e086155"
      },
      "outputs": [
        {
          "name": "stdout",
          "output_type": "stream",
          "text": [
            "              precision    recall  f1-score   support\n",
            "\n",
            "      Normal     0.9960    1.0000    0.9980      1478\n",
            "      attack     1.0000    0.9996    0.9998     15656\n",
            "\n",
            "    accuracy                         0.9996     17134\n",
            "   macro avg     0.9980    0.9998    0.9989     17134\n",
            "weighted avg     0.9997    0.9996    0.9997     17134\n",
            "\n"
          ]
        }
      ],
      "source": [
        "compute_classification_report(y_validation, y_pred_validation)"
      ]
    },
    {
      "cell_type": "code",
      "execution_count": null,
      "metadata": {
        "colab": {
          "base_uri": "https://localhost:8080/"
        },
        "id": "EbOZvN6X7Xlo",
        "outputId": "779061a4-b360-4e0c-bbfc-e6f134b0ff28"
      },
      "outputs": [
        {
          "name": "stdout",
          "output_type": "stream",
          "text": [
            "              precision    recall  f1-score   support\n",
            "\n",
            "      Normal     0.9994    0.9994    0.9994      1643\n",
            "      attack     0.9999    0.9999    0.9999     17395\n",
            "\n",
            "    accuracy                         0.9999     19038\n",
            "   macro avg     0.9997    0.9997    0.9997     19038\n",
            "weighted avg     0.9999    0.9999    0.9999     19038\n",
            "\n"
          ]
        }
      ],
      "source": [
        "compute_classification_report(y_test, y_pred_test)"
      ]
    }
  ],
  "metadata": {
    "colab": {
      "provenance": []
    },
    "kernelspec": {
      "display_name": "Python 3",
      "name": "python3"
    },
    "language_info": {
      "name": "python"
    }
  },
  "nbformat": 4,
  "nbformat_minor": 0
}
